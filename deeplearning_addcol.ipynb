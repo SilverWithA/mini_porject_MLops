{
  "cells": [
    {
      "cell_type": "markdown",
      "source": [
        "#  GCP에서 데이터 불러오기"
      ],
      "metadata": {
        "id": "wxAKtTniV-1v"
      }
    },
    {
      "cell_type": "code",
      "source": [
        "# @title Setup\n",
        "from google.colab import auth\n",
        "from google.cloud import bigquery\n",
        "from google.colab import data_table\n",
        "\n",
        "project = 'avian-slice-386906' # Project ID inserted based on the query results selected to explore\n",
        "location = 'US' # Location inserted based on the query results selected to explore\n",
        "client = bigquery.Client(project=project, location=location)\n",
        "data_table.enable_dataframe_formatter()\n",
        "auth.authenticate_user()\n",
        "\n",
        "# Running this code will display the query used to generate your previous job\n",
        "\n",
        "job = client.get_job('bquxjob_7feb50ab_188dcc57816') # Job ID inserted based on the query results selected to explore\n",
        "print(job.query)\n",
        "\n",
        "# Running this code will read results from your previous job\n",
        "\n",
        "job = client.get_job('bquxjob_7feb50ab_188dcc57816') # Job ID inserted based on the query results selected to explore\n",
        "results = job.to_dataframe()\n",
        "results"
      ],
      "metadata": {
        "colab": {
          "base_uri": "https://localhost:8080/",
          "height": 697
        },
        "id": "SAs3BTMsx3nY",
        "outputId": "3d269416-2eb8-452a-92d0-be6332027ac7"
      },
      "execution_count": 162,
      "outputs": [
        {
          "output_type": "stream",
          "name": "stdout",
          "text": [
            "SELECT * FROM `avian-slice-386906.Linear.temp_new2`;\n",
            "Warning: total number of rows (2517206) exceeds max_rows (20000). Falling back to pandas display.\n"
          ]
        },
        {
          "output_type": "execute_result",
          "data": {
            "text/plain": [
              "                             USER_ID_hash                  REG_DATE SEX_ID  \\\n",
              "0        7d4dc5d0bd30c6fb8668f67f696085b7 2011-05-25 19:45:01+00:00      f   \n",
              "1        686fd9cbff7e99eadac346a0992cc668 2010-11-17 09:47:58+00:00      f   \n",
              "2        595c43fd0e5cdcba9c6a021eabd3e36a 2010-09-20 19:36:08+00:00      f   \n",
              "3        dfe5d0e1953ec56ad840ca8f5c7839e4 2011-11-10 02:03:08+00:00      m   \n",
              "4        b1fb96b3f0c3ef09050f4eae952d7796 2011-07-11 12:42:34+00:00      f   \n",
              "...                                   ...                       ...    ...   \n",
              "2517201  271d5aff4abea5273ecbb76485e1107e 2010-11-05 13:37:18+00:00      m   \n",
              "2517202  fcd95b0164022d85b23ed5cec88e7462 2011-08-31 21:55:13+00:00      m   \n",
              "2517203  3a2686d2d2a31f6d507fb915e2eb21e8 2011-05-29 20:15:09+00:00      m   \n",
              "2517204  326c5552ade21b06343bca422b3a60f7 2011-02-21 13:48:07+00:00      f   \n",
              "2517205  d5b6613462a6133b03158e9bf68d5403 2011-01-13 12:08:58+00:00      f   \n",
              "\n",
              "         AGE Tr_Pref_Name Tr_small_area_name Translated_capsule_text  \\\n",
              "0         53         홋카이도  신주코・타카다바바・나카노・요시노                      택배   \n",
              "1         64          치바현  신주코・타카다바바・나카노・요시노                      택배   \n",
              "2         48          도쿄도       아카사카・로폰기・아자부                      택배   \n",
              "3         48          시가현                 기후                      택배   \n",
              "4         42         None                아이치                      택배   \n",
              "...      ...          ...                ...                     ...   \n",
              "2517201   45          도쿄도               후쿠오카                 게스트 하우스   \n",
              "2517202   27          효고현               후쿠오카                 게스트 하우스   \n",
              "2517203   64        사이타마현                 꾸마                 게스트 하우스   \n",
              "2517204   41          치바현                 꾸마                 게스트 하우스   \n",
              "2517205   61          도쿄도                 꾸마                 게스트 하우스   \n",
              "\n",
              "        Translated_genre_name               VIEW_COUPON_ID_hash  \\\n",
              "0                          택배  000fb2d3790cd8860e337290db189abe   \n",
              "1                          택배  000fb2d3790cd8860e337290db189abe   \n",
              "2                          택배  001bfef329189383f85fcd9f34ea7591   \n",
              "3                          택배  0059b29634aa04d0aed566844200c0b3   \n",
              "4                          택배  007cbef313067c109c2bdeae253bc133   \n",
              "...                       ...                               ...   \n",
              "2517201                 호텔・여관  a4159dab48e228e5d477dcd0607d16cc   \n",
              "2517202                 호텔・여관  b5328e26af82f3b1a7a7948d8f5d6b7b   \n",
              "2517203                 호텔・여관  ec41335c6b0dd0838bff677462745095   \n",
              "2517204                 호텔・여관  ec41335c6b0dd0838bff677462745095   \n",
              "2517205                 호텔・여관  ec41335c6b0dd0838bff677462745095   \n",
              "\n",
              "         usable_date_sum  ...  usable_date_tue  usable_date_wed  \\\n",
              "0                      0  ...                0                0   \n",
              "1                      0  ...                0                0   \n",
              "2                      0  ...                0                0   \n",
              "3                      0  ...                0                0   \n",
              "4                      0  ...                0                0   \n",
              "...                  ...  ...              ...              ...   \n",
              "2517201                6  ...                1                1   \n",
              "2517202                6  ...                1                1   \n",
              "2517203                9  ...                1                1   \n",
              "2517204                9  ...                1                1   \n",
              "2517205                9  ...                1                1   \n",
              "\n",
              "         usable_date_thu  usable_date_fri  usable_date_sat  usable_date_sun  \\\n",
              "0                      0                0                0                0   \n",
              "1                      0                0                0                0   \n",
              "2                      0                0                0                0   \n",
              "3                      0                0                0                0   \n",
              "4                      0                0                0                0   \n",
              "...                  ...              ...              ...              ...   \n",
              "2517201                1                1                1                0   \n",
              "2517202                1                1                1                0   \n",
              "2517203                1                1                1                1   \n",
              "2517204                1                1                1                1   \n",
              "2517205                1                1                1                1   \n",
              "\n",
              "        usable_date_holiday usable_date_before_holiday  Male  Female  \n",
              "0                         0                          0     0       1  \n",
              "1                         0                          0     0       1  \n",
              "2                         0                          0     0       1  \n",
              "3                         0                          0     1       0  \n",
              "4                         0                          0     0       1  \n",
              "...                     ...                        ...   ...     ...  \n",
              "2517201                   0                          0     1       0  \n",
              "2517202                   0                          0     1       0  \n",
              "2517203                   1                          1     1       0  \n",
              "2517204                   1                          1     0       1  \n",
              "2517205                   1                          1     0       1  \n",
              "\n",
              "[2517206 rows x 29 columns]"
            ],
            "text/html": [
              "\n",
              "  <div id=\"df-bc20a0d3-b561-4b83-ae4f-45fdc4cbd095\">\n",
              "    <div class=\"colab-df-container\">\n",
              "      <div>\n",
              "<style scoped>\n",
              "    .dataframe tbody tr th:only-of-type {\n",
              "        vertical-align: middle;\n",
              "    }\n",
              "\n",
              "    .dataframe tbody tr th {\n",
              "        vertical-align: top;\n",
              "    }\n",
              "\n",
              "    .dataframe thead th {\n",
              "        text-align: right;\n",
              "    }\n",
              "</style>\n",
              "<table border=\"1\" class=\"dataframe\">\n",
              "  <thead>\n",
              "    <tr style=\"text-align: right;\">\n",
              "      <th></th>\n",
              "      <th>USER_ID_hash</th>\n",
              "      <th>REG_DATE</th>\n",
              "      <th>SEX_ID</th>\n",
              "      <th>AGE</th>\n",
              "      <th>Tr_Pref_Name</th>\n",
              "      <th>Tr_small_area_name</th>\n",
              "      <th>Translated_capsule_text</th>\n",
              "      <th>Translated_genre_name</th>\n",
              "      <th>VIEW_COUPON_ID_hash</th>\n",
              "      <th>usable_date_sum</th>\n",
              "      <th>...</th>\n",
              "      <th>usable_date_tue</th>\n",
              "      <th>usable_date_wed</th>\n",
              "      <th>usable_date_thu</th>\n",
              "      <th>usable_date_fri</th>\n",
              "      <th>usable_date_sat</th>\n",
              "      <th>usable_date_sun</th>\n",
              "      <th>usable_date_holiday</th>\n",
              "      <th>usable_date_before_holiday</th>\n",
              "      <th>Male</th>\n",
              "      <th>Female</th>\n",
              "    </tr>\n",
              "  </thead>\n",
              "  <tbody>\n",
              "    <tr>\n",
              "      <th>0</th>\n",
              "      <td>7d4dc5d0bd30c6fb8668f67f696085b7</td>\n",
              "      <td>2011-05-25 19:45:01+00:00</td>\n",
              "      <td>f</td>\n",
              "      <td>53</td>\n",
              "      <td>홋카이도</td>\n",
              "      <td>신주코・타카다바바・나카노・요시노</td>\n",
              "      <td>택배</td>\n",
              "      <td>택배</td>\n",
              "      <td>000fb2d3790cd8860e337290db189abe</td>\n",
              "      <td>0</td>\n",
              "      <td>...</td>\n",
              "      <td>0</td>\n",
              "      <td>0</td>\n",
              "      <td>0</td>\n",
              "      <td>0</td>\n",
              "      <td>0</td>\n",
              "      <td>0</td>\n",
              "      <td>0</td>\n",
              "      <td>0</td>\n",
              "      <td>0</td>\n",
              "      <td>1</td>\n",
              "    </tr>\n",
              "    <tr>\n",
              "      <th>1</th>\n",
              "      <td>686fd9cbff7e99eadac346a0992cc668</td>\n",
              "      <td>2010-11-17 09:47:58+00:00</td>\n",
              "      <td>f</td>\n",
              "      <td>64</td>\n",
              "      <td>치바현</td>\n",
              "      <td>신주코・타카다바바・나카노・요시노</td>\n",
              "      <td>택배</td>\n",
              "      <td>택배</td>\n",
              "      <td>000fb2d3790cd8860e337290db189abe</td>\n",
              "      <td>0</td>\n",
              "      <td>...</td>\n",
              "      <td>0</td>\n",
              "      <td>0</td>\n",
              "      <td>0</td>\n",
              "      <td>0</td>\n",
              "      <td>0</td>\n",
              "      <td>0</td>\n",
              "      <td>0</td>\n",
              "      <td>0</td>\n",
              "      <td>0</td>\n",
              "      <td>1</td>\n",
              "    </tr>\n",
              "    <tr>\n",
              "      <th>2</th>\n",
              "      <td>595c43fd0e5cdcba9c6a021eabd3e36a</td>\n",
              "      <td>2010-09-20 19:36:08+00:00</td>\n",
              "      <td>f</td>\n",
              "      <td>48</td>\n",
              "      <td>도쿄도</td>\n",
              "      <td>아카사카・로폰기・아자부</td>\n",
              "      <td>택배</td>\n",
              "      <td>택배</td>\n",
              "      <td>001bfef329189383f85fcd9f34ea7591</td>\n",
              "      <td>0</td>\n",
              "      <td>...</td>\n",
              "      <td>0</td>\n",
              "      <td>0</td>\n",
              "      <td>0</td>\n",
              "      <td>0</td>\n",
              "      <td>0</td>\n",
              "      <td>0</td>\n",
              "      <td>0</td>\n",
              "      <td>0</td>\n",
              "      <td>0</td>\n",
              "      <td>1</td>\n",
              "    </tr>\n",
              "    <tr>\n",
              "      <th>3</th>\n",
              "      <td>dfe5d0e1953ec56ad840ca8f5c7839e4</td>\n",
              "      <td>2011-11-10 02:03:08+00:00</td>\n",
              "      <td>m</td>\n",
              "      <td>48</td>\n",
              "      <td>시가현</td>\n",
              "      <td>기후</td>\n",
              "      <td>택배</td>\n",
              "      <td>택배</td>\n",
              "      <td>0059b29634aa04d0aed566844200c0b3</td>\n",
              "      <td>0</td>\n",
              "      <td>...</td>\n",
              "      <td>0</td>\n",
              "      <td>0</td>\n",
              "      <td>0</td>\n",
              "      <td>0</td>\n",
              "      <td>0</td>\n",
              "      <td>0</td>\n",
              "      <td>0</td>\n",
              "      <td>0</td>\n",
              "      <td>1</td>\n",
              "      <td>0</td>\n",
              "    </tr>\n",
              "    <tr>\n",
              "      <th>4</th>\n",
              "      <td>b1fb96b3f0c3ef09050f4eae952d7796</td>\n",
              "      <td>2011-07-11 12:42:34+00:00</td>\n",
              "      <td>f</td>\n",
              "      <td>42</td>\n",
              "      <td>None</td>\n",
              "      <td>아이치</td>\n",
              "      <td>택배</td>\n",
              "      <td>택배</td>\n",
              "      <td>007cbef313067c109c2bdeae253bc133</td>\n",
              "      <td>0</td>\n",
              "      <td>...</td>\n",
              "      <td>0</td>\n",
              "      <td>0</td>\n",
              "      <td>0</td>\n",
              "      <td>0</td>\n",
              "      <td>0</td>\n",
              "      <td>0</td>\n",
              "      <td>0</td>\n",
              "      <td>0</td>\n",
              "      <td>0</td>\n",
              "      <td>1</td>\n",
              "    </tr>\n",
              "    <tr>\n",
              "      <th>...</th>\n",
              "      <td>...</td>\n",
              "      <td>...</td>\n",
              "      <td>...</td>\n",
              "      <td>...</td>\n",
              "      <td>...</td>\n",
              "      <td>...</td>\n",
              "      <td>...</td>\n",
              "      <td>...</td>\n",
              "      <td>...</td>\n",
              "      <td>...</td>\n",
              "      <td>...</td>\n",
              "      <td>...</td>\n",
              "      <td>...</td>\n",
              "      <td>...</td>\n",
              "      <td>...</td>\n",
              "      <td>...</td>\n",
              "      <td>...</td>\n",
              "      <td>...</td>\n",
              "      <td>...</td>\n",
              "      <td>...</td>\n",
              "      <td>...</td>\n",
              "    </tr>\n",
              "    <tr>\n",
              "      <th>2517201</th>\n",
              "      <td>271d5aff4abea5273ecbb76485e1107e</td>\n",
              "      <td>2010-11-05 13:37:18+00:00</td>\n",
              "      <td>m</td>\n",
              "      <td>45</td>\n",
              "      <td>도쿄도</td>\n",
              "      <td>후쿠오카</td>\n",
              "      <td>게스트 하우스</td>\n",
              "      <td>호텔・여관</td>\n",
              "      <td>a4159dab48e228e5d477dcd0607d16cc</td>\n",
              "      <td>6</td>\n",
              "      <td>...</td>\n",
              "      <td>1</td>\n",
              "      <td>1</td>\n",
              "      <td>1</td>\n",
              "      <td>1</td>\n",
              "      <td>1</td>\n",
              "      <td>0</td>\n",
              "      <td>0</td>\n",
              "      <td>0</td>\n",
              "      <td>1</td>\n",
              "      <td>0</td>\n",
              "    </tr>\n",
              "    <tr>\n",
              "      <th>2517202</th>\n",
              "      <td>fcd95b0164022d85b23ed5cec88e7462</td>\n",
              "      <td>2011-08-31 21:55:13+00:00</td>\n",
              "      <td>m</td>\n",
              "      <td>27</td>\n",
              "      <td>효고현</td>\n",
              "      <td>후쿠오카</td>\n",
              "      <td>게스트 하우스</td>\n",
              "      <td>호텔・여관</td>\n",
              "      <td>b5328e26af82f3b1a7a7948d8f5d6b7b</td>\n",
              "      <td>6</td>\n",
              "      <td>...</td>\n",
              "      <td>1</td>\n",
              "      <td>1</td>\n",
              "      <td>1</td>\n",
              "      <td>1</td>\n",
              "      <td>1</td>\n",
              "      <td>0</td>\n",
              "      <td>0</td>\n",
              "      <td>0</td>\n",
              "      <td>1</td>\n",
              "      <td>0</td>\n",
              "    </tr>\n",
              "    <tr>\n",
              "      <th>2517203</th>\n",
              "      <td>3a2686d2d2a31f6d507fb915e2eb21e8</td>\n",
              "      <td>2011-05-29 20:15:09+00:00</td>\n",
              "      <td>m</td>\n",
              "      <td>64</td>\n",
              "      <td>사이타마현</td>\n",
              "      <td>꾸마</td>\n",
              "      <td>게스트 하우스</td>\n",
              "      <td>호텔・여관</td>\n",
              "      <td>ec41335c6b0dd0838bff677462745095</td>\n",
              "      <td>9</td>\n",
              "      <td>...</td>\n",
              "      <td>1</td>\n",
              "      <td>1</td>\n",
              "      <td>1</td>\n",
              "      <td>1</td>\n",
              "      <td>1</td>\n",
              "      <td>1</td>\n",
              "      <td>1</td>\n",
              "      <td>1</td>\n",
              "      <td>1</td>\n",
              "      <td>0</td>\n",
              "    </tr>\n",
              "    <tr>\n",
              "      <th>2517204</th>\n",
              "      <td>326c5552ade21b06343bca422b3a60f7</td>\n",
              "      <td>2011-02-21 13:48:07+00:00</td>\n",
              "      <td>f</td>\n",
              "      <td>41</td>\n",
              "      <td>치바현</td>\n",
              "      <td>꾸마</td>\n",
              "      <td>게스트 하우스</td>\n",
              "      <td>호텔・여관</td>\n",
              "      <td>ec41335c6b0dd0838bff677462745095</td>\n",
              "      <td>9</td>\n",
              "      <td>...</td>\n",
              "      <td>1</td>\n",
              "      <td>1</td>\n",
              "      <td>1</td>\n",
              "      <td>1</td>\n",
              "      <td>1</td>\n",
              "      <td>1</td>\n",
              "      <td>1</td>\n",
              "      <td>1</td>\n",
              "      <td>0</td>\n",
              "      <td>1</td>\n",
              "    </tr>\n",
              "    <tr>\n",
              "      <th>2517205</th>\n",
              "      <td>d5b6613462a6133b03158e9bf68d5403</td>\n",
              "      <td>2011-01-13 12:08:58+00:00</td>\n",
              "      <td>f</td>\n",
              "      <td>61</td>\n",
              "      <td>도쿄도</td>\n",
              "      <td>꾸마</td>\n",
              "      <td>게스트 하우스</td>\n",
              "      <td>호텔・여관</td>\n",
              "      <td>ec41335c6b0dd0838bff677462745095</td>\n",
              "      <td>9</td>\n",
              "      <td>...</td>\n",
              "      <td>1</td>\n",
              "      <td>1</td>\n",
              "      <td>1</td>\n",
              "      <td>1</td>\n",
              "      <td>1</td>\n",
              "      <td>1</td>\n",
              "      <td>1</td>\n",
              "      <td>1</td>\n",
              "      <td>0</td>\n",
              "      <td>1</td>\n",
              "    </tr>\n",
              "  </tbody>\n",
              "</table>\n",
              "<p>2517206 rows × 29 columns</p>\n",
              "</div>\n",
              "      <button class=\"colab-df-convert\" onclick=\"convertToInteractive('df-bc20a0d3-b561-4b83-ae4f-45fdc4cbd095')\"\n",
              "              title=\"Convert this dataframe to an interactive table.\"\n",
              "              style=\"display:none;\">\n",
              "        \n",
              "  <svg xmlns=\"http://www.w3.org/2000/svg\" height=\"24px\"viewBox=\"0 0 24 24\"\n",
              "       width=\"24px\">\n",
              "    <path d=\"M0 0h24v24H0V0z\" fill=\"none\"/>\n",
              "    <path d=\"M18.56 5.44l.94 2.06.94-2.06 2.06-.94-2.06-.94-.94-2.06-.94 2.06-2.06.94zm-11 1L8.5 8.5l.94-2.06 2.06-.94-2.06-.94L8.5 2.5l-.94 2.06-2.06.94zm10 10l.94 2.06.94-2.06 2.06-.94-2.06-.94-.94-2.06-.94 2.06-2.06.94z\"/><path d=\"M17.41 7.96l-1.37-1.37c-.4-.4-.92-.59-1.43-.59-.52 0-1.04.2-1.43.59L10.3 9.45l-7.72 7.72c-.78.78-.78 2.05 0 2.83L4 21.41c.39.39.9.59 1.41.59.51 0 1.02-.2 1.41-.59l7.78-7.78 2.81-2.81c.8-.78.8-2.07 0-2.86zM5.41 20L4 18.59l7.72-7.72 1.47 1.35L5.41 20z\"/>\n",
              "  </svg>\n",
              "      </button>\n",
              "      \n",
              "  <style>\n",
              "    .colab-df-container {\n",
              "      display:flex;\n",
              "      flex-wrap:wrap;\n",
              "      gap: 12px;\n",
              "    }\n",
              "\n",
              "    .colab-df-convert {\n",
              "      background-color: #E8F0FE;\n",
              "      border: none;\n",
              "      border-radius: 50%;\n",
              "      cursor: pointer;\n",
              "      display: none;\n",
              "      fill: #1967D2;\n",
              "      height: 32px;\n",
              "      padding: 0 0 0 0;\n",
              "      width: 32px;\n",
              "    }\n",
              "\n",
              "    .colab-df-convert:hover {\n",
              "      background-color: #E2EBFA;\n",
              "      box-shadow: 0px 1px 2px rgba(60, 64, 67, 0.3), 0px 1px 3px 1px rgba(60, 64, 67, 0.15);\n",
              "      fill: #174EA6;\n",
              "    }\n",
              "\n",
              "    [theme=dark] .colab-df-convert {\n",
              "      background-color: #3B4455;\n",
              "      fill: #D2E3FC;\n",
              "    }\n",
              "\n",
              "    [theme=dark] .colab-df-convert:hover {\n",
              "      background-color: #434B5C;\n",
              "      box-shadow: 0px 1px 3px 1px rgba(0, 0, 0, 0.15);\n",
              "      filter: drop-shadow(0px 1px 2px rgba(0, 0, 0, 0.3));\n",
              "      fill: #FFFFFF;\n",
              "    }\n",
              "  </style>\n",
              "\n",
              "      <script>\n",
              "        const buttonEl =\n",
              "          document.querySelector('#df-bc20a0d3-b561-4b83-ae4f-45fdc4cbd095 button.colab-df-convert');\n",
              "        buttonEl.style.display =\n",
              "          google.colab.kernel.accessAllowed ? 'block' : 'none';\n",
              "\n",
              "        async function convertToInteractive(key) {\n",
              "          const element = document.querySelector('#df-bc20a0d3-b561-4b83-ae4f-45fdc4cbd095');\n",
              "          const dataTable =\n",
              "            await google.colab.kernel.invokeFunction('convertToInteractive',\n",
              "                                                     [key], {});\n",
              "          if (!dataTable) return;\n",
              "\n",
              "          const docLinkHtml = 'Like what you see? Visit the ' +\n",
              "            '<a target=\"_blank\" href=https://colab.research.google.com/notebooks/data_table.ipynb>data table notebook</a>'\n",
              "            + ' to learn more about interactive tables.';\n",
              "          element.innerHTML = '';\n",
              "          dataTable['output_type'] = 'display_data';\n",
              "          await google.colab.output.renderOutput(dataTable, element);\n",
              "          const docLink = document.createElement('div');\n",
              "          docLink.innerHTML = docLinkHtml;\n",
              "          element.appendChild(docLink);\n",
              "        }\n",
              "      </script>\n",
              "    </div>\n",
              "  </div>\n",
              "  "
            ]
          },
          "metadata": {},
          "execution_count": 162
        }
      ]
    },
    {
      "cell_type": "markdown",
      "source": [
        "# 2. 데이터 확인하기"
      ],
      "metadata": {
        "id": "n9GZEM9OWGIu"
      }
    },
    {
      "cell_type": "markdown",
      "metadata": {
        "id": "84Ub57pbB6EN"
      },
      "source": [
        "## Show descriptive statistics using describe()\n",
        "Use the ```pandas DataFrame.describe()```\n",
        "[method](https://pandas.pydata.org/docs/reference/api/pandas.DataFrame.describe.html)\n",
        "to generate descriptive statistics. Descriptive statistics include those that\n",
        "summarize the central tendency, dispersion and shape of a dataset’s\n",
        "distribution, excluding ```NaN``` values. You may also use other Python methods\n",
        "to interact with your data."
      ]
    },
    {
      "cell_type": "code",
      "execution_count": 163,
      "metadata": {
        "id": "fsAsHoWDZMpv",
        "outputId": "fc42f498-275f-4887-e72e-9c6d05bb23d5",
        "colab": {
          "base_uri": "https://localhost:8080/",
          "height": 276
        }
      },
      "outputs": [
        {
          "output_type": "execute_result",
          "data": {
            "text/plain": [
              "             AGE  usable_date_sum   view_count  PRICE_RATE  DISCOUNT_PRICE  \\\n",
              "count  2517206.0        2517206.0    2517206.0   2517206.0       2517206.0   \n",
              "mean   47.300553         5.079688   432.860096   58.339597     4279.764005   \n",
              "std     11.23943         4.170009  1176.083429   12.241049     5486.773682   \n",
              "min         15.0              0.0          1.0         0.0             0.0   \n",
              "25%         39.0              0.0        108.0        50.0          1470.0   \n",
              "50%         48.0              8.0        216.0        52.0          2500.0   \n",
              "75%         55.0              9.0        435.0        64.0          4900.0   \n",
              "max         80.0              9.0      14779.0       100.0        100000.0   \n",
              "\n",
              "        VALIDPERIOD  DISPPERIOD  PURCHASE_FLG  usable_date_mon  \\\n",
              "count     2517206.0   2517206.0     2517206.0        2517206.0   \n",
              "mean   10804.253592    3.786802      0.048621         0.582664   \n",
              "std    14228.368037    3.000429      0.215074         0.493119   \n",
              "min             1.0         0.0           0.0              0.0   \n",
              "25%          3249.0         3.0           0.0              0.0   \n",
              "50%          6000.0         3.0           0.0              1.0   \n",
              "75%         13200.0         4.0           0.0              1.0   \n",
              "max        680000.0        36.0           1.0              1.0   \n",
              "\n",
              "       usable_date_tue  usable_date_wed  usable_date_thu  usable_date_fri  \\\n",
              "count        2517206.0        2517206.0        2517206.0        2517206.0   \n",
              "mean           0.58988         0.598368         0.600991         0.581321   \n",
              "std           0.491855         0.490228         0.489695         0.493343   \n",
              "min                0.0              0.0              0.0              0.0   \n",
              "25%                0.0              0.0              0.0              0.0   \n",
              "50%                1.0              1.0              1.0              1.0   \n",
              "75%                1.0              1.0              1.0              1.0   \n",
              "max                1.0              1.0              1.0              1.0   \n",
              "\n",
              "       usable_date_sat  usable_date_sun  usable_date_holiday  \\\n",
              "count        2517206.0        2517206.0            2517206.0   \n",
              "mean          0.521834         0.534876             0.534876   \n",
              "std           0.499523         0.498782             0.498782   \n",
              "min                0.0              0.0                  0.0   \n",
              "25%                0.0              0.0                  0.0   \n",
              "50%                1.0              1.0                  1.0   \n",
              "75%                1.0              1.0                  1.0   \n",
              "max                1.0              1.0                  1.0   \n",
              "\n",
              "       usable_date_before_holiday       Male     Female  \n",
              "count                   2517206.0  2517206.0  2517206.0  \n",
              "mean                     0.534876    0.45557    0.54443  \n",
              "std                      0.498782   0.498022   0.498022  \n",
              "min                           0.0        0.0        0.0  \n",
              "25%                           0.0        0.0        0.0  \n",
              "50%                           1.0        0.0        1.0  \n",
              "75%                           1.0        1.0        1.0  \n",
              "max                           1.0        1.0        1.0  "
            ],
            "text/html": [
              "\n",
              "  <div id=\"df-465291bf-1f59-4837-a9e4-e14080d0f4d1\">\n",
              "    <div class=\"colab-df-container\">\n",
              "      <div>\n",
              "<style scoped>\n",
              "    .dataframe tbody tr th:only-of-type {\n",
              "        vertical-align: middle;\n",
              "    }\n",
              "\n",
              "    .dataframe tbody tr th {\n",
              "        vertical-align: top;\n",
              "    }\n",
              "\n",
              "    .dataframe thead th {\n",
              "        text-align: right;\n",
              "    }\n",
              "</style>\n",
              "<table border=\"1\" class=\"dataframe\">\n",
              "  <thead>\n",
              "    <tr style=\"text-align: right;\">\n",
              "      <th></th>\n",
              "      <th>AGE</th>\n",
              "      <th>usable_date_sum</th>\n",
              "      <th>view_count</th>\n",
              "      <th>PRICE_RATE</th>\n",
              "      <th>DISCOUNT_PRICE</th>\n",
              "      <th>VALIDPERIOD</th>\n",
              "      <th>DISPPERIOD</th>\n",
              "      <th>PURCHASE_FLG</th>\n",
              "      <th>usable_date_mon</th>\n",
              "      <th>usable_date_tue</th>\n",
              "      <th>usable_date_wed</th>\n",
              "      <th>usable_date_thu</th>\n",
              "      <th>usable_date_fri</th>\n",
              "      <th>usable_date_sat</th>\n",
              "      <th>usable_date_sun</th>\n",
              "      <th>usable_date_holiday</th>\n",
              "      <th>usable_date_before_holiday</th>\n",
              "      <th>Male</th>\n",
              "      <th>Female</th>\n",
              "    </tr>\n",
              "  </thead>\n",
              "  <tbody>\n",
              "    <tr>\n",
              "      <th>count</th>\n",
              "      <td>2517206.0</td>\n",
              "      <td>2517206.0</td>\n",
              "      <td>2517206.0</td>\n",
              "      <td>2517206.0</td>\n",
              "      <td>2517206.0</td>\n",
              "      <td>2517206.0</td>\n",
              "      <td>2517206.0</td>\n",
              "      <td>2517206.0</td>\n",
              "      <td>2517206.0</td>\n",
              "      <td>2517206.0</td>\n",
              "      <td>2517206.0</td>\n",
              "      <td>2517206.0</td>\n",
              "      <td>2517206.0</td>\n",
              "      <td>2517206.0</td>\n",
              "      <td>2517206.0</td>\n",
              "      <td>2517206.0</td>\n",
              "      <td>2517206.0</td>\n",
              "      <td>2517206.0</td>\n",
              "      <td>2517206.0</td>\n",
              "    </tr>\n",
              "    <tr>\n",
              "      <th>mean</th>\n",
              "      <td>47.300553</td>\n",
              "      <td>5.079688</td>\n",
              "      <td>432.860096</td>\n",
              "      <td>58.339597</td>\n",
              "      <td>4279.764005</td>\n",
              "      <td>10804.253592</td>\n",
              "      <td>3.786802</td>\n",
              "      <td>0.048621</td>\n",
              "      <td>0.582664</td>\n",
              "      <td>0.58988</td>\n",
              "      <td>0.598368</td>\n",
              "      <td>0.600991</td>\n",
              "      <td>0.581321</td>\n",
              "      <td>0.521834</td>\n",
              "      <td>0.534876</td>\n",
              "      <td>0.534876</td>\n",
              "      <td>0.534876</td>\n",
              "      <td>0.45557</td>\n",
              "      <td>0.54443</td>\n",
              "    </tr>\n",
              "    <tr>\n",
              "      <th>std</th>\n",
              "      <td>11.23943</td>\n",
              "      <td>4.170009</td>\n",
              "      <td>1176.083429</td>\n",
              "      <td>12.241049</td>\n",
              "      <td>5486.773682</td>\n",
              "      <td>14228.368037</td>\n",
              "      <td>3.000429</td>\n",
              "      <td>0.215074</td>\n",
              "      <td>0.493119</td>\n",
              "      <td>0.491855</td>\n",
              "      <td>0.490228</td>\n",
              "      <td>0.489695</td>\n",
              "      <td>0.493343</td>\n",
              "      <td>0.499523</td>\n",
              "      <td>0.498782</td>\n",
              "      <td>0.498782</td>\n",
              "      <td>0.498782</td>\n",
              "      <td>0.498022</td>\n",
              "      <td>0.498022</td>\n",
              "    </tr>\n",
              "    <tr>\n",
              "      <th>min</th>\n",
              "      <td>15.0</td>\n",
              "      <td>0.0</td>\n",
              "      <td>1.0</td>\n",
              "      <td>0.0</td>\n",
              "      <td>0.0</td>\n",
              "      <td>1.0</td>\n",
              "      <td>0.0</td>\n",
              "      <td>0.0</td>\n",
              "      <td>0.0</td>\n",
              "      <td>0.0</td>\n",
              "      <td>0.0</td>\n",
              "      <td>0.0</td>\n",
              "      <td>0.0</td>\n",
              "      <td>0.0</td>\n",
              "      <td>0.0</td>\n",
              "      <td>0.0</td>\n",
              "      <td>0.0</td>\n",
              "      <td>0.0</td>\n",
              "      <td>0.0</td>\n",
              "    </tr>\n",
              "    <tr>\n",
              "      <th>25%</th>\n",
              "      <td>39.0</td>\n",
              "      <td>0.0</td>\n",
              "      <td>108.0</td>\n",
              "      <td>50.0</td>\n",
              "      <td>1470.0</td>\n",
              "      <td>3249.0</td>\n",
              "      <td>3.0</td>\n",
              "      <td>0.0</td>\n",
              "      <td>0.0</td>\n",
              "      <td>0.0</td>\n",
              "      <td>0.0</td>\n",
              "      <td>0.0</td>\n",
              "      <td>0.0</td>\n",
              "      <td>0.0</td>\n",
              "      <td>0.0</td>\n",
              "      <td>0.0</td>\n",
              "      <td>0.0</td>\n",
              "      <td>0.0</td>\n",
              "      <td>0.0</td>\n",
              "    </tr>\n",
              "    <tr>\n",
              "      <th>50%</th>\n",
              "      <td>48.0</td>\n",
              "      <td>8.0</td>\n",
              "      <td>216.0</td>\n",
              "      <td>52.0</td>\n",
              "      <td>2500.0</td>\n",
              "      <td>6000.0</td>\n",
              "      <td>3.0</td>\n",
              "      <td>0.0</td>\n",
              "      <td>1.0</td>\n",
              "      <td>1.0</td>\n",
              "      <td>1.0</td>\n",
              "      <td>1.0</td>\n",
              "      <td>1.0</td>\n",
              "      <td>1.0</td>\n",
              "      <td>1.0</td>\n",
              "      <td>1.0</td>\n",
              "      <td>1.0</td>\n",
              "      <td>0.0</td>\n",
              "      <td>1.0</td>\n",
              "    </tr>\n",
              "    <tr>\n",
              "      <th>75%</th>\n",
              "      <td>55.0</td>\n",
              "      <td>9.0</td>\n",
              "      <td>435.0</td>\n",
              "      <td>64.0</td>\n",
              "      <td>4900.0</td>\n",
              "      <td>13200.0</td>\n",
              "      <td>4.0</td>\n",
              "      <td>0.0</td>\n",
              "      <td>1.0</td>\n",
              "      <td>1.0</td>\n",
              "      <td>1.0</td>\n",
              "      <td>1.0</td>\n",
              "      <td>1.0</td>\n",
              "      <td>1.0</td>\n",
              "      <td>1.0</td>\n",
              "      <td>1.0</td>\n",
              "      <td>1.0</td>\n",
              "      <td>1.0</td>\n",
              "      <td>1.0</td>\n",
              "    </tr>\n",
              "    <tr>\n",
              "      <th>max</th>\n",
              "      <td>80.0</td>\n",
              "      <td>9.0</td>\n",
              "      <td>14779.0</td>\n",
              "      <td>100.0</td>\n",
              "      <td>100000.0</td>\n",
              "      <td>680000.0</td>\n",
              "      <td>36.0</td>\n",
              "      <td>1.0</td>\n",
              "      <td>1.0</td>\n",
              "      <td>1.0</td>\n",
              "      <td>1.0</td>\n",
              "      <td>1.0</td>\n",
              "      <td>1.0</td>\n",
              "      <td>1.0</td>\n",
              "      <td>1.0</td>\n",
              "      <td>1.0</td>\n",
              "      <td>1.0</td>\n",
              "      <td>1.0</td>\n",
              "      <td>1.0</td>\n",
              "    </tr>\n",
              "  </tbody>\n",
              "</table>\n",
              "</div>\n",
              "      <button class=\"colab-df-convert\" onclick=\"convertToInteractive('df-465291bf-1f59-4837-a9e4-e14080d0f4d1')\"\n",
              "              title=\"Convert this dataframe to an interactive table.\"\n",
              "              style=\"display:none;\">\n",
              "        \n",
              "  <svg xmlns=\"http://www.w3.org/2000/svg\" height=\"24px\"viewBox=\"0 0 24 24\"\n",
              "       width=\"24px\">\n",
              "    <path d=\"M0 0h24v24H0V0z\" fill=\"none\"/>\n",
              "    <path d=\"M18.56 5.44l.94 2.06.94-2.06 2.06-.94-2.06-.94-.94-2.06-.94 2.06-2.06.94zm-11 1L8.5 8.5l.94-2.06 2.06-.94-2.06-.94L8.5 2.5l-.94 2.06-2.06.94zm10 10l.94 2.06.94-2.06 2.06-.94-2.06-.94-.94-2.06-.94 2.06-2.06.94z\"/><path d=\"M17.41 7.96l-1.37-1.37c-.4-.4-.92-.59-1.43-.59-.52 0-1.04.2-1.43.59L10.3 9.45l-7.72 7.72c-.78.78-.78 2.05 0 2.83L4 21.41c.39.39.9.59 1.41.59.51 0 1.02-.2 1.41-.59l7.78-7.78 2.81-2.81c.8-.78.8-2.07 0-2.86zM5.41 20L4 18.59l7.72-7.72 1.47 1.35L5.41 20z\"/>\n",
              "  </svg>\n",
              "      </button>\n",
              "      \n",
              "  <style>\n",
              "    .colab-df-container {\n",
              "      display:flex;\n",
              "      flex-wrap:wrap;\n",
              "      gap: 12px;\n",
              "    }\n",
              "\n",
              "    .colab-df-convert {\n",
              "      background-color: #E8F0FE;\n",
              "      border: none;\n",
              "      border-radius: 50%;\n",
              "      cursor: pointer;\n",
              "      display: none;\n",
              "      fill: #1967D2;\n",
              "      height: 32px;\n",
              "      padding: 0 0 0 0;\n",
              "      width: 32px;\n",
              "    }\n",
              "\n",
              "    .colab-df-convert:hover {\n",
              "      background-color: #E2EBFA;\n",
              "      box-shadow: 0px 1px 2px rgba(60, 64, 67, 0.3), 0px 1px 3px 1px rgba(60, 64, 67, 0.15);\n",
              "      fill: #174EA6;\n",
              "    }\n",
              "\n",
              "    [theme=dark] .colab-df-convert {\n",
              "      background-color: #3B4455;\n",
              "      fill: #D2E3FC;\n",
              "    }\n",
              "\n",
              "    [theme=dark] .colab-df-convert:hover {\n",
              "      background-color: #434B5C;\n",
              "      box-shadow: 0px 1px 3px 1px rgba(0, 0, 0, 0.15);\n",
              "      filter: drop-shadow(0px 1px 2px rgba(0, 0, 0, 0.3));\n",
              "      fill: #FFFFFF;\n",
              "    }\n",
              "  </style>\n",
              "\n",
              "      <script>\n",
              "        const buttonEl =\n",
              "          document.querySelector('#df-465291bf-1f59-4837-a9e4-e14080d0f4d1 button.colab-df-convert');\n",
              "        buttonEl.style.display =\n",
              "          google.colab.kernel.accessAllowed ? 'block' : 'none';\n",
              "\n",
              "        async function convertToInteractive(key) {\n",
              "          const element = document.querySelector('#df-465291bf-1f59-4837-a9e4-e14080d0f4d1');\n",
              "          const dataTable =\n",
              "            await google.colab.kernel.invokeFunction('convertToInteractive',\n",
              "                                                     [key], {});\n",
              "          if (!dataTable) return;\n",
              "\n",
              "          const docLinkHtml = 'Like what you see? Visit the ' +\n",
              "            '<a target=\"_blank\" href=https://colab.research.google.com/notebooks/data_table.ipynb>data table notebook</a>'\n",
              "            + ' to learn more about interactive tables.';\n",
              "          element.innerHTML = '';\n",
              "          dataTable['output_type'] = 'display_data';\n",
              "          await google.colab.output.renderOutput(dataTable, element);\n",
              "          const docLink = document.createElement('div');\n",
              "          docLink.innerHTML = docLinkHtml;\n",
              "          element.appendChild(docLink);\n",
              "        }\n",
              "      </script>\n",
              "    </div>\n",
              "  </div>\n",
              "  "
            ],
            "application/vnd.google.colaboratory.module+javascript": "\n      import \"https://ssl.gstatic.com/colaboratory/data_table/881c4a0d49046431/data_table.js\";\n\n      const table = window.createDataTable({\n        data: [[\"count\",\n{\n            'v': 2517206.0,\n            'f': \"2517206.0\",\n        },\n{\n            'v': 2517206.0,\n            'f': \"2517206.0\",\n        },\n{\n            'v': 2517206.0,\n            'f': \"2517206.0\",\n        },\n{\n            'v': 2517206.0,\n            'f': \"2517206.0\",\n        },\n{\n            'v': 2517206.0,\n            'f': \"2517206.0\",\n        },\n{\n            'v': 2517206.0,\n            'f': \"2517206.0\",\n        },\n{\n            'v': 2517206.0,\n            'f': \"2517206.0\",\n        },\n{\n            'v': 2517206.0,\n            'f': \"2517206.0\",\n        },\n{\n            'v': 2517206.0,\n            'f': \"2517206.0\",\n        },\n{\n            'v': 2517206.0,\n            'f': \"2517206.0\",\n        },\n{\n            'v': 2517206.0,\n            'f': \"2517206.0\",\n        },\n{\n            'v': 2517206.0,\n            'f': \"2517206.0\",\n        },\n{\n            'v': 2517206.0,\n            'f': \"2517206.0\",\n        },\n{\n            'v': 2517206.0,\n            'f': \"2517206.0\",\n        },\n{\n            'v': 2517206.0,\n            'f': \"2517206.0\",\n        },\n{\n            'v': 2517206.0,\n            'f': \"2517206.0\",\n        },\n{\n            'v': 2517206.0,\n            'f': \"2517206.0\",\n        },\n{\n            'v': 2517206.0,\n            'f': \"2517206.0\",\n        },\n{\n            'v': 2517206.0,\n            'f': \"2517206.0\",\n        }],\n [\"mean\",\n{\n            'v': 47.30055307352676,\n            'f': \"47.30055307352676\",\n        },\n{\n            'v': 5.0796875583484224,\n            'f': \"5.0796875583484224\",\n        },\n{\n            'v': 432.8600956775091,\n            'f': \"432.8600956775091\",\n        },\n{\n            'v': 58.3395971565299,\n            'f': \"58.3395971565299\",\n        },\n{\n            'v': 4279.764005409172,\n            'f': \"4279.764005409172\",\n        },\n{\n            'v': 10804.253591879251,\n            'f': \"10804.253591879251\",\n        },\n{\n            'v': 3.786802113136549,\n            'f': \"3.786802113136549\",\n        },\n{\n            'v': 0.04862097102899008,\n            'f': \"0.04862097102899008\",\n        },\n{\n            'v': 0.5826642714183901,\n            'f': \"0.5826642714183901\",\n        },\n{\n            'v': 0.5898802084533408,\n            'f': \"0.5898802084533408\",\n        },\n{\n            'v': 0.5983681907638866,\n            'f': \"0.5983681907638866\",\n        },\n{\n            'v': 0.6009909399548548,\n            'f': \"0.6009909399548548\",\n        },\n{\n            'v': 0.581321115554309,\n            'f': \"0.581321115554309\",\n        },\n{\n            'v': 0.5218337315261444,\n            'f': \"0.5218337315261444\",\n        },\n{\n            'v': 0.5348763668924991,\n            'f': \"0.5348763668924991\",\n        },\n{\n            'v': 0.5348763668924991,\n            'f': \"0.5348763668924991\",\n        },\n{\n            'v': 0.5348763668924991,\n            'f': \"0.5348763668924991\",\n        },\n{\n            'v': 0.45556978650138286,\n            'f': \"0.45556978650138286\",\n        },\n{\n            'v': 0.5444302134986171,\n            'f': \"0.5444302134986171\",\n        }],\n [\"std\",\n{\n            'v': 11.23942951580146,\n            'f': \"11.23942951580146\",\n        },\n{\n            'v': 4.1700086430596075,\n            'f': \"4.1700086430596075\",\n        },\n{\n            'v': 1176.0834291098085,\n            'f': \"1176.0834291098085\",\n        },\n{\n            'v': 12.241049242282683,\n            'f': \"12.241049242282683\",\n        },\n{\n            'v': 5486.773681766481,\n            'f': \"5486.773681766481\",\n        },\n{\n            'v': 14228.36803736183,\n            'f': \"14228.36803736183\",\n        },\n{\n            'v': 3.0004287903730456,\n            'f': \"3.0004287903730456\",\n        },\n{\n            'v': 0.21507438383385225,\n            'f': \"0.21507438383385225\",\n        },\n{\n            'v': 0.49311937178810994,\n            'f': \"0.49311937178810994\",\n        },\n{\n            'v': 0.491855308231591,\n            'f': \"0.491855308231591\",\n        },\n{\n            'v': 0.49022830856477273,\n            'f': \"0.49022830856477273\",\n        },\n{\n            'v': 0.4896947266529991,\n            'f': \"0.4896947266529991\",\n        },\n{\n            'v': 0.49334265257966214,\n            'f': \"0.49334265257966214\",\n        },\n{\n            'v': 0.499523159918303,\n            'f': \"0.499523159918303\",\n        },\n{\n            'v': 0.49878225496268863,\n            'f': \"0.49878225496268863\",\n        },\n{\n            'v': 0.49878225496268863,\n            'f': \"0.49878225496268863\",\n        },\n{\n            'v': 0.49878225496268863,\n            'f': \"0.49878225496268863\",\n        },\n{\n            'v': 0.4980221427414153,\n            'f': \"0.4980221427414153\",\n        },\n{\n            'v': 0.4980221427414154,\n            'f': \"0.4980221427414154\",\n        }],\n [\"min\",\n{\n            'v': 15.0,\n            'f': \"15.0\",\n        },\n{\n            'v': 0.0,\n            'f': \"0.0\",\n        },\n{\n            'v': 1.0,\n            'f': \"1.0\",\n        },\n{\n            'v': 0.0,\n            'f': \"0.0\",\n        },\n{\n            'v': 0.0,\n            'f': \"0.0\",\n        },\n{\n            'v': 1.0,\n            'f': \"1.0\",\n        },\n{\n            'v': 0.0,\n            'f': \"0.0\",\n        },\n{\n            'v': 0.0,\n            'f': \"0.0\",\n        },\n{\n            'v': 0.0,\n            'f': \"0.0\",\n        },\n{\n            'v': 0.0,\n            'f': \"0.0\",\n        },\n{\n            'v': 0.0,\n            'f': \"0.0\",\n        },\n{\n            'v': 0.0,\n            'f': \"0.0\",\n        },\n{\n            'v': 0.0,\n            'f': \"0.0\",\n        },\n{\n            'v': 0.0,\n            'f': \"0.0\",\n        },\n{\n            'v': 0.0,\n            'f': \"0.0\",\n        },\n{\n            'v': 0.0,\n            'f': \"0.0\",\n        },\n{\n            'v': 0.0,\n            'f': \"0.0\",\n        },\n{\n            'v': 0.0,\n            'f': \"0.0\",\n        },\n{\n            'v': 0.0,\n            'f': \"0.0\",\n        }],\n [\"25%\",\n{\n            'v': 39.0,\n            'f': \"39.0\",\n        },\n{\n            'v': 0.0,\n            'f': \"0.0\",\n        },\n{\n            'v': 108.0,\n            'f': \"108.0\",\n        },\n{\n            'v': 50.0,\n            'f': \"50.0\",\n        },\n{\n            'v': 1470.0,\n            'f': \"1470.0\",\n        },\n{\n            'v': 3249.0,\n            'f': \"3249.0\",\n        },\n{\n            'v': 3.0,\n            'f': \"3.0\",\n        },\n{\n            'v': 0.0,\n            'f': \"0.0\",\n        },\n{\n            'v': 0.0,\n            'f': \"0.0\",\n        },\n{\n            'v': 0.0,\n            'f': \"0.0\",\n        },\n{\n            'v': 0.0,\n            'f': \"0.0\",\n        },\n{\n            'v': 0.0,\n            'f': \"0.0\",\n        },\n{\n            'v': 0.0,\n            'f': \"0.0\",\n        },\n{\n            'v': 0.0,\n            'f': \"0.0\",\n        },\n{\n            'v': 0.0,\n            'f': \"0.0\",\n        },\n{\n            'v': 0.0,\n            'f': \"0.0\",\n        },\n{\n            'v': 0.0,\n            'f': \"0.0\",\n        },\n{\n            'v': 0.0,\n            'f': \"0.0\",\n        },\n{\n            'v': 0.0,\n            'f': \"0.0\",\n        }],\n [\"50%\",\n{\n            'v': 48.0,\n            'f': \"48.0\",\n        },\n{\n            'v': 8.0,\n            'f': \"8.0\",\n        },\n{\n            'v': 216.0,\n            'f': \"216.0\",\n        },\n{\n            'v': 52.0,\n            'f': \"52.0\",\n        },\n{\n            'v': 2500.0,\n            'f': \"2500.0\",\n        },\n{\n            'v': 6000.0,\n            'f': \"6000.0\",\n        },\n{\n            'v': 3.0,\n            'f': \"3.0\",\n        },\n{\n            'v': 0.0,\n            'f': \"0.0\",\n        },\n{\n            'v': 1.0,\n            'f': \"1.0\",\n        },\n{\n            'v': 1.0,\n            'f': \"1.0\",\n        },\n{\n            'v': 1.0,\n            'f': \"1.0\",\n        },\n{\n            'v': 1.0,\n            'f': \"1.0\",\n        },\n{\n            'v': 1.0,\n            'f': \"1.0\",\n        },\n{\n            'v': 1.0,\n            'f': \"1.0\",\n        },\n{\n            'v': 1.0,\n            'f': \"1.0\",\n        },\n{\n            'v': 1.0,\n            'f': \"1.0\",\n        },\n{\n            'v': 1.0,\n            'f': \"1.0\",\n        },\n{\n            'v': 0.0,\n            'f': \"0.0\",\n        },\n{\n            'v': 1.0,\n            'f': \"1.0\",\n        }],\n [\"75%\",\n{\n            'v': 55.0,\n            'f': \"55.0\",\n        },\n{\n            'v': 9.0,\n            'f': \"9.0\",\n        },\n{\n            'v': 435.0,\n            'f': \"435.0\",\n        },\n{\n            'v': 64.0,\n            'f': \"64.0\",\n        },\n{\n            'v': 4900.0,\n            'f': \"4900.0\",\n        },\n{\n            'v': 13200.0,\n            'f': \"13200.0\",\n        },\n{\n            'v': 4.0,\n            'f': \"4.0\",\n        },\n{\n            'v': 0.0,\n            'f': \"0.0\",\n        },\n{\n            'v': 1.0,\n            'f': \"1.0\",\n        },\n{\n            'v': 1.0,\n            'f': \"1.0\",\n        },\n{\n            'v': 1.0,\n            'f': \"1.0\",\n        },\n{\n            'v': 1.0,\n            'f': \"1.0\",\n        },\n{\n            'v': 1.0,\n            'f': \"1.0\",\n        },\n{\n            'v': 1.0,\n            'f': \"1.0\",\n        },\n{\n            'v': 1.0,\n            'f': \"1.0\",\n        },\n{\n            'v': 1.0,\n            'f': \"1.0\",\n        },\n{\n            'v': 1.0,\n            'f': \"1.0\",\n        },\n{\n            'v': 1.0,\n            'f': \"1.0\",\n        },\n{\n            'v': 1.0,\n            'f': \"1.0\",\n        }],\n [\"max\",\n{\n            'v': 80.0,\n            'f': \"80.0\",\n        },\n{\n            'v': 9.0,\n            'f': \"9.0\",\n        },\n{\n            'v': 14779.0,\n            'f': \"14779.0\",\n        },\n{\n            'v': 100.0,\n            'f': \"100.0\",\n        },\n{\n            'v': 100000.0,\n            'f': \"100000.0\",\n        },\n{\n            'v': 680000.0,\n            'f': \"680000.0\",\n        },\n{\n            'v': 36.0,\n            'f': \"36.0\",\n        },\n{\n            'v': 1.0,\n            'f': \"1.0\",\n        },\n{\n            'v': 1.0,\n            'f': \"1.0\",\n        },\n{\n            'v': 1.0,\n            'f': \"1.0\",\n        },\n{\n            'v': 1.0,\n            'f': \"1.0\",\n        },\n{\n            'v': 1.0,\n            'f': \"1.0\",\n        },\n{\n            'v': 1.0,\n            'f': \"1.0\",\n        },\n{\n            'v': 1.0,\n            'f': \"1.0\",\n        },\n{\n            'v': 1.0,\n            'f': \"1.0\",\n        },\n{\n            'v': 1.0,\n            'f': \"1.0\",\n        },\n{\n            'v': 1.0,\n            'f': \"1.0\",\n        },\n{\n            'v': 1.0,\n            'f': \"1.0\",\n        },\n{\n            'v': 1.0,\n            'f': \"1.0\",\n        }]],\n        columns: [[\"string\", \"index\"], [\"number\", \"AGE\"], [\"number\", \"usable_date_sum\"], [\"number\", \"view_count\"], [\"number\", \"PRICE_RATE\"], [\"number\", \"DISCOUNT_PRICE\"], [\"number\", \"VALIDPERIOD\"], [\"number\", \"DISPPERIOD\"], [\"number\", \"PURCHASE_FLG\"], [\"number\", \"usable_date_mon\"], [\"number\", \"usable_date_tue\"], [\"number\", \"usable_date_wed\"], [\"number\", \"usable_date_thu\"], [\"number\", \"usable_date_fri\"], [\"number\", \"usable_date_sat\"], [\"number\", \"usable_date_sun\"], [\"number\", \"usable_date_holiday\"], [\"number\", \"usable_date_before_holiday\"], [\"number\", \"Male\"], [\"number\", \"Female\"]],\n        columnOptions: [{\"width\": \"1px\", \"className\": \"index_column\"}],\n        rowsPerPage: 25,\n        helpUrl: \"https://colab.research.google.com/notebooks/data_table.ipynb\",\n        suppressOutputScrolling: true,\n        minimumWidth: undefined,\n      });\n      \n      function appendQuickchartButton(parentElement) {\n        let quickchartButtonContainerElement = document.createElement('div');\n        quickchartButtonContainerElement.innerHTML = `\n    <div id=\"df-0e9c3391-c23e-4103-b67a-60ee8a162728\">\n      <button class=\"colab-df-quickchart\" onclick=\"quickchart('df-0e9c3391-c23e-4103-b67a-60ee8a162728')\"\n              title=\"Generate charts.\"\n              style=\"display:none;\">\n\n<svg xmlns=\"http://www.w3.org/2000/svg\" height=\"24px\"viewBox=\"0 0 24 24\"\n     width=\"24px\">\n    <g>\n        <path d=\"M19 3H5c-1.1 0-2 .9-2 2v14c0 1.1.9 2 2 2h14c1.1 0 2-.9 2-2V5c0-1.1-.9-2-2-2zM9 17H7v-7h2v7zm4 0h-2V7h2v10zm4 0h-2v-4h2v4z\"/>\n    </g>\n</svg>\n      </button>\n    </div>\n\n<style>\n  .colab-df-quickchart {\n    background-color: #E8F0FE;\n    border: none;\n    border-radius: 50%;\n    cursor: pointer;\n    display: none;\n    fill: #1967D2;\n    height: 32px;\n    padding: 0 0 0 0;\n    width: 32px;\n  }\n\n  .colab-df-quickchart:hover {\n    background-color: #E2EBFA;\n    box-shadow: 0px 1px 2px rgba(60, 64, 67, 0.3), 0px 1px 3px 1px rgba(60, 64, 67, 0.15);\n    fill: #174EA6;\n  }\n\n  [theme=dark] .colab-df-quickchart {\n    background-color: #3B4455;\n    fill: #D2E3FC;\n  }\n\n  [theme=dark] .colab-df-quickchart:hover {\n    background-color: #434B5C;\n    box-shadow: 0px 1px 3px 1px rgba(0, 0, 0, 0.15);\n    filter: drop-shadow(0px 1px 2px rgba(0, 0, 0, 0.3));\n    fill: #FFFFFF;\n  }\n</style>\n\n    <script>\n      async function quickchart(key) {\n        const containerElement = document.querySelector('#' + key);\n        const charts = await google.colab.kernel.invokeFunction(\n            'generateCharts', [key], {});\n      }\n    </script>\n`;\n        parentElement.appendChild(quickchartButtonContainerElement);\n        \nfunction displayQuickchartButton(domScope) {\n  let quickchartButtonEl =\n    domScope.querySelector('#df-0e9c3391-c23e-4103-b67a-60ee8a162728 button.colab-df-quickchart');\n  quickchartButtonEl.style.display =\n    google.colab.kernel.accessAllowed ? 'block' : 'none';\n}\n\n        displayQuickchartButton(parentElement);\n      }\n    "
          },
          "metadata": {},
          "execution_count": 163
        }
      ],
      "source": [
        "results.describe()"
      ]
    },
    {
      "cell_type": "code",
      "source": [
        "from tensorflow import keras\n",
        "import tensorflow as tf\n",
        "import pandas as pd\n",
        "import numpy as np\n",
        "import matplotlib.pyplot as plt\n",
        "import seaborn as sns"
      ],
      "metadata": {
        "id": "KElaVPmUV9Bm"
      },
      "execution_count": 164,
      "outputs": []
    },
    {
      "cell_type": "code",
      "source": [
        "df = results\n",
        "df = df.dropna()\n",
        "df.columns"
      ],
      "metadata": {
        "id": "teeo7GBOWgTM",
        "outputId": "6410f184-9581-43ff-b4a7-3931d231ac04",
        "colab": {
          "base_uri": "https://localhost:8080/"
        }
      },
      "execution_count": 165,
      "outputs": [
        {
          "output_type": "execute_result",
          "data": {
            "text/plain": [
              "Index(['USER_ID_hash', 'REG_DATE', 'SEX_ID', 'AGE', 'Tr_Pref_Name',\n",
              "       'Tr_small_area_name', 'Translated_capsule_text',\n",
              "       'Translated_genre_name', 'VIEW_COUPON_ID_hash', 'usable_date_sum',\n",
              "       'view_count', 'PRICE_RATE', 'DISCOUNT_PRICE', 'VALIDPERIOD',\n",
              "       'DISPPERIOD', 'PURCHASE_FLG', 'dispfrom', 'dispend', 'usable_date_mon',\n",
              "       'usable_date_tue', 'usable_date_wed', 'usable_date_thu',\n",
              "       'usable_date_fri', 'usable_date_sat', 'usable_date_sun',\n",
              "       'usable_date_holiday', 'usable_date_before_holiday', 'Male', 'Female'],\n",
              "      dtype='object')"
            ]
          },
          "metadata": {},
          "execution_count": 165
        }
      ]
    },
    {
      "cell_type": "code",
      "source": [
        "len(df['AGE'])"
      ],
      "metadata": {
        "colab": {
          "base_uri": "https://localhost:8080/"
        },
        "id": "Qw6p59ZuVgy8",
        "outputId": "3497b805-4655-40f0-9509-03e2b952551e"
      },
      "execution_count": 166,
      "outputs": [
        {
          "output_type": "execute_result",
          "data": {
            "text/plain": [
              "2033884"
            ]
          },
          "metadata": {},
          "execution_count": 166
        }
      ]
    },
    {
      "cell_type": "markdown",
      "source": [
        "## 1-1. 명목형 데이터 확인"
      ],
      "metadata": {
        "id": "THvI61rYWKIX"
      }
    },
    {
      "cell_type": "code",
      "source": [
        "cat_col_names = ['USER_ID_hash','VIEW_COUPON_ID_hash','Tr_Pref_Name',\n",
        "                 'Tr_small_area_name','Translated_capsule_text',\n",
        "                 'Translated_genre_name','usable_date_sum']\n",
        "\n",
        "def view_cate_unique(cat_col_names):\n",
        "  for col_name in cat_col_names:\n",
        "    cat_values = np.unique(df[col_name])\n",
        "    print(f\"{col_name}: {cat_values}\\n\")\n",
        "\n",
        "view_cate_unique(cat_col_names)\n",
        "\n"
      ],
      "metadata": {
        "id": "mKehw2qEV5i0",
        "colab": {
          "base_uri": "https://localhost:8080/"
        },
        "outputId": "3ad504b4-56ef-4d25-b23a-9b019067cb80"
      },
      "execution_count": 171,
      "outputs": [
        {
          "output_type": "stream",
          "name": "stdout",
          "text": [
            "USER_ID_hash: ['00035b86e6884589ec8d28fbf2fe7757' '000cc06982785a19e2a2fdb40b1c9d59'\n",
            " '0013518e41c416cd6a181d277dd8ca0b' ... 'fff970d2014c3e10a77e38d540239017'\n",
            " 'fffafc024e264d5d539813444cf61199' 'ffff56dbf3c782c3532f88c6c79817ba']\n",
            "\n",
            "VIEW_COUPON_ID_hash: ['000eba9b783cec10658308b5836349f6' '000fb2d3790cd8860e337290db189abe'\n",
            " '000fe109aea0546a32ffbe54091297e1' ... 'fff37291f190b3b7a97336052d2b69a3'\n",
            " 'fff58e3960585ba89a4e649f5c7cc11e' 'fffa212f26e62e489ec16dbe55a88c57']\n",
            "\n",
            "Tr_Pref_Name: ['경토부' '고치현' '기후현' '꾸마현' '나가노현' '나가사키현' '나라현' '니가타현' '도야마현' '도치기현' '도쿄도'\n",
            " '도토리현' '미야기현' '미야자키현' '미에현' '사가현' '사이타마현' '시가현' '시마네현' '시즈오카현' '아오모리현'\n",
            " '아이치현' '아키타현' '야마가타현' '야마구치현' '야마나시현' '에히메현' '오사카부' '오이타현' '오카야마현'\n",
            " '오키나와현' '와카야마현' '이바라키현' '이시카와현' '이와테현' '치바현' '카가와현' '카고시마현' '칸나가와현'\n",
            " '쿠마모토현' '토쿠시마현' '홋카이도' '효고현' '후쿠시마현' '후쿠오카현' '후쿠이현' '히로시마현']\n",
            "\n",
            "Tr_small_area_name: ['경토' '고치' '기후' '긴자・신바시・도쿄・우에노' '꾸마' '나가노' '나가사키' '나라' '니가타' '도야마' '도치기'\n",
            " '도토리' '미나미타' '미야기' '미야자키' '미에' '사가' '사이타마' '시가' '시마네' '시부야・아오야마・지유가오카'\n",
            " '시즈오카' '신주코・타카다바바・나카노・요시노' '아오모리' '아이치' '아카사카・로폰기・아자부' '아키타' '야마가타'\n",
            " '야마구치' '야마나시' '에비스・메구로・시나가와' '에히메' '오이타' '오카야마' '오키나와' '와카야마' '요코하마'\n",
            " '이바라키' '이시카와' '이와테' '이케부쿠로・카구라작・아카바네' '치바' '카가와' '카고시마' '카와사키・신난・하코네타'\n",
            " '쿠마모토' '키타' '타치카와・마치다・하치오지타' '토쿠시마' '홋카이도' '효고' '후쿠시마' '후쿠오카' '후쿠이'\n",
            " '히로시마']\n",
            "\n",
            "Translated_capsule_text: ['건강・의료' '게스트 하우스' '공공의 숙박' '기타' '기프트 카드' '네일・아이' '레슨' '레저' '민박' '뷰티' '숙박'\n",
            " '에스테틱' '여관' '웹 서비스' '음식' '이벤트' '택배' '통신 강의' '통학 레슨' '펜션' '헤어 살롱' '호텔'\n",
            " '휴식' '휴양림']\n",
            "\n",
            "Translated_genre_name: ['건강・의료' '기타 쿠폰' '기프트 카드' '네일・아이' '레슨' '레저' '뷰티' '에스테틱' '음식' '택배' '헤어 살롱'\n",
            " '호텔・여관' '휴식']\n",
            "\n",
            "usable_date_sum: [0 1 2 3 4 5 6 7 8 9]\n",
            "\n"
          ]
        }
      ]
    },
    {
      "cell_type": "code",
      "source": [
        "print(f\"USER_ID_hash의 든 고유 class의 개수 {len(np.unique(df['USER_ID_hash']))}\")\n",
        "print(f\"VIEW_COUPON_ID_hash의 든 고유 class의 개수 {len(np.unique(df['VIEW_COUPON_ID_hash']))}\")"
      ],
      "metadata": {
        "colab": {
          "base_uri": "https://localhost:8080/"
        },
        "id": "-5k2aMR1o2eE",
        "outputId": "24bcd427-121d-4f6f-fc63-017dd14ff611"
      },
      "execution_count": 172,
      "outputs": [
        {
          "output_type": "stream",
          "name": "stdout",
          "text": [
            "USER_ID_hash의 든 고유 class의 개수 15527\n",
            "VIEW_COUPON_ID_hash의 든 고유 class의 개수 19404\n"
          ]
        }
      ]
    },
    {
      "cell_type": "code",
      "source": [
        "df['USER_ID_hash'].value_counts()"
      ],
      "metadata": {
        "colab": {
          "base_uri": "https://localhost:8080/"
        },
        "id": "AL55AJLHr2md",
        "outputId": "a697636f-5448-46d8-87b7-18a36fb149de"
      },
      "execution_count": 174,
      "outputs": [
        {
          "output_type": "execute_result",
          "data": {
            "text/plain": [
              "322a3a65e6683b6881eeb0b1a889e3f4    3125\n",
              "070a8c47e1ced81abe33aec7fe371f96    2907\n",
              "9ec57756932f97bb57a02c4ad864ad3e    2587\n",
              "faa6af52e6bb405fe0ad957612f51795    2330\n",
              "0f20decaff5a127ad70005c5ba568279    2318\n",
              "                                    ... \n",
              "d5872e161271d15a31c717d5474d3b45       1\n",
              "251f625592d155fa6e5886f4cad00b71       1\n",
              "1318c1e8f480610343a2c6da0ec84e9a       1\n",
              "e97d6be0c8e645c9fcea92cb326f66fc       1\n",
              "ae6588ce58592154242130e56d12ae51       1\n",
              "Name: USER_ID_hash, Length: 15527, dtype: int64"
            ]
          },
          "metadata": {},
          "execution_count": 174
        }
      ]
    },
    {
      "cell_type": "code",
      "source": [
        "df['USER_ID_hash'].value_counts().plot()"
      ],
      "metadata": {
        "colab": {
          "base_uri": "https://localhost:8080/",
          "height": 405
        },
        "id": "TEuvpvOpo_K8",
        "outputId": "aa80161a-f254-4c61-84a3-f098b54f4fd1"
      },
      "execution_count": 175,
      "outputs": [
        {
          "output_type": "execute_result",
          "data": {
            "text/plain": [
              "<Axes: >"
            ]
          },
          "metadata": {},
          "execution_count": 175
        },
        {
          "output_type": "display_data",
          "data": {
            "text/plain": [
              "<Figure size 640x480 with 1 Axes>"
            ],
            "image/png": "[encoded data removed]"
          },
          "metadata": {}
        }
      ]
    },
    {
      "cell_type": "code",
      "source": [
        "df['VIEW_COUPON_ID_hash'].value_counts().plot()"
      ],
      "metadata": {
        "colab": {
          "base_uri": "https://localhost:8080/",
          "height": 409
        },
        "id": "fTzDbdzxr_65",
        "outputId": "96585c40-35ac-47a0-85f9-24a97c354482"
      },
      "execution_count": 176,
      "outputs": [
        {
          "output_type": "execute_result",
          "data": {
            "text/plain": [
              "<Axes: >"
            ]
          },
          "metadata": {},
          "execution_count": 176
        },
        {
          "output_type": "display_data",
          "data": {
            "text/plain": [
              "<Figure size 640x480 with 1 Axes>"
            ],
            "image/png": "[encoded data removed]"
          },
          "metadata": {}
        }
      ]
    },
    {
      "cell_type": "markdown",
      "source": [
        "# 3. 데이터 전처리\n",
        "\n",
        "* 3-1. 명목형 변수 - Label Encoder 후 to_categorical()\n",
        "* 3-2. 이진분류 및 정수형태의 명목형 변수 - to_categorical()\n",
        "* 3-3. 연속형 변수 - 정규화/StandardScaler()\n",
        "\n",
        "-------------------------------------------\n",
        "## 3-1. 명목형 변수 - Label Encoder\n",
        "\n",
        " Embedding Layer 사용시 모델의 층이 많아지는 문제(모델 파라미터 약 16만) - 과대적합 발생 원인으르 분석하여 embedding layer을 사용하지 않고 원핫 인코딩 방식 사용: to_categorical() 사용"
      ],
      "metadata": {
        "id": "6Lhx8JAyXDq0"
      }
    },
    {
      "cell_type": "markdown",
      "source": [],
      "metadata": {
        "id": "F87_QdXRMMHw"
      }
    },
    {
      "cell_type": "code",
      "source": [
        "from sklearn.preprocessing import LabelEncoder\n",
        "from keras.utils import to_categorical\n",
        "\n",
        "\n",
        "category_xs = []\n",
        "category_encoders = []\n",
        "\n",
        "def cate_one_hot(cat_col_names):\n",
        "  \"\"\" 명목형 변수 cat_col_names를 정수형으로 변환하고 원핫인코딩하는 작업 \"\"\"\n",
        "\n",
        "  for col_name in cat_col_names:\n",
        "\n",
        "    encoder = LabelEncoder()\n",
        "    encoded_xs = encoder.fit_transform(df[col_name])\n",
        "    encoded_xs = to_categorical(encoded_xs)\n",
        "\n",
        "    category_xs.append(encoded_xs)\n",
        "    category_encoders.append(encoder)\n",
        "\n",
        "\n",
        "def bin_one_hot(bin_cate_cols):\n",
        "  for bin_cate_col in bin_cate_cols:\n",
        "\n",
        "    trans_1D_array = df[bin_cate_col].array\n",
        "    trans_1D_array = to_categorical(trans_1D_array)\n",
        "    category_xs.append(trans_1D_array)"
      ],
      "metadata": {
        "id": "DcELQEwYIUPs"
      },
      "execution_count": 177,
      "outputs": []
    },
    {
      "cell_type": "code",
      "source": [
        "cat_col_names = ['Tr_Pref_Name','Tr_small_area_name','usable_date_sum']\n",
        "\n",
        "cate_one_hot(cat_col_names)"
      ],
      "metadata": {
        "id": "IiHQ013ZxOqm"
      },
      "execution_count": 179,
      "outputs": []
    },
    {
      "cell_type": "markdown",
      "source": [
        "## 3-2. 이진분류 및 정수형태의 명목형 변수"
      ],
      "metadata": {
        "id": "AGfScuKQg8vZ"
      }
    },
    {
      "cell_type": "code",
      "source": [
        "bin_cate_cols = ['PURCHASE_FLG','DISPPERIOD', 'usable_date_mon', 'usable_date_tue',\n",
        "       'usable_date_wed', 'usable_date_thu', 'usable_date_fri',\n",
        "       'usable_date_sat', 'usable_date_sun', 'usable_date_holiday',\n",
        "       'usable_date_before_holiday', 'Male', 'Female', 'usable_date_sum']\n",
        "\n",
        "bin_one_hot(bin_cate_cols)"
      ],
      "metadata": {
        "id": "F2se1kWkV5ns"
      },
      "execution_count": 181,
      "outputs": []
    },
    {
      "cell_type": "markdown",
      "source": [
        "원-핫 인코딩\n",
        "- 입력층에 들어가는 배열의 shape가 맞지 않는 문제\n",
        "shape가 맞지 않으면 딥러닝 상에서 모델 학습이 안되는지는 시도해볼 필요가 있으나 전처리 과정이 길어질 것으로 예상\n"
      ],
      "metadata": {
        "id": "gQE7W0BSMauB"
      }
    },
    {
      "cell_type": "markdown",
      "source": [
        "# <Embedding Layer사용>\n",
        "\n",
        "\n",
        "## 1. 명목형 데이터 전처리\n",
        "\n",
        "only LabelEncoder"
      ],
      "metadata": {
        "id": "2FWtXi4yKd2S"
      }
    },
    {
      "cell_type": "code",
      "source": [
        "from sklearn.preprocessing import LabelEncoder\n",
        "\n",
        "category_xs = []\n",
        "category_encoders = []\n",
        "\n",
        "def cate_LabelEncoding(cat_col_names):\n",
        "  for col_name in cat_col_names:\n",
        "\n",
        "    encoder = LabelEncoder()\n",
        "    encoded_xs = encoder.fit_transform(df[col_name])\n",
        "\n",
        "    category_xs.append(encoded_xs)\n",
        "    category_encoders.append(encoder)\n",
        "\n",
        "\n",
        "def bin_cate_col(bin_cate_cols):\n",
        "\n",
        "  for bin_cate_col in bin_cate_cols:\n",
        "    trans_1D_array = df[bin_cate_col].array\n",
        "    category_xs.append(trans_1D_array)"
      ],
      "metadata": {
        "id": "aqxOyPmSLBeY"
      },
      "execution_count": 182,
      "outputs": []
    },
    {
      "cell_type": "code",
      "source": [
        "cat_col_names = ['Tr_Pref_Name','Tr_small_area_name','usable_date_sum']\n",
        "\n",
        "bin_cate_cols = ['PURCHASE_FLG','DISPPERIOD', 'usable_date_mon', 'usable_date_tue',\n",
        "       'usable_date_wed', 'usable_date_thu', 'usable_date_fri',\n",
        "       'usable_date_sat', 'usable_date_sun', 'usable_date_holiday',\n",
        "       'usable_date_before_holiday', 'Male', 'Female', 'usable_date_sum']\n",
        "\n",
        "\n",
        "cate_LabelEncoding(cat_col_names)\n",
        "bin_cate_col(bin_cate_cols)"
      ],
      "metadata": {
        "id": "epAbcuBWMucw"
      },
      "execution_count": 183,
      "outputs": []
    },
    {
      "cell_type": "code",
      "source": [
        "category_xs = np.stack(category_xs, axis=1)\n",
        "category_xs = category_xs.astype(float)\n",
        "category_xs"
      ],
      "metadata": {
        "colab": {
          "base_uri": "https://localhost:8080/"
        },
        "id": "WRK21gklP92n",
        "outputId": "fb672edb-1737-426f-8202-f12729ead8a6"
      },
      "execution_count": 184,
      "outputs": [
        {
          "output_type": "execute_result",
          "data": {
            "text/plain": [
              "array([[41., 22.,  0., ...,  0.,  1.,  0.],\n",
              "       [35., 22.,  0., ...,  0.,  1.,  0.],\n",
              "       [10., 25.,  0., ...,  0.,  1.,  0.],\n",
              "       ...,\n",
              "       [16.,  4.,  9., ...,  1.,  0.,  9.],\n",
              "       [35.,  4.,  9., ...,  0.,  1.,  9.],\n",
              "       [10.,  4.,  9., ...,  0.,  1.,  9.]])"
            ]
          },
          "metadata": {},
          "execution_count": 184
        }
      ]
    },
    {
      "cell_type": "markdown",
      "source": [
        "## 2. 숫자형 데이터 전처리\n",
        "\n",
        "standarscaler()사용"
      ],
      "metadata": {
        "id": "-1G4NdgLNqaJ"
      }
    },
    {
      "cell_type": "code",
      "source": [
        "from sklearn.preprocessing import StandardScaler\n",
        "\n",
        "numeric_col_names = ['AGE','view_count', 'PRICE_RATE', 'DISCOUNT_PRICE']\n",
        "\n",
        "numeric_encoder = StandardScaler()\n",
        "numeric_xs = numeric_encoder.fit_transform(df[numeric_col_names])\n",
        "numeric_xs"
      ],
      "metadata": {
        "colab": {
          "base_uri": "https://localhost:8080/"
        },
        "id": "-dDUZkA2KdhV",
        "outputId": "ce4fd69c-cf6a-4e4f-8969-ccbbf97ae997"
      },
      "execution_count": 185,
      "outputs": [
        {
          "output_type": "execute_result",
          "data": {
            "text/plain": [
              "array([[ 0.47855476, -0.03021341,  1.6482547 , -0.49536808],\n",
              "       [ 1.47657574, -0.03021341,  1.6482547 , -0.49536808],\n",
              "       [ 0.02490886, -0.25515437, -0.50290517, -0.20868819],\n",
              "       ...,\n",
              "       [ 1.47657574, -0.15625037, -0.66837901,  1.49318929],\n",
              "       [-0.6101954 , -0.15625037, -0.66837901,  1.49318929],\n",
              "       [ 1.2043882 , -0.15625037, -0.66837901,  1.49318929]])"
            ]
          },
          "metadata": {},
          "execution_count": 185
        }
      ]
    },
    {
      "cell_type": "markdown",
      "source": [
        "# 타켓 변수 변환\n",
        "\n",
        "* Translated_genre_name 사용"
      ],
      "metadata": {
        "id": "eAgnSVrTOyIA"
      }
    },
    {
      "cell_type": "code",
      "source": [
        "np.unique(df['Translated_genre_name'])"
      ],
      "metadata": {
        "colab": {
          "base_uri": "https://localhost:8080/"
        },
        "id": "IqcORH70O_8Y",
        "outputId": "f1d17b15-c8cb-4756-f1c6-10c9910c4dfc"
      },
      "execution_count": 186,
      "outputs": [
        {
          "output_type": "execute_result",
          "data": {
            "text/plain": [
              "array(['건강・의료', '기타 쿠폰', '기프트 카드', '네일・아이', '레슨', '레저', '뷰티', '에스테틱',\n",
              "       '음식', '택배', '헤어 살롱', '호텔・여관', '휴식'], dtype=object)"
            ]
          },
          "metadata": {},
          "execution_count": 186
        }
      ]
    },
    {
      "cell_type": "code",
      "source": [
        "target_xs = []\n",
        "target_encoders = []\n",
        "\n",
        "\n",
        "encoder = LabelEncoder()\n",
        "encoded_xs = encoder.fit_transform(df['Translated_genre_name'])\n",
        "\n",
        "target_xs.append(encoded_xs)\n",
        "target_encoders.append(encoder)\n",
        "\n",
        "target_xs = np.stack(target_xs, axis=1)\n",
        "target_xs"
      ],
      "metadata": {
        "colab": {
          "base_uri": "https://localhost:8080/"
        },
        "id": "AgZMqiHqPKPO",
        "outputId": "31f24eca-3027-4547-a4cb-35a2515683e9"
      },
      "execution_count": 187,
      "outputs": [
        {
          "output_type": "execute_result",
          "data": {
            "text/plain": [
              "array([[ 9],\n",
              "       [ 9],\n",
              "       [ 9],\n",
              "       ...,\n",
              "       [11],\n",
              "       [11],\n",
              "       [11]])"
            ]
          },
          "metadata": {},
          "execution_count": 187
        }
      ]
    },
    {
      "cell_type": "markdown",
      "source": [
        "# 테이터 나누기"
      ],
      "metadata": {
        "id": "jrzVN779PQ-N"
      }
    },
    {
      "cell_type": "code",
      "source": [
        "from sklearn.model_selection import train_test_split\n",
        "from sklearn.utils import shuffle\n",
        "\n",
        "category_xs, numeric_xs, target_xs = shuffle(category_xs, numeric_xs, target_xs)\n",
        "\n",
        "splitted = train_test_split(category_xs, numeric_xs, target_xs,\n",
        "                            test_size=0.2,stratify=target_xs)\n",
        "\n",
        "train_category_xs, train_numeric_xs, train_ys = splitted[::2]\n",
        "test_category_xs, test_numeric_xs, test_ys = splitted[1::2]"
      ],
      "metadata": {
        "id": "DtcdmoG6PSsX"
      },
      "execution_count": 188,
      "outputs": []
    },
    {
      "cell_type": "code",
      "source": [
        "# 타켓 원-핫 인코딩\n",
        "# https://stackoverflow.com/questions/61550026/valueerror-shapes-none-1-and-none-3-are-incompatible\n",
        "\n",
        "\n",
        "train_ys = tf.keras.utils.to_categorical(train_ys, 13)\n",
        "test_ys = tf.keras.utils.to_categorical(test_ys, 13)"
      ],
      "metadata": {
        "id": "DQvxPS7SPT_N"
      },
      "execution_count": 189,
      "outputs": []
    },
    {
      "cell_type": "markdown",
      "source": [
        "## 명목형 입력값 임베딩\n",
        "Embedding Layer 사용\n",
        "https://www.tensorflow.org/api_docs/python/tf/keras/layers/Embedding\n",
        "\n",
        "LabelEncoder을 이용하면 지정된 정숫값의 서열이 있는 상태로 인코딩됨 해당 서열 정보를 없애주기 위해 딥러닝에서는 Embedding Layer를 사용할 수 있다."
      ],
      "metadata": {
        "id": "1GlfniulPbDI"
      }
    },
    {
      "cell_type": "code",
      "source": [
        "from tensorflow.keras.layers import Input\n",
        "from tensorflow.keras.layers import Embedding\n",
        "from tensorflow.keras.layers import Concatenate\n",
        "\n",
        "\n",
        "# 명목형 변수의 개수\n",
        "category_inputs = Input((17,), dtype=tf.int32)\n",
        "\n",
        "# 숫자형 변수의 개수\n",
        "numeric_inputs = Input((4,), dtype=tf.float32)\n",
        "\n",
        "\n",
        "\n",
        "\n",
        "embed_size = 3\n",
        "# 임베딩 레이어 설정\n",
        "embeds = []\n",
        "for idx, col_name in enumerate(cat_col_names):\n",
        "      # 각 변수 별 카테고리의 갯수\n",
        "      category_size = len(category_encoders[idx].classes_)\n",
        "\n",
        "      # 각 변수 별로 임베딩 레이어 적용 (-> 각 변수 내 카테고리별로 임베딩 값들이 모델에서 학습)\n",
        "      category_embeded = Embedding(\n",
        "          category_size, embed_size, name=col_name+'_embed')(category_inputs[:,idx])\n",
        "\n",
        "      embeds.append(category_embeded)\n",
        "print(embeds)\n",
        "\n",
        "\n",
        "# 명목형 변수와 수치형 변수 합치기\n",
        "\n",
        "inputs_list = embeds + [numeric_inputs]\n",
        "concats = Concatenate(name='embed_concat')(inputs_list)\n",
        "concats"
      ],
      "metadata": {
        "colab": {
          "base_uri": "https://localhost:8080/"
        },
        "id": "8twPiyTKRD82",
        "outputId": "b10e90c7-0fc5-47a7-bfae-0b9a8665bc77"
      },
      "execution_count": 191,
      "outputs": [
        {
          "output_type": "stream",
          "name": "stdout",
          "text": [
            "[<KerasTensor: shape=(None, 3) dtype=float32 (created by layer 'Tr_Pref_Name_embed')>, <KerasTensor: shape=(None, 3) dtype=float32 (created by layer 'Tr_small_area_name_embed')>, <KerasTensor: shape=(None, 3) dtype=float32 (created by layer 'usable_date_sum_embed')>]\n"
          ]
        },
        {
          "output_type": "execute_result",
          "data": {
            "text/plain": [
              "<KerasTensor: shape=(None, 13) dtype=float32 (created by layer 'embed_concat')>"
            ]
          },
          "metadata": {},
          "execution_count": 191
        }
      ]
    },
    {
      "cell_type": "markdown",
      "source": [
        "# 딥러닝 모델 구성\n",
        "\n",
        "* 하이퍼 파라미터 조정\n",
        "1) 은닉층 개수 - 2개 고정\n",
        "2) 옵티마이저  - Adam 고정\n",
        "3) 드롭아옷 - 0.5 고정\n",
        "4) 층의 뉴런 개수(neuron_counts) = [13,50,100]\n",
        "5) batch_size =  [64,512,1028]\n",
        "6) learning_rate = [0.1,0.01, 0.001]\n",
        "\n",
        "\n",
        "과적합 방지를 위해 L2규제 사용\n"
      ],
      "metadata": {
        "id": "oDu5A6qZSvOt"
      }
    },
    {
      "cell_type": "code",
      "source": [
        "from tensorflow.keras.layers import Dense\n",
        "from tensorflow.keras.layers import Flatten\n",
        "from tensorflow.keras.layers import Dropout\n",
        "from tensorflow.keras.regularizers import l2\n",
        "from tensorflow.keras.models import Model\n",
        "\n",
        "def model_builder(neuron_count):\n",
        "  hidden = Dense(neuron_count,activation='relu', name='hidden1',\n",
        "                kernel_regularizer=l2(1e-5))(concats)\n",
        "\n",
        "  hidden = Dropout(0.5, name='dropout1')(hidden)\n",
        "\n",
        "  hidden = Dense(neuron_count,activation='relu', name='hidden2',\n",
        "                kernel_regularizer=l2(1e-5))(hidden)\n",
        "  hidden = Dropout(0.5, name='dropout2')(hidden)\n",
        "\n",
        "  output = Dense(13, activation='softmax', name='output',\n",
        "                kernel_regularizer=l2(1e-5))(hidden)\n",
        "\n",
        "  model = Model([category_inputs, numeric_inputs], output)\n",
        "\n",
        "\n",
        "  return model"
      ],
      "metadata": {
        "id": "6sHPECXPPcCQ"
      },
      "execution_count": 192,
      "outputs": []
    },
    {
      "cell_type": "code",
      "source": [
        "neuron_counts = [13,50,100]\n",
        "\n",
        "model1 = model_builder(neuron_counts[0])\n",
        "model2 = model_builder(neuron_counts[1])\n",
        "model3 = model_builder(neuron_counts[2])\n",
        "\n",
        "\n",
        "model1.summary()"
      ],
      "metadata": {
        "colab": {
          "base_uri": "https://localhost:8080/"
        },
        "id": "CzrnbOuQ_BiE",
        "outputId": "616d3939-9fcd-4d1d-9d80-77ab07837c84"
      },
      "execution_count": 193,
      "outputs": [
        {
          "output_type": "stream",
          "name": "stdout",
          "text": [
            "Model: \"model_29\"\n",
            "__________________________________________________________________________________________________\n",
            " Layer (type)                   Output Shape         Param #     Connected to                     \n",
            "==================================================================================================\n",
            " input_9 (InputLayer)           [(None, 17)]         0           []                               \n",
            "                                                                                                  \n",
            " tf.__operators__.getitem_9 (Sl  (None,)             0           ['input_9[0][0]']                \n",
            " icingOpLambda)                                                                                   \n",
            "                                                                                                  \n",
            " tf.__operators__.getitem_10 (S  (None,)             0           ['input_9[0][0]']                \n",
            " licingOpLambda)                                                                                  \n",
            "                                                                                                  \n",
            " tf.__operators__.getitem_11 (S  (None,)             0           ['input_9[0][0]']                \n",
            " licingOpLambda)                                                                                  \n",
            "                                                                                                  \n",
            " Tr_Pref_Name_embed (Embedding)  (None, 3)           141         ['tf.__operators__.getitem_9[0][0\n",
            "                                                                 ]']                              \n",
            "                                                                                                  \n",
            " Tr_small_area_name_embed (Embe  (None, 3)           165         ['tf.__operators__.getitem_10[0][\n",
            " dding)                                                          0]']                             \n",
            "                                                                                                  \n",
            " usable_date_sum_embed (Embeddi  (None, 3)           30          ['tf.__operators__.getitem_11[0][\n",
            " ng)                                                             0]']                             \n",
            "                                                                                                  \n",
            " input_10 (InputLayer)          [(None, 4)]          0           []                               \n",
            "                                                                                                  \n",
            " embed_concat (Concatenate)     (None, 13)           0           ['Tr_Pref_Name_embed[0][0]',     \n",
            "                                                                  'Tr_small_area_name_embed[0][0]'\n",
            "                                                                 , 'usable_date_sum_embed[0][0]', \n",
            "                                                                  'input_10[0][0]']               \n",
            "                                                                                                  \n",
            " hidden1 (Dense)                (None, 13)           182         ['embed_concat[0][0]']           \n",
            "                                                                                                  \n",
            " dropout1 (Dropout)             (None, 13)           0           ['hidden1[0][0]']                \n",
            "                                                                                                  \n",
            " hidden2 (Dense)                (None, 13)           182         ['dropout1[0][0]']               \n",
            "                                                                                                  \n",
            " dropout2 (Dropout)             (None, 13)           0           ['hidden2[0][0]']                \n",
            "                                                                                                  \n",
            " output (Dense)                 (None, 13)           182         ['dropout2[0][0]']               \n",
            "                                                                                                  \n",
            "==================================================================================================\n",
            "Total params: 882\n",
            "Trainable params: 882\n",
            "Non-trainable params: 0\n",
            "__________________________________________________________________________________________________\n"
          ]
        }
      ]
    },
    {
      "cell_type": "markdown",
      "source": [
        "### model1_1\n",
        "* 각 층의 뉴런 13개/배치 64/학습률 0.1"
      ],
      "metadata": {
        "id": "wZ1NlBQUjkCZ"
      }
    },
    {
      "cell_type": "code",
      "source": [
        "from tensorflow.keras.optimizers import Adam\n",
        "\n",
        "opt = Adam(learning_rate = 0.1)\n",
        "model1.compile(optimizer=opt,\n",
        "                loss='categorical_crossentropy',\n",
        "                metrics='accuracy')\n",
        "\n",
        "  # 조기 종료\n",
        "checkpoint_cb = keras.callbacks.ModelCheckpoint('best-model.h5',\n",
        "                                                  save_best_only=True)\n",
        "early_stopping_cb = keras.callbacks.EarlyStopping(patience=5,\n",
        "                                                    restore_best_weights=True)\n",
        "train_xs = [train_category_xs,train_numeric_xs]\n",
        "\n",
        "\n",
        "history = model1.fit(x=train_xs, y=train_ys,\n",
        "            batch_size=64, epochs=100,\n",
        "            validation_split=0.1,\n",
        "            verbose=1,\n",
        "            callbacks=[checkpoint_cb, early_stopping_cb])"
      ],
      "metadata": {
        "colab": {
          "base_uri": "https://localhost:8080/"
        },
        "id": "dlcKh1TVDDjK",
        "outputId": "33b098ac-36d7-429a-d4c8-854e409d5454"
      },
      "execution_count": 194,
      "outputs": [
        {
          "output_type": "stream",
          "name": "stdout",
          "text": [
            "Epoch 1/100\n",
            "22882/22882 [==============================] - 73s 3ms/step - loss: 1.3598 - accuracy: 0.5195 - val_loss: 1.2373 - val_accuracy: 0.5358\n",
            "Epoch 2/100\n",
            "22882/22882 [==============================] - 68s 3ms/step - loss: 1.4054 - accuracy: 0.5004 - val_loss: 1.2159 - val_accuracy: 0.5350\n",
            "Epoch 3/100\n",
            "22882/22882 [==============================] - 62s 3ms/step - loss: 1.4291 - accuracy: 0.4980 - val_loss: 1.2421 - val_accuracy: 0.5424\n",
            "Epoch 4/100\n",
            "22882/22882 [==============================] - 66s 3ms/step - loss: 1.4081 - accuracy: 0.5061 - val_loss: 1.1991 - val_accuracy: 0.5360\n",
            "Epoch 5/100\n",
            "22882/22882 [==============================] - 58s 3ms/step - loss: 1.4890 - accuracy: 0.4745 - val_loss: 1.2728 - val_accuracy: 0.5362\n",
            "Epoch 6/100\n",
            "22882/22882 [==============================] - 60s 3ms/step - loss: 1.5714 - accuracy: 0.4354 - val_loss: 1.3052 - val_accuracy: 0.5532\n",
            "Epoch 7/100\n",
            "22882/22882 [==============================] - 89s 4ms/step - loss: 1.6452 - accuracy: 0.3660 - val_loss: 1.7527 - val_accuracy: 0.2888\n",
            "Epoch 8/100\n",
            "22882/22882 [==============================] - 75s 3ms/step - loss: 1.7601 - accuracy: 0.2781 - val_loss: 1.7535 - val_accuracy: 0.2888\n",
            "Epoch 9/100\n",
            "22882/22882 [==============================] - 91s 4ms/step - loss: 1.7600 - accuracy: 0.2779 - val_loss: 1.7533 - val_accuracy: 0.2646\n"
          ]
        }
      ]
    },
    {
      "cell_type": "code",
      "source": [
        "def acc_lossplot(model, name):\n",
        "  loss, acc = model.evaluate(x=[test_category_xs, test_numeric_xs], y=test_ys, verbose=1)\n",
        "  print(f\"딥러닝 모형의 정확도 : {acc:.3%}\")\n",
        "\n",
        "  plt.plot(history.history['loss'])\n",
        "  plt.plot(history.history['val_loss'])\n",
        "  plt.xlabel('epoch')\n",
        "  plt.ylabel('loss')\n",
        "\n",
        "  plt.title(name)\n",
        "  plt.legend(['train', 'val'])\n",
        "  plt.show()"
      ],
      "metadata": {
        "id": "fkCk4ZgIVmv0"
      },
      "execution_count": 195,
      "outputs": []
    },
    {
      "cell_type": "code",
      "source": [
        "acc_lossplot(model1, 'model1_1')"
      ],
      "metadata": {
        "colab": {
          "base_uri": "https://localhost:8080/",
          "height": 508
        },
        "id": "VGYwSRrQBmij",
        "outputId": "7f8ce908-0a82-40f2-8827-d01cd902e734"
      },
      "execution_count": 196,
      "outputs": [
        {
          "output_type": "stream",
          "name": "stdout",
          "text": [
            "12712/12712 [==============================] - 30s 2ms/step - loss: 1.2017 - accuracy: 0.5356\n",
            "딥러닝 모형의 정확도 : 53.559%\n"
          ]
        },
        {
          "output_type": "display_data",
          "data": {
            "text/plain": [
              "<Figure size 640x480 with 1 Axes>"
            ],
            "image/png": "[encoded data removed]"
          },
          "metadata": {}
        }
      ]
    },
    {
      "cell_type": "markdown",
      "source": [
        "### model1_2\n",
        "* 각 층의 뉴런 13개/배치 64/학습률 0.01"
      ],
      "metadata": {
        "id": "d3VaJvhecw_W"
      }
    },
    {
      "cell_type": "code",
      "source": [
        "model1_2 = model_builder(neuron_counts[0])"
      ],
      "metadata": {
        "id": "tvZyWaV-QJRx"
      },
      "execution_count": 197,
      "outputs": []
    },
    {
      "cell_type": "code",
      "source": [
        "opt = Adam(learning_rate = 0.01)\n",
        "model1_2.compile(optimizer=opt,\n",
        "                loss='categorical_crossentropy',\n",
        "                metrics='accuracy')\n",
        "\n",
        "checkpoint_cb = keras.callbacks.ModelCheckpoint('best-model.h5',\n",
        "                                                  save_best_only=True)\n",
        "early_stopping_cb = keras.callbacks.EarlyStopping(patience=5,\n",
        "                                                    restore_best_weights=True)\n",
        "train_xs = [train_category_xs,train_numeric_xs]\n",
        "\n",
        "history = model1_2.fit(x=train_xs, y=train_ys,\n",
        "            batch_size=64, epochs=100,\n",
        "            validation_split=0.1,\n",
        "            verbose=1,\n",
        "            callbacks=[checkpoint_cb, early_stopping_cb])"
      ],
      "metadata": {
        "colab": {
          "base_uri": "https://localhost:8080/"
        },
        "id": "uuLwbmHhWXmW",
        "outputId": "971f3916-371d-451f-c4b9-83997fc67816"
      },
      "execution_count": 198,
      "outputs": [
        {
          "output_type": "stream",
          "name": "stdout",
          "text": [
            "Epoch 1/100\n",
            "22882/22882 [==============================] - 170s 5ms/step - loss: 0.9896 - accuracy: 0.7082 - val_loss: 0.7532 - val_accuracy: 0.7722\n",
            "Epoch 2/100\n",
            "22882/22882 [==============================] - 111s 5ms/step - loss: 0.9551 - accuracy: 0.7193 - val_loss: 0.7527 - val_accuracy: 0.7725\n",
            "Epoch 3/100\n",
            "22882/22882 [==============================] - 98s 4ms/step - loss: 0.9507 - accuracy: 0.7198 - val_loss: 0.7468 - val_accuracy: 0.7723\n",
            "Epoch 4/100\n",
            "22882/22882 [==============================] - 99s 4ms/step - loss: 0.9463 - accuracy: 0.7210 - val_loss: 0.7519 - val_accuracy: 0.7726\n",
            "Epoch 5/100\n",
            "22882/22882 [==============================] - 75s 3ms/step - loss: 0.9448 - accuracy: 0.7208 - val_loss: 0.7575 - val_accuracy: 0.7722\n",
            "Epoch 6/100\n",
            "22882/22882 [==============================] - 58s 3ms/step - loss: 0.9432 - accuracy: 0.7220 - val_loss: 0.7674 - val_accuracy: 0.7728\n",
            "Epoch 7/100\n",
            "22882/22882 [==============================] - 67s 3ms/step - loss: 0.9421 - accuracy: 0.7214 - val_loss: 0.7356 - val_accuracy: 0.7727\n",
            "Epoch 8/100\n",
            "22882/22882 [==============================] - 64s 3ms/step - loss: 0.9420 - accuracy: 0.7213 - val_loss: 0.7564 - val_accuracy: 0.7719\n",
            "Epoch 9/100\n",
            "22882/22882 [==============================] - 61s 3ms/step - loss: 0.9413 - accuracy: 0.7211 - val_loss: 0.7584 - val_accuracy: 0.7732\n",
            "Epoch 10/100\n",
            "22882/22882 [==============================] - 53s 2ms/step - loss: 0.9419 - accuracy: 0.7216 - val_loss: 0.7518 - val_accuracy: 0.7735\n",
            "Epoch 11/100\n",
            "22882/22882 [==============================] - 52s 2ms/step - loss: 0.9410 - accuracy: 0.7220 - val_loss: 0.7483 - val_accuracy: 0.7699\n",
            "Epoch 12/100\n",
            "22882/22882 [==============================] - 50s 2ms/step - loss: 0.9405 - accuracy: 0.7219 - val_loss: 0.7400 - val_accuracy: 0.7742\n"
          ]
        }
      ]
    },
    {
      "cell_type": "code",
      "source": [
        "acc_lossplot(model1_2, 'model1_2')"
      ],
      "metadata": {
        "colab": {
          "base_uri": "https://localhost:8080/",
          "height": 508
        },
        "id": "B9JoJaPcQp50",
        "outputId": "9cc91b08-8d22-4485-c1d4-bb0f687af847"
      },
      "execution_count": 199,
      "outputs": [
        {
          "output_type": "stream",
          "name": "stdout",
          "text": [
            "12712/12712 [==============================] - 20s 2ms/step - loss: 0.7380 - accuracy: 0.7722\n",
            "딥러닝 모형의 정확도 : 77.224%\n"
          ]
        },
        {
          "output_type": "display_data",
          "data": {
            "text/plain": [
              "<Figure size 640x480 with 1 Axes>"
            ],
            "image/png": "[encoded data removed]"
          },
          "metadata": {}
        }
      ]
    },
    {
      "cell_type": "markdown",
      "source": [
        "### model1_3\n",
        "\n",
        "* 각 층의 뉴런 13개/배치 64/학습률 0.001"
      ],
      "metadata": {
        "id": "BL2DeKmiczJG"
      }
    },
    {
      "cell_type": "code",
      "source": [
        "model1_3= model_builder(neuron_counts[0])"
      ],
      "metadata": {
        "id": "OD4TLXNPQqAC"
      },
      "execution_count": 200,
      "outputs": []
    },
    {
      "cell_type": "code",
      "source": [
        "opt = Adam(learning_rate = 0.001)\n",
        "model1_3.compile(optimizer=opt,\n",
        "                loss='categorical_crossentropy',\n",
        "                metrics='accuracy')\n",
        "\n",
        "\n",
        "# 조기 종료\n",
        "checkpoint_cb = keras.callbacks.ModelCheckpoint('best-model.h5',\n",
        "                                                  save_best_only=True)\n",
        "\n",
        "early_stopping_cb = keras.callbacks.EarlyStopping(patience=5,\n",
        "                                                    restore_best_weights=True)\n",
        "\n",
        "train_xs = [train_category_xs,train_numeric_xs]\n",
        "\n",
        "\n",
        "history = model1_3.fit(x=train_xs, y=train_ys,\n",
        "            batch_size=64, epochs=100,\n",
        "            validation_split=0.1,\n",
        "            verbose=1,\n",
        "            callbacks=[checkpoint_cb, early_stopping_cb])"
      ],
      "metadata": {
        "colab": {
          "base_uri": "https://localhost:8080/"
        },
        "id": "zcp1tiqKSs3w",
        "outputId": "4501cabb-4761-4c37-d7a9-d4e0fdc7e601"
      },
      "execution_count": 201,
      "outputs": [
        {
          "output_type": "stream",
          "name": "stdout",
          "text": [
            "Epoch 1/100\n",
            "22882/22882 [==============================] - 53s 2ms/step - loss: 0.9299 - accuracy: 0.7068 - val_loss: 0.7045 - val_accuracy: 0.7834\n",
            "Epoch 2/100\n",
            "22882/22882 [==============================] - 53s 2ms/step - loss: 0.8597 - accuracy: 0.7292 - val_loss: 0.6974 - val_accuracy: 0.7851\n",
            "Epoch 3/100\n",
            "22882/22882 [==============================] - 52s 2ms/step - loss: 0.8563 - accuracy: 0.7297 - val_loss: 0.6912 - val_accuracy: 0.7865\n",
            "Epoch 4/100\n",
            "22882/22882 [==============================] - 53s 2ms/step - loss: 0.8536 - accuracy: 0.7305 - val_loss: 0.6895 - val_accuracy: 0.7866\n",
            "Epoch 5/100\n",
            "22882/22882 [==============================] - 55s 2ms/step - loss: 0.8527 - accuracy: 0.7308 - val_loss: 0.6913 - val_accuracy: 0.7878\n",
            "Epoch 6/100\n",
            "22882/22882 [==============================] - 57s 3ms/step - loss: 0.8515 - accuracy: 0.7321 - val_loss: 0.6977 - val_accuracy: 0.7842\n",
            "Epoch 7/100\n",
            "22882/22882 [==============================] - 59s 3ms/step - loss: 0.8496 - accuracy: 0.7325 - val_loss: 0.6992 - val_accuracy: 0.7854\n",
            "Epoch 8/100\n",
            "22882/22882 [==============================] - 53s 2ms/step - loss: 0.8482 - accuracy: 0.7332 - val_loss: 0.6832 - val_accuracy: 0.7889\n",
            "Epoch 9/100\n",
            "22882/22882 [==============================] - 51s 2ms/step - loss: 0.8484 - accuracy: 0.7333 - val_loss: 0.6865 - val_accuracy: 0.7866\n",
            "Epoch 10/100\n",
            "22882/22882 [==============================] - 50s 2ms/step - loss: 0.8485 - accuracy: 0.7329 - val_loss: 0.6906 - val_accuracy: 0.7856\n",
            "Epoch 11/100\n",
            "22882/22882 [==============================] - 51s 2ms/step - loss: 0.8474 - accuracy: 0.7331 - val_loss: 0.6858 - val_accuracy: 0.7902\n",
            "Epoch 12/100\n",
            "22882/22882 [==============================] - 51s 2ms/step - loss: 0.8481 - accuracy: 0.7333 - val_loss: 0.6734 - val_accuracy: 0.7964\n",
            "Epoch 13/100\n",
            "22882/22882 [==============================] - 52s 2ms/step - loss: 0.8469 - accuracy: 0.7338 - val_loss: 0.6826 - val_accuracy: 0.7853\n",
            "Epoch 14/100\n",
            "22882/22882 [==============================] - 51s 2ms/step - loss: 0.8460 - accuracy: 0.7341 - val_loss: 0.6886 - val_accuracy: 0.7841\n",
            "Epoch 15/100\n",
            "22882/22882 [==============================] - 51s 2ms/step - loss: 0.8471 - accuracy: 0.7340 - val_loss: 0.6847 - val_accuracy: 0.7875\n",
            "Epoch 16/100\n",
            "22882/22882 [==============================] - 52s 2ms/step - loss: 0.8456 - accuracy: 0.7340 - val_loss: 0.6855 - val_accuracy: 0.7866\n",
            "Epoch 17/100\n",
            "22882/22882 [==============================] - 51s 2ms/step - loss: 0.8454 - accuracy: 0.7334 - val_loss: 0.6792 - val_accuracy: 0.7920\n"
          ]
        }
      ]
    },
    {
      "cell_type": "code",
      "source": [
        "acc_lossplot(model1_3, 'model1_3')"
      ],
      "metadata": {
        "colab": {
          "base_uri": "https://localhost:8080/",
          "height": 508
        },
        "id": "-Gf4iT8FStBm",
        "outputId": "949e8626-52a7-4304-d70f-edae68061544"
      },
      "execution_count": 202,
      "outputs": [
        {
          "output_type": "stream",
          "name": "stdout",
          "text": [
            "12712/12712 [==============================] - 20s 2ms/step - loss: 0.6761 - accuracy: 0.7957\n",
            "딥러닝 모형의 정확도 : 79.570%\n"
          ]
        },
        {
          "output_type": "display_data",
          "data": {
            "text/plain": [
              "<Figure size 640x480 with 1 Axes>"
            ],
            "image/png": "[encoded data removed]"
          },
          "metadata": {}
        }
      ]
    },
    {
      "cell_type": "markdown",
      "source": [
        "\n",
        "### model1_4\n",
        "\n",
        "* 각 층의 뉴런 13개/배치 256/학습률 0.1"
      ],
      "metadata": {
        "id": "SSh5bU0Lc222"
      }
    },
    {
      "cell_type": "code",
      "source": [
        "model1_4=model_builder(neuron_counts[0])"
      ],
      "metadata": {
        "id": "L2st-2HTS5SX"
      },
      "execution_count": 203,
      "outputs": []
    },
    {
      "cell_type": "code",
      "source": [
        "opt = Adam(learning_rate = 0.1)\n",
        "model1_4.compile(optimizer=opt,\n",
        "                loss='categorical_crossentropy',\n",
        "                metrics='accuracy')\n",
        "\n",
        "  # 조기 종료\n",
        "checkpoint_cb = keras.callbacks.ModelCheckpoint('best-model.h5',\n",
        "                                                  save_best_only=True)\n",
        "early_stopping_cb = keras.callbacks.EarlyStopping(patience=5,\n",
        "                                                    restore_best_weights=True)\n",
        "train_xs = [train_category_xs,train_numeric_xs]\n",
        "\n",
        "history = model1_4.fit(x=train_xs, y=train_ys,\n",
        "            batch_size=256, epochs=100,\n",
        "            validation_split=0.1,\n",
        "            verbose=1,\n",
        "            callbacks=[checkpoint_cb, early_stopping_cb])"
      ],
      "metadata": {
        "colab": {
          "base_uri": "https://localhost:8080/"
        },
        "id": "iC9k2Z8lWFL4",
        "outputId": "821f05c8-b684-4e5a-ed76-7ba39c48a911"
      },
      "execution_count": 204,
      "outputs": [
        {
          "output_type": "stream",
          "name": "stdout",
          "text": [
            "Epoch 1/100\n",
            "5721/5721 [==============================] - 17s 3ms/step - loss: 1.3533 - accuracy: 0.5237 - val_loss: 1.1932 - val_accuracy: 0.5532\n",
            "Epoch 2/100\n",
            "5721/5721 [==============================] - 15s 3ms/step - loss: 1.4415 - accuracy: 0.4577 - val_loss: 1.2103 - val_accuracy: 0.5362\n",
            "Epoch 3/100\n",
            "5721/5721 [==============================] - 14s 2ms/step - loss: 1.5570 - accuracy: 0.3984 - val_loss: 1.7514 - val_accuracy: 0.2888\n",
            "Epoch 4/100\n",
            "5721/5721 [==============================] - 15s 3ms/step - loss: 1.7585 - accuracy: 0.2819 - val_loss: 1.7547 - val_accuracy: 0.2888\n",
            "Epoch 5/100\n",
            "5721/5721 [==============================] - 15s 3ms/step - loss: 1.7567 - accuracy: 0.2819 - val_loss: 1.7504 - val_accuracy: 0.2888\n",
            "Epoch 6/100\n",
            "5721/5721 [==============================] - 15s 3ms/step - loss: 1.7559 - accuracy: 0.2818 - val_loss: 1.7521 - val_accuracy: 0.2646\n"
          ]
        }
      ]
    },
    {
      "cell_type": "code",
      "source": [
        "acc_lossplot(model1, 'model1_4')"
      ],
      "metadata": {
        "colab": {
          "base_uri": "https://localhost:8080/",
          "height": 508
        },
        "id": "MsqinVD5TRJt",
        "outputId": "e9fb0fab-4bba-44c3-d006-b7fc625ab5e2"
      },
      "execution_count": 205,
      "outputs": [
        {
          "output_type": "stream",
          "name": "stdout",
          "text": [
            "12712/12712 [==============================] - 19s 2ms/step - loss: 1.4173 - accuracy: 0.4536\n",
            "딥러닝 모형의 정확도 : 45.357%\n"
          ]
        },
        {
          "output_type": "display_data",
          "data": {
            "text/plain": [
              "<Figure size 640x480 with 1 Axes>"
            ],
            "image/png": "[encoded data removed]"
          },
          "metadata": {}
        }
      ]
    },
    {
      "cell_type": "markdown",
      "source": [
        "### model1_5\n",
        "\n",
        "* 각 층의 뉴런 13개/배치 256/학습률 0.01"
      ],
      "metadata": {
        "id": "eFh_gmBgc7kJ"
      }
    },
    {
      "cell_type": "code",
      "source": [
        "model1_5= model_builder(neuron_counts[0])"
      ],
      "metadata": {
        "id": "gwoDBUYcS5WO"
      },
      "execution_count": 206,
      "outputs": []
    },
    {
      "cell_type": "code",
      "source": [
        "opt = Adam(learning_rate = 0.01)\n",
        "model1_5.compile(optimizer=opt,\n",
        "                loss='categorical_crossentropy',\n",
        "                metrics='accuracy')\n",
        "\n",
        "\n",
        "  # 조기 종료\n",
        "checkpoint_cb = keras.callbacks.ModelCheckpoint('best-model.h5',\n",
        "                                                  save_best_only=True)\n",
        "early_stopping_cb = keras.callbacks.EarlyStopping(patience=5,\n",
        "                                                    restore_best_weights=True)\n",
        "train_xs = [train_category_xs,train_numeric_xs]\n",
        "\n",
        "history = model1_5.fit(x=train_xs, y=train_ys,\n",
        "            batch_size=256, epochs=100,\n",
        "            validation_split=0.1,\n",
        "            verbose=1,\n",
        "            callbacks=[checkpoint_cb, early_stopping_cb])"
      ],
      "metadata": {
        "colab": {
          "base_uri": "https://localhost:8080/"
        },
        "id": "lT6p9dfaTQ3P",
        "outputId": "23e9b5a5-a183-4e60-c5ce-f1741c2380f0"
      },
      "execution_count": 207,
      "outputs": [
        {
          "output_type": "stream",
          "name": "stdout",
          "text": [
            "Epoch 1/100\n",
            "5721/5721 [==============================] - 18s 3ms/step - loss: 0.9196 - accuracy: 0.7054 - val_loss: 0.7033 - val_accuracy: 0.7855\n",
            "Epoch 2/100\n",
            "5721/5721 [==============================] - 15s 3ms/step - loss: 0.8730 - accuracy: 0.7208 - val_loss: 0.6870 - val_accuracy: 0.7819\n",
            "Epoch 3/100\n",
            "5721/5721 [==============================] - 14s 2ms/step - loss: 0.8691 - accuracy: 0.7252 - val_loss: 0.6863 - val_accuracy: 0.7845\n",
            "Epoch 4/100\n",
            "5721/5721 [==============================] - 15s 3ms/step - loss: 0.8682 - accuracy: 0.7262 - val_loss: 0.6920 - val_accuracy: 0.7806\n",
            "Epoch 5/100\n",
            "5721/5721 [==============================] - 15s 3ms/step - loss: 0.8698 - accuracy: 0.7267 - val_loss: 0.7023 - val_accuracy: 0.7773\n",
            "Epoch 6/100\n",
            "5721/5721 [==============================] - 15s 3ms/step - loss: 0.8694 - accuracy: 0.7270 - val_loss: 0.7116 - val_accuracy: 0.7794\n",
            "Epoch 7/100\n",
            "5721/5721 [==============================] - 15s 3ms/step - loss: 0.8685 - accuracy: 0.7278 - val_loss: 0.7010 - val_accuracy: 0.7827\n",
            "Epoch 8/100\n",
            "5721/5721 [==============================] - 15s 3ms/step - loss: 0.8674 - accuracy: 0.7271 - val_loss: 0.6931 - val_accuracy: 0.7835\n"
          ]
        }
      ]
    },
    {
      "cell_type": "code",
      "source": [
        "acc_lossplot(model1_5, 'model1_5')"
      ],
      "metadata": {
        "colab": {
          "base_uri": "https://localhost:8080/",
          "height": 508
        },
        "id": "8NzLln8STRu8",
        "outputId": "2aab0e0c-1de6-4b52-e359-9a262f70b1c0"
      },
      "execution_count": 208,
      "outputs": [
        {
          "output_type": "stream",
          "name": "stdout",
          "text": [
            "12712/12712 [==============================] - 19s 2ms/step - loss: 0.6900 - accuracy: 0.7833\n",
            "딥러닝 모형의 정확도 : 78.332%\n"
          ]
        },
        {
          "output_type": "display_data",
          "data": {
            "text/plain": [
              "<Figure size 640x480 with 1 Axes>"
            ],
            "image/png": "[encoded data removed]"
          },
          "metadata": {}
        }
      ]
    },
    {
      "cell_type": "markdown",
      "source": [
        "### model1_6\n",
        "\n",
        "* 각 층의 뉴런 13개/배치 256/학습률 0.001"
      ],
      "metadata": {
        "id": "yaJI3sUgc_sV"
      }
    },
    {
      "cell_type": "code",
      "source": [
        "model1_6 = model_builder(neuron_counts[0])\n",
        "\n",
        "opt = Adam(learning_rate = 0.001)\n",
        "model1_6.compile(optimizer=opt,\n",
        "                loss='categorical_crossentropy',\n",
        "                metrics='accuracy')\n",
        "\n",
        "\n",
        "  # 조기 종료\n",
        "checkpoint_cb = keras.callbacks.ModelCheckpoint('best-model.h5',\n",
        "                                                  save_best_only=True)\n",
        "early_stopping_cb = keras.callbacks.EarlyStopping(patience=5,\n",
        "                                                    restore_best_weights=True)\n",
        "train_xs = [train_category_xs,train_numeric_xs]\n",
        "\n",
        "history = model1_6.fit(x=train_xs, y=train_ys,\n",
        "            batch_size=256, epochs=100,\n",
        "            validation_split=0.1,\n",
        "            verbose=1,\n",
        "            callbacks=[checkpoint_cb, early_stopping_cb])\n"
      ],
      "metadata": {
        "colab": {
          "base_uri": "https://localhost:8080/"
        },
        "id": "i6wDMQg1S5a7",
        "outputId": "dbd58ccd-7b89-44ca-9e21-19b9035fb2be"
      },
      "execution_count": 209,
      "outputs": [
        {
          "output_type": "stream",
          "name": "stdout",
          "text": [
            "Epoch 1/100\n",
            "5721/5721 [==============================] - 16s 3ms/step - loss: 1.1200 - accuracy: 0.6609 - val_loss: 0.7267 - val_accuracy: 0.7796\n",
            "Epoch 2/100\n",
            "5721/5721 [==============================] - 14s 2ms/step - loss: 0.9036 - accuracy: 0.7317 - val_loss: 0.7040 - val_accuracy: 0.7837\n",
            "Epoch 3/100\n",
            "5721/5721 [==============================] - 14s 3ms/step - loss: 0.8674 - accuracy: 0.7429 - val_loss: 0.7130 - val_accuracy: 0.7840\n",
            "Epoch 4/100\n",
            "5721/5721 [==============================] - 14s 2ms/step - loss: 0.8625 - accuracy: 0.7454 - val_loss: 0.7161 - val_accuracy: 0.7846\n",
            "Epoch 5/100\n",
            "5721/5721 [==============================] - 15s 3ms/step - loss: 0.8613 - accuracy: 0.7458 - val_loss: 0.7192 - val_accuracy: 0.7843\n",
            "Epoch 6/100\n",
            "5721/5721 [==============================] - 15s 3ms/step - loss: 0.8582 - accuracy: 0.7470 - val_loss: 0.7253 - val_accuracy: 0.7843\n",
            "Epoch 7/100\n",
            "5721/5721 [==============================] - 14s 3ms/step - loss: 0.8569 - accuracy: 0.7471 - val_loss: 0.7228 - val_accuracy: 0.7823\n"
          ]
        }
      ]
    },
    {
      "cell_type": "code",
      "source": [
        "acc_lossplot(model1_6, 'model1_6')"
      ],
      "metadata": {
        "colab": {
          "base_uri": "https://localhost:8080/",
          "height": 508
        },
        "id": "dlDeHpiBfwOs",
        "outputId": "b12f43b4-7592-4b30-9225-deca5e4afc75"
      },
      "execution_count": 210,
      "outputs": [
        {
          "output_type": "stream",
          "name": "stdout",
          "text": [
            "12712/12712 [==============================] - 19s 2ms/step - loss: 0.7082 - accuracy: 0.7829\n",
            "딥러닝 모형의 정확도 : 78.292%\n"
          ]
        },
        {
          "output_type": "display_data",
          "data": {
            "text/plain": [
              "<Figure size 640x480 with 1 Axes>"
            ],
            "image/png": "[encoded data removed]"
          },
          "metadata": {}
        }
      ]
    },
    {
      "cell_type": "markdown",
      "source": [
        "### model1_7\n",
        "\n",
        "* 각 층의 뉴런 13개/배치 512/학습률 0.1"
      ],
      "metadata": {
        "id": "hZ5QKmfXdBxW"
      }
    },
    {
      "cell_type": "code",
      "source": [
        "model1_7 = model_builder(neuron_counts[0])"
      ],
      "metadata": {
        "id": "r8YQuGY5csxG"
      },
      "execution_count": 211,
      "outputs": []
    },
    {
      "cell_type": "code",
      "source": [
        "opt = Adam(learning_rate = 0.1)\n",
        "model1_7.compile(optimizer=opt,\n",
        "                loss='categorical_crossentropy',\n",
        "                metrics='accuracy')\n",
        "\n",
        "\n",
        "checkpoint_cb = keras.callbacks.ModelCheckpoint('best-model.h5',\n",
        "                                                  save_best_only=True)\n",
        "early_stopping_cb = keras.callbacks.EarlyStopping(patience=5,\n",
        "                                                    restore_best_weights=True)\n",
        "train_xs = [train_category_xs,train_numeric_xs]\n",
        "\n",
        "history = model1_7.fit(x=train_xs, y=train_ys,\n",
        "            batch_size=512, epochs=100,\n",
        "            validation_split=0.1,\n",
        "            verbose=1,\n",
        "            callbacks=[checkpoint_cb, early_stopping_cb])"
      ],
      "metadata": {
        "colab": {
          "base_uri": "https://localhost:8080/"
        },
        "id": "tlWbVdE1e95G",
        "outputId": "791f83d0-9c5d-4b98-f5ea-045bce1f0dbf"
      },
      "execution_count": 212,
      "outputs": [
        {
          "output_type": "stream",
          "name": "stdout",
          "text": [
            "Epoch 1/100\n",
            "2861/2861 [==============================] - 11s 3ms/step - loss: 1.2290 - accuracy: 0.5974 - val_loss: 0.9543 - val_accuracy: 0.7676\n",
            "Epoch 2/100\n",
            "2861/2861 [==============================] - 8s 3ms/step - loss: 1.2251 - accuracy: 0.5956 - val_loss: 1.0364 - val_accuracy: 0.7391\n",
            "Epoch 3/100\n",
            "2861/2861 [==============================] - 9s 3ms/step - loss: 1.2797 - accuracy: 0.5371 - val_loss: 1.1673 - val_accuracy: 0.5532\n",
            "Epoch 4/100\n",
            "2861/2861 [==============================] - 9s 3ms/step - loss: 1.2968 - accuracy: 0.5109 - val_loss: 1.1493 - val_accuracy: 0.5532\n",
            "Epoch 5/100\n",
            "2861/2861 [==============================] - 8s 3ms/step - loss: 1.3204 - accuracy: 0.5028 - val_loss: 1.1718 - val_accuracy: 0.5364\n",
            "Epoch 6/100\n",
            "2861/2861 [==============================] - 9s 3ms/step - loss: 1.3448 - accuracy: 0.4941 - val_loss: 1.1732 - val_accuracy: 0.5532\n"
          ]
        }
      ]
    },
    {
      "cell_type": "code",
      "source": [
        "acc_lossplot(model1_7, 'model1_7')"
      ],
      "metadata": {
        "colab": {
          "base_uri": "https://localhost:8080/",
          "height": 508
        },
        "id": "5BUFaouYe97b",
        "outputId": "325885c8-0718-4c17-c4c2-3cfeb59c6f82"
      },
      "execution_count": 213,
      "outputs": [
        {
          "output_type": "stream",
          "name": "stdout",
          "text": [
            "12712/12712 [==============================] - 19s 1ms/step - loss: 0.9568 - accuracy: 0.7674\n",
            "딥러닝 모형의 정확도 : 76.739%\n"
          ]
        },
        {
          "output_type": "display_data",
          "data": {
            "text/plain": [
              "<Figure size 640x480 with 1 Axes>"
            ],
            "image/png": "[encoded data removed]"
          },
          "metadata": {}
        }
      ]
    },
    {
      "cell_type": "markdown",
      "source": [
        "### model1_8\n",
        "\n",
        "* 각 층의 뉴런 13개/배치 512/학습률 0.01"
      ],
      "metadata": {
        "id": "baMQSBy-fGj3"
      }
    },
    {
      "cell_type": "code",
      "source": [
        "model1_8 = model_builder(neuron_counts[0])"
      ],
      "metadata": {
        "id": "JPkXYte3e_Lt"
      },
      "execution_count": 214,
      "outputs": []
    },
    {
      "cell_type": "code",
      "source": [
        "opt = Adam(learning_rate = 0.01)\n",
        "model1_8.compile(optimizer=opt,\n",
        "                loss='categorical_crossentropy',\n",
        "                metrics='accuracy')\n",
        "\n",
        "\n",
        "checkpoint_cb = keras.callbacks.ModelCheckpoint('best-model.h5',\n",
        "                                                  save_best_only=True)\n",
        "early_stopping_cb = keras.callbacks.EarlyStopping(patience=5,\n",
        "                                                    restore_best_weights=True)\n",
        "train_xs = [train_category_xs,train_numeric_xs]\n",
        "\n",
        "history = model1_8.fit(x=train_xs, y=train_ys,\n",
        "            batch_size=512, epochs=100,\n",
        "            validation_split=0.1,\n",
        "            verbose=1,\n",
        "            callbacks=[checkpoint_cb, early_stopping_cb])"
      ],
      "metadata": {
        "colab": {
          "base_uri": "https://localhost:8080/"
        },
        "id": "ZIKetY74e_OM",
        "outputId": "c7647c1f-168d-494f-b31e-671c89ff1e78"
      },
      "execution_count": 216,
      "outputs": [
        {
          "output_type": "stream",
          "name": "stdout",
          "text": [
            "Epoch 1/100\n",
            "2861/2861 [==============================] - 10s 3ms/step - loss: 0.8677 - accuracy: 0.7370 - val_loss: 0.6932 - val_accuracy: 0.7833\n",
            "Epoch 2/100\n",
            "2861/2861 [==============================] - 10s 3ms/step - loss: 0.8629 - accuracy: 0.7373 - val_loss: 0.6896 - val_accuracy: 0.7827\n",
            "Epoch 3/100\n",
            "2861/2861 [==============================] - 9s 3ms/step - loss: 0.8634 - accuracy: 0.7372 - val_loss: 0.6883 - val_accuracy: 0.7834\n",
            "Epoch 4/100\n",
            "2861/2861 [==============================] - 9s 3ms/step - loss: 0.8620 - accuracy: 0.7372 - val_loss: 0.6854 - val_accuracy: 0.7830\n",
            "Epoch 5/100\n",
            "2861/2861 [==============================] - 8s 3ms/step - loss: 0.8632 - accuracy: 0.7360 - val_loss: 0.6897 - val_accuracy: 0.7814\n",
            "Epoch 6/100\n",
            "2861/2861 [==============================] - 9s 3ms/step - loss: 0.8618 - accuracy: 0.7359 - val_loss: 0.6878 - val_accuracy: 0.7842\n",
            "Epoch 7/100\n",
            "2861/2861 [==============================] - 9s 3ms/step - loss: 0.8605 - accuracy: 0.7363 - val_loss: 0.6868 - val_accuracy: 0.7864\n",
            "Epoch 8/100\n",
            "2861/2861 [==============================] - 9s 3ms/step - loss: 0.8614 - accuracy: 0.7355 - val_loss: 0.6866 - val_accuracy: 0.7840\n",
            "Epoch 9/100\n",
            "2861/2861 [==============================] - 9s 3ms/step - loss: 0.8614 - accuracy: 0.7348 - val_loss: 0.6944 - val_accuracy: 0.7803\n"
          ]
        }
      ]
    },
    {
      "cell_type": "code",
      "source": [
        "acc_lossplot(model1_8, 'model1_8')"
      ],
      "metadata": {
        "colab": {
          "base_uri": "https://localhost:8080/",
          "height": 508
        },
        "id": "c2epTOsDfKJs",
        "outputId": "1f5403ec-7254-41ae-f6e6-e2ce5af17f9d"
      },
      "execution_count": 217,
      "outputs": [
        {
          "output_type": "stream",
          "name": "stdout",
          "text": [
            "12712/12712 [==============================] - 20s 2ms/step - loss: 0.6893 - accuracy: 0.7820\n",
            "딥러닝 모형의 정확도 : 78.197%\n"
          ]
        },
        {
          "output_type": "display_data",
          "data": {
            "text/plain": [
              "<Figure size 640x480 with 1 Axes>"
            ],
            "image/png": "[encoded data removed]"
          },
          "metadata": {}
        }
      ]
    },
    {
      "cell_type": "markdown",
      "source": [
        "### model1_9\n",
        "\n",
        "* 각 층의 뉴런 13개/배치 1028/학습률 0.001"
      ],
      "metadata": {
        "id": "g_2-w1o6fKRD"
      }
    },
    {
      "cell_type": "code",
      "source": [
        "model1_9 = model_builder(neuron_counts[0])"
      ],
      "metadata": {
        "id": "orjBQtQufMf0"
      },
      "execution_count": 218,
      "outputs": []
    },
    {
      "cell_type": "code",
      "source": [
        "opt = Adam(learning_rate = 0.001)\n",
        "model1_9.compile(optimizer=opt,\n",
        "                loss='categorical_crossentropy',\n",
        "                metrics='accuracy')\n",
        "\n",
        "\n",
        "checkpoint_cb = keras.callbacks.ModelCheckpoint('best-model.h5',\n",
        "                                                  save_best_only=True)\n",
        "early_stopping_cb = keras.callbacks.EarlyStopping(patience=5,\n",
        "                                                    restore_best_weights=True)\n",
        "train_xs = [train_category_xs,train_numeric_xs]\n",
        "\n",
        "history = model1_9.fit(x=train_xs, y=train_ys,\n",
        "            batch_size=512, epochs=100,\n",
        "            validation_split=0.1,\n",
        "            verbose=1,\n",
        "            callbacks=[checkpoint_cb, early_stopping_cb])"
      ],
      "metadata": {
        "colab": {
          "base_uri": "https://localhost:8080/"
        },
        "id": "4LL2RblVfMiz",
        "outputId": "ff5cd61c-1170-4515-dbce-f27cbaf91cd6"
      },
      "execution_count": 219,
      "outputs": [
        {
          "output_type": "stream",
          "name": "stdout",
          "text": [
            "Epoch 1/100\n",
            "2861/2861 [==============================] - 10s 3ms/step - loss: 1.1098 - accuracy: 0.6485 - val_loss: 0.7089 - val_accuracy: 0.7792\n",
            "Epoch 2/100\n",
            "2861/2861 [==============================] - 9s 3ms/step - loss: 0.8812 - accuracy: 0.7333 - val_loss: 0.6932 - val_accuracy: 0.7820\n",
            "Epoch 3/100\n",
            "2861/2861 [==============================] - 9s 3ms/step - loss: 0.8659 - accuracy: 0.7401 - val_loss: 0.6920 - val_accuracy: 0.7824\n",
            "Epoch 4/100\n",
            "2861/2861 [==============================] - 8s 3ms/step - loss: 0.8611 - accuracy: 0.7430 - val_loss: 0.6884 - val_accuracy: 0.7823\n",
            "Epoch 5/100\n",
            "2861/2861 [==============================] - 9s 3ms/step - loss: 0.8584 - accuracy: 0.7450 - val_loss: 0.6886 - val_accuracy: 0.7826\n",
            "Epoch 6/100\n",
            "2861/2861 [==============================] - 9s 3ms/step - loss: 0.8539 - accuracy: 0.7478 - val_loss: 0.6856 - val_accuracy: 0.7839\n",
            "Epoch 7/100\n",
            "2861/2861 [==============================] - 8s 3ms/step - loss: 0.8527 - accuracy: 0.7486 - val_loss: 0.6810 - val_accuracy: 0.7948\n",
            "Epoch 8/100\n",
            "2861/2861 [==============================] - 9s 3ms/step - loss: 0.8514 - accuracy: 0.7492 - val_loss: 0.6850 - val_accuracy: 0.7886\n",
            "Epoch 9/100\n",
            "2861/2861 [==============================] - 9s 3ms/step - loss: 0.8504 - accuracy: 0.7497 - val_loss: 0.6806 - val_accuracy: 0.7955\n",
            "Epoch 10/100\n",
            "2861/2861 [==============================] - 8s 3ms/step - loss: 0.8502 - accuracy: 0.7499 - val_loss: 0.6852 - val_accuracy: 0.7941\n",
            "Epoch 11/100\n",
            "2861/2861 [==============================] - 9s 3ms/step - loss: 0.8508 - accuracy: 0.7494 - val_loss: 0.6838 - val_accuracy: 0.7940\n",
            "Epoch 12/100\n",
            "2861/2861 [==============================] - 9s 3ms/step - loss: 0.8504 - accuracy: 0.7491 - val_loss: 0.6826 - val_accuracy: 0.7959\n",
            "Epoch 13/100\n",
            "2861/2861 [==============================] - 8s 3ms/step - loss: 0.8500 - accuracy: 0.7499 - val_loss: 0.6797 - val_accuracy: 0.7964\n",
            "Epoch 14/100\n",
            "2861/2861 [==============================] - 9s 3ms/step - loss: 0.8503 - accuracy: 0.7496 - val_loss: 0.6851 - val_accuracy: 0.7869\n",
            "Epoch 15/100\n",
            "2861/2861 [==============================] - 10s 4ms/step - loss: 0.8497 - accuracy: 0.7498 - val_loss: 0.6851 - val_accuracy: 0.7874\n",
            "Epoch 16/100\n",
            "2861/2861 [==============================] - 8s 3ms/step - loss: 0.8488 - accuracy: 0.7499 - val_loss: 0.6836 - val_accuracy: 0.7949\n",
            "Epoch 17/100\n",
            "2861/2861 [==============================] - 9s 3ms/step - loss: 0.8496 - accuracy: 0.7497 - val_loss: 0.6828 - val_accuracy: 0.7977\n",
            "Epoch 18/100\n",
            "2861/2861 [==============================] - 9s 3ms/step - loss: 0.8496 - accuracy: 0.7499 - val_loss: 0.6875 - val_accuracy: 0.7863\n"
          ]
        }
      ]
    },
    {
      "cell_type": "code",
      "source": [
        "acc_lossplot(model1_9, 'model1_9')"
      ],
      "metadata": {
        "colab": {
          "base_uri": "https://localhost:8080/",
          "height": 508
        },
        "id": "vpaYPj3ofMpk",
        "outputId": "80342d67-5354-4cc0-e71c-5ed554265e09"
      },
      "execution_count": 220,
      "outputs": [
        {
          "output_type": "stream",
          "name": "stdout",
          "text": [
            "12712/12712 [==============================] - 19s 2ms/step - loss: 0.6839 - accuracy: 0.7951\n",
            "딥러닝 모형의 정확도 : 79.505%\n"
          ]
        },
        {
          "output_type": "display_data",
          "data": {
            "text/plain": [
              "<Figure size 640x480 with 1 Axes>"
            ],
            "image/png": "[encoded data removed]"
          },
          "metadata": {}
        }
      ]
    },
    {
      "cell_type": "markdown",
      "source": [
        "### model2\n",
        "\n",
        "* 각 층의 뉴런 50개/batch=512/lr = 0.001\n"
      ],
      "metadata": {
        "id": "YRSjSPVonZ7_"
      }
    },
    {
      "cell_type": "code",
      "source": [
        "model2 = model_builder(neuron_counts[1])\n",
        "model3 = model_builder(neuron_counts[2])"
      ],
      "metadata": {
        "id": "ei72Dgthm3I3"
      },
      "execution_count": 221,
      "outputs": []
    },
    {
      "cell_type": "code",
      "source": [
        "model2.summary()"
      ],
      "metadata": {
        "colab": {
          "base_uri": "https://localhost:8080/"
        },
        "id": "7PWQLErToeRN",
        "outputId": "8f07ab90-f8cf-4259-9412-e2e876e55fd7"
      },
      "execution_count": 222,
      "outputs": [
        {
          "output_type": "stream",
          "name": "stdout",
          "text": [
            "Model: \"model_40\"\n",
            "__________________________________________________________________________________________________\n",
            " Layer (type)                   Output Shape         Param #     Connected to                     \n",
            "==================================================================================================\n",
            " input_9 (InputLayer)           [(None, 17)]         0           []                               \n",
            "                                                                                                  \n",
            " tf.__operators__.getitem_9 (Sl  (None,)             0           ['input_9[0][0]']                \n",
            " icingOpLambda)                                                                                   \n",
            "                                                                                                  \n",
            " tf.__operators__.getitem_10 (S  (None,)             0           ['input_9[0][0]']                \n",
            " licingOpLambda)                                                                                  \n",
            "                                                                                                  \n",
            " tf.__operators__.getitem_11 (S  (None,)             0           ['input_9[0][0]']                \n",
            " licingOpLambda)                                                                                  \n",
            "                                                                                                  \n",
            " Tr_Pref_Name_embed (Embedding)  (None, 3)           141         ['tf.__operators__.getitem_9[0][0\n",
            "                                                                 ]']                              \n",
            "                                                                                                  \n",
            " Tr_small_area_name_embed (Embe  (None, 3)           165         ['tf.__operators__.getitem_10[0][\n",
            " dding)                                                          0]']                             \n",
            "                                                                                                  \n",
            " usable_date_sum_embed (Embeddi  (None, 3)           30          ['tf.__operators__.getitem_11[0][\n",
            " ng)                                                             0]']                             \n",
            "                                                                                                  \n",
            " input_10 (InputLayer)          [(None, 4)]          0           []                               \n",
            "                                                                                                  \n",
            " embed_concat (Concatenate)     (None, 13)           0           ['Tr_Pref_Name_embed[0][0]',     \n",
            "                                                                  'Tr_small_area_name_embed[0][0]'\n",
            "                                                                 , 'usable_date_sum_embed[0][0]', \n",
            "                                                                  'input_10[0][0]']               \n",
            "                                                                                                  \n",
            " hidden1 (Dense)                (None, 50)           700         ['embed_concat[0][0]']           \n",
            "                                                                                                  \n",
            " dropout1 (Dropout)             (None, 50)           0           ['hidden1[0][0]']                \n",
            "                                                                                                  \n",
            " hidden2 (Dense)                (None, 50)           2550        ['dropout1[0][0]']               \n",
            "                                                                                                  \n",
            " dropout2 (Dropout)             (None, 50)           0           ['hidden2[0][0]']                \n",
            "                                                                                                  \n",
            " output (Dense)                 (None, 13)           663         ['dropout2[0][0]']               \n",
            "                                                                                                  \n",
            "==================================================================================================\n",
            "Total params: 4,249\n",
            "Trainable params: 4,249\n",
            "Non-trainable params: 0\n",
            "__________________________________________________________________________________________________\n"
          ]
        }
      ]
    },
    {
      "cell_type": "code",
      "source": [
        "opt = Adam(learning_rate = 0.001)\n",
        "model2.compile(optimizer=opt,\n",
        "                loss='categorical_crossentropy',\n",
        "                metrics='accuracy')\n",
        "\n",
        "\n",
        "checkpoint_cb = keras.callbacks.ModelCheckpoint('best-model.h5',\n",
        "                                                  save_best_only=True)\n",
        "early_stopping_cb = keras.callbacks.EarlyStopping(patience=5,\n",
        "                                                    restore_best_weights=True)\n",
        "train_xs = [train_category_xs,train_numeric_xs]\n",
        "\n",
        "history = model2.fit(x=train_xs, y=train_ys,\n",
        "            batch_size=512, epochs=100,\n",
        "            validation_split=0.1,\n",
        "            verbose=1,\n",
        "            callbacks=[checkpoint_cb, early_stopping_cb])"
      ],
      "metadata": {
        "colab": {
          "base_uri": "https://localhost:8080/"
        },
        "id": "gWefwAXknrDN",
        "outputId": "9eb053c7-a1b9-42fb-c771-5ef3c09d6d2c"
      },
      "execution_count": 223,
      "outputs": [
        {
          "output_type": "stream",
          "name": "stdout",
          "text": [
            "Epoch 1/100\n",
            "2861/2861 [==============================] - 14s 4ms/step - loss: 0.7511 - accuracy: 0.7762 - val_loss: 0.5067 - val_accuracy: 0.8378\n",
            "Epoch 2/100\n",
            "2861/2861 [==============================] - 12s 4ms/step - loss: 0.5650 - accuracy: 0.8235 - val_loss: 0.4648 - val_accuracy: 0.8511\n",
            "Epoch 3/100\n",
            "2861/2861 [==============================] - 13s 4ms/step - loss: 0.5392 - accuracy: 0.8304 - val_loss: 0.4547 - val_accuracy: 0.8575\n",
            "Epoch 4/100\n",
            "2861/2861 [==============================] - 12s 4ms/step - loss: 0.5289 - accuracy: 0.8340 - val_loss: 0.4405 - val_accuracy: 0.8608\n",
            "Epoch 5/100\n",
            "2861/2861 [==============================] - 12s 4ms/step - loss: 0.5233 - accuracy: 0.8357 - val_loss: 0.4380 - val_accuracy: 0.8607\n",
            "Epoch 6/100\n",
            "2861/2861 [==============================] - 13s 4ms/step - loss: 0.5197 - accuracy: 0.8378 - val_loss: 0.4353 - val_accuracy: 0.8625\n",
            "Epoch 7/100\n",
            "2861/2861 [==============================] - 13s 4ms/step - loss: 0.5169 - accuracy: 0.8389 - val_loss: 0.4323 - val_accuracy: 0.8626\n",
            "Epoch 8/100\n",
            "2861/2861 [==============================] - 13s 5ms/step - loss: 0.5149 - accuracy: 0.8397 - val_loss: 0.4301 - val_accuracy: 0.8637\n",
            "Epoch 9/100\n",
            "2861/2861 [==============================] - 13s 4ms/step - loss: 0.5128 - accuracy: 0.8406 - val_loss: 0.4284 - val_accuracy: 0.8638\n",
            "Epoch 10/100\n",
            "2861/2861 [==============================] - 13s 4ms/step - loss: 0.5126 - accuracy: 0.8406 - val_loss: 0.4274 - val_accuracy: 0.8637\n",
            "Epoch 11/100\n",
            "2861/2861 [==============================] - 13s 5ms/step - loss: 0.5107 - accuracy: 0.8416 - val_loss: 0.4262 - val_accuracy: 0.8656\n",
            "Epoch 12/100\n",
            "2861/2861 [==============================] - 12s 4ms/step - loss: 0.5103 - accuracy: 0.8416 - val_loss: 0.4243 - val_accuracy: 0.8648\n",
            "Epoch 13/100\n",
            "2861/2861 [==============================] - 13s 4ms/step - loss: 0.5096 - accuracy: 0.8417 - val_loss: 0.4213 - val_accuracy: 0.8663\n",
            "Epoch 14/100\n",
            "2861/2861 [==============================] - 12s 4ms/step - loss: 0.5089 - accuracy: 0.8419 - val_loss: 0.4235 - val_accuracy: 0.8661\n",
            "Epoch 15/100\n",
            "2861/2861 [==============================] - 13s 4ms/step - loss: 0.5081 - accuracy: 0.8422 - val_loss: 0.4246 - val_accuracy: 0.8638\n",
            "Epoch 16/100\n",
            "2861/2861 [==============================] - 13s 4ms/step - loss: 0.5078 - accuracy: 0.8422 - val_loss: 0.4233 - val_accuracy: 0.8655\n",
            "Epoch 17/100\n",
            "2861/2861 [==============================] - 12s 4ms/step - loss: 0.5075 - accuracy: 0.8426 - val_loss: 0.4243 - val_accuracy: 0.8652\n",
            "Epoch 18/100\n",
            "2861/2861 [==============================] - 13s 4ms/step - loss: 0.5060 - accuracy: 0.8430 - val_loss: 0.4229 - val_accuracy: 0.8672\n"
          ]
        }
      ]
    },
    {
      "cell_type": "code",
      "source": [
        "acc_lossplot(model2, 'model2')"
      ],
      "metadata": {
        "colab": {
          "base_uri": "https://localhost:8080/",
          "height": 508
        },
        "id": "Vj5oVxgBnwZ2",
        "outputId": "409b0980-1288-4d70-ef29-b830550fc1de"
      },
      "execution_count": 224,
      "outputs": [
        {
          "output_type": "stream",
          "name": "stdout",
          "text": [
            "12712/12712 [==============================] - 21s 2ms/step - loss: 0.4209 - accuracy: 0.8664\n",
            "딥러닝 모형의 정확도 : 86.645%\n"
          ]
        },
        {
          "output_type": "display_data",
          "data": {
            "text/plain": [
              "<Figure size 640x480 with 1 Axes>"
            ],
            "image/png": "[encoded data removed]"
          },
          "metadata": {}
        }
      ]
    },
    {
      "cell_type": "markdown",
      "source": [
        "### model3\n",
        "\n",
        "* 각 층의 뉴런의 개수 100/batch=512/lr = 0.001"
      ],
      "metadata": {
        "id": "4sUmJzLFnyg3"
      }
    },
    {
      "cell_type": "code",
      "source": [
        "model3.summary()"
      ],
      "metadata": {
        "colab": {
          "base_uri": "https://localhost:8080/"
        },
        "id": "DkvBFdzho0zG",
        "outputId": "b54872aa-274a-4c8a-b600-2a7ee3752a84"
      },
      "execution_count": 225,
      "outputs": [
        {
          "output_type": "stream",
          "name": "stdout",
          "text": [
            "Model: \"model_41\"\n",
            "__________________________________________________________________________________________________\n",
            " Layer (type)                   Output Shape         Param #     Connected to                     \n",
            "==================================================================================================\n",
            " input_9 (InputLayer)           [(None, 17)]         0           []                               \n",
            "                                                                                                  \n",
            " tf.__operators__.getitem_9 (Sl  (None,)             0           ['input_9[0][0]']                \n",
            " icingOpLambda)                                                                                   \n",
            "                                                                                                  \n",
            " tf.__operators__.getitem_10 (S  (None,)             0           ['input_9[0][0]']                \n",
            " licingOpLambda)                                                                                  \n",
            "                                                                                                  \n",
            " tf.__operators__.getitem_11 (S  (None,)             0           ['input_9[0][0]']                \n",
            " licingOpLambda)                                                                                  \n",
            "                                                                                                  \n",
            " Tr_Pref_Name_embed (Embedding)  (None, 3)           141         ['tf.__operators__.getitem_9[0][0\n",
            "                                                                 ]']                              \n",
            "                                                                                                  \n",
            " Tr_small_area_name_embed (Embe  (None, 3)           165         ['tf.__operators__.getitem_10[0][\n",
            " dding)                                                          0]']                             \n",
            "                                                                                                  \n",
            " usable_date_sum_embed (Embeddi  (None, 3)           30          ['tf.__operators__.getitem_11[0][\n",
            " ng)                                                             0]']                             \n",
            "                                                                                                  \n",
            " input_10 (InputLayer)          [(None, 4)]          0           []                               \n",
            "                                                                                                  \n",
            " embed_concat (Concatenate)     (None, 13)           0           ['Tr_Pref_Name_embed[0][0]',     \n",
            "                                                                  'Tr_small_area_name_embed[0][0]'\n",
            "                                                                 , 'usable_date_sum_embed[0][0]', \n",
            "                                                                  'input_10[0][0]']               \n",
            "                                                                                                  \n",
            " hidden1 (Dense)                (None, 100)          1400        ['embed_concat[0][0]']           \n",
            "                                                                                                  \n",
            " dropout1 (Dropout)             (None, 100)          0           ['hidden1[0][0]']                \n",
            "                                                                                                  \n",
            " hidden2 (Dense)                (None, 100)          10100       ['dropout1[0][0]']               \n",
            "                                                                                                  \n",
            " dropout2 (Dropout)             (None, 100)          0           ['hidden2[0][0]']                \n",
            "                                                                                                  \n",
            " output (Dense)                 (None, 13)           1313        ['dropout2[0][0]']               \n",
            "                                                                                                  \n",
            "==================================================================================================\n",
            "Total params: 13,149\n",
            "Trainable params: 13,149\n",
            "Non-trainable params: 0\n",
            "__________________________________________________________________________________________________\n"
          ]
        }
      ]
    },
    {
      "cell_type": "code",
      "source": [
        "opt = Adam(learning_rate = 0.001)\n",
        "model3.compile(optimizer=opt,\n",
        "                loss='categorical_crossentropy',\n",
        "                metrics='accuracy')\n",
        "\n",
        "\n",
        "checkpoint_cb = keras.callbacks.ModelCheckpoint('best-model.h5',\n",
        "                                                  save_best_only=True)\n",
        "early_stopping_cb = keras.callbacks.EarlyStopping(patience=5,\n",
        "                                                    restore_best_weights=True)\n",
        "train_xs = [train_category_xs,train_numeric_xs]\n",
        "\n",
        "history = model3.fit(x=train_xs, y=train_ys,\n",
        "            batch_size=512, epochs=100,\n",
        "            validation_split=0.1,\n",
        "            verbose=1,\n",
        "            callbacks=[checkpoint_cb, early_stopping_cb])"
      ],
      "metadata": {
        "colab": {
          "base_uri": "https://localhost:8080/"
        },
        "id": "L4GCyl50oQa4",
        "outputId": "1fb1dc9b-77bb-434e-b494-b4529b6d18a0"
      },
      "execution_count": 226,
      "outputs": [
        {
          "output_type": "stream",
          "name": "stdout",
          "text": [
            "Epoch 1/100\n",
            "2861/2861 [==============================] - 23s 8ms/step - loss: 0.6141 - accuracy: 0.8130 - val_loss: 0.4335 - val_accuracy: 0.8603\n",
            "Epoch 2/100\n",
            "2861/2861 [==============================] - 19s 7ms/step - loss: 0.4763 - accuracy: 0.8510 - val_loss: 0.3978 - val_accuracy: 0.8713\n",
            "Epoch 3/100\n",
            "2861/2861 [==============================] - 19s 7ms/step - loss: 0.4521 - accuracy: 0.8580 - val_loss: 0.3811 - val_accuracy: 0.8746\n",
            "Epoch 4/100\n",
            "2861/2861 [==============================] - 18s 6ms/step - loss: 0.4416 - accuracy: 0.8610 - val_loss: 0.3753 - val_accuracy: 0.8769\n",
            "Epoch 5/100\n",
            "2861/2861 [==============================] - 19s 7ms/step - loss: 0.4363 - accuracy: 0.8623 - val_loss: 0.3694 - val_accuracy: 0.8782\n",
            "Epoch 6/100\n",
            "2861/2861 [==============================] - 18s 6ms/step - loss: 0.4321 - accuracy: 0.8638 - val_loss: 0.3667 - val_accuracy: 0.8779\n",
            "Epoch 7/100\n",
            "2861/2861 [==============================] - 19s 7ms/step - loss: 0.4289 - accuracy: 0.8646 - val_loss: 0.3646 - val_accuracy: 0.8803\n",
            "Epoch 8/100\n",
            "2861/2861 [==============================] - 18s 6ms/step - loss: 0.4277 - accuracy: 0.8652 - val_loss: 0.3590 - val_accuracy: 0.8834\n",
            "Epoch 9/100\n",
            "2861/2861 [==============================] - 19s 7ms/step - loss: 0.4262 - accuracy: 0.8654 - val_loss: 0.3594 - val_accuracy: 0.8823\n",
            "Epoch 10/100\n",
            "2861/2861 [==============================] - 18s 6ms/step - loss: 0.4244 - accuracy: 0.8661 - val_loss: 0.3563 - val_accuracy: 0.8828\n",
            "Epoch 11/100\n",
            "2861/2861 [==============================] - 18s 6ms/step - loss: 0.4236 - accuracy: 0.8663 - val_loss: 0.3531 - val_accuracy: 0.8827\n",
            "Epoch 12/100\n",
            "2861/2861 [==============================] - 20s 7ms/step - loss: 0.4219 - accuracy: 0.8667 - val_loss: 0.3524 - val_accuracy: 0.8853\n",
            "Epoch 13/100\n",
            "2861/2861 [==============================] - 18s 6ms/step - loss: 0.4216 - accuracy: 0.8668 - val_loss: 0.3522 - val_accuracy: 0.8847\n",
            "Epoch 14/100\n",
            "2861/2861 [==============================] - 19s 7ms/step - loss: 0.4213 - accuracy: 0.8669 - val_loss: 0.3512 - val_accuracy: 0.8868\n",
            "Epoch 15/100\n",
            "2861/2861 [==============================] - 18s 6ms/step - loss: 0.4202 - accuracy: 0.8674 - val_loss: 0.3514 - val_accuracy: 0.8860\n",
            "Epoch 16/100\n",
            "2861/2861 [==============================] - 19s 7ms/step - loss: 0.4192 - accuracy: 0.8677 - val_loss: 0.3503 - val_accuracy: 0.8867\n",
            "Epoch 17/100\n",
            "2861/2861 [==============================] - 19s 6ms/step - loss: 0.4191 - accuracy: 0.8675 - val_loss: 0.3504 - val_accuracy: 0.8854\n",
            "Epoch 18/100\n",
            "2861/2861 [==============================] - 19s 7ms/step - loss: 0.4181 - accuracy: 0.8677 - val_loss: 0.3516 - val_accuracy: 0.8841\n",
            "Epoch 19/100\n",
            "2861/2861 [==============================] - 18s 6ms/step - loss: 0.4175 - accuracy: 0.8682 - val_loss: 0.3487 - val_accuracy: 0.8857\n",
            "Epoch 20/100\n",
            "2861/2861 [==============================] - 19s 7ms/step - loss: 0.4177 - accuracy: 0.8681 - val_loss: 0.3477 - val_accuracy: 0.8870\n",
            "Epoch 21/100\n",
            "2861/2861 [==============================] - 19s 7ms/step - loss: 0.4170 - accuracy: 0.8684 - val_loss: 0.3479 - val_accuracy: 0.8879\n",
            "Epoch 22/100\n",
            "2861/2861 [==============================] - 18s 6ms/step - loss: 0.4166 - accuracy: 0.8684 - val_loss: 0.3491 - val_accuracy: 0.8875\n",
            "Epoch 23/100\n",
            "2861/2861 [==============================] - 19s 7ms/step - loss: 0.4163 - accuracy: 0.8687 - val_loss: 0.3471 - val_accuracy: 0.8861\n",
            "Epoch 24/100\n",
            "2861/2861 [==============================] - 19s 7ms/step - loss: 0.4156 - accuracy: 0.8689 - val_loss: 0.3458 - val_accuracy: 0.8853\n",
            "Epoch 25/100\n",
            "2861/2861 [==============================] - 19s 7ms/step - loss: 0.4154 - accuracy: 0.8689 - val_loss: 0.3449 - val_accuracy: 0.8870\n",
            "Epoch 26/100\n",
            "2861/2861 [==============================] - 19s 7ms/step - loss: 0.4154 - accuracy: 0.8689 - val_loss: 0.3470 - val_accuracy: 0.8868\n",
            "Epoch 27/100\n",
            "2861/2861 [==============================] - 19s 7ms/step - loss: 0.4144 - accuracy: 0.8693 - val_loss: 0.3457 - val_accuracy: 0.8868\n",
            "Epoch 28/100\n",
            "2861/2861 [==============================] - 18s 6ms/step - loss: 0.4140 - accuracy: 0.8691 - val_loss: 0.3456 - val_accuracy: 0.8878\n",
            "Epoch 29/100\n",
            "2861/2861 [==============================] - 18s 6ms/step - loss: 0.4142 - accuracy: 0.8692 - val_loss: 0.3421 - val_accuracy: 0.8880\n",
            "Epoch 30/100\n",
            "2861/2861 [==============================] - 18s 6ms/step - loss: 0.4145 - accuracy: 0.8695 - val_loss: 0.3448 - val_accuracy: 0.8875\n",
            "Epoch 31/100\n",
            "2861/2861 [==============================] - 18s 6ms/step - loss: 0.4137 - accuracy: 0.8693 - val_loss: 0.3453 - val_accuracy: 0.8872\n",
            "Epoch 32/100\n",
            "2861/2861 [==============================] - 19s 7ms/step - loss: 0.4128 - accuracy: 0.8698 - val_loss: 0.3437 - val_accuracy: 0.8867\n",
            "Epoch 33/100\n",
            "2861/2861 [==============================] - 18s 6ms/step - loss: 0.4136 - accuracy: 0.8693 - val_loss: 0.3458 - val_accuracy: 0.8861\n",
            "Epoch 34/100\n",
            "2861/2861 [==============================] - 18s 6ms/step - loss: 0.4123 - accuracy: 0.8697 - val_loss: 0.3428 - val_accuracy: 0.8875\n"
          ]
        }
      ]
    },
    {
      "cell_type": "code",
      "source": [
        "acc_lossplot(model3, 'model3')"
      ],
      "metadata": {
        "colab": {
          "base_uri": "https://localhost:8080/",
          "height": 528
        },
        "id": "m0cgk2DmoQeG",
        "outputId": "48ff78ca-b1d0-4f56-a68c-51c747a6071a"
      },
      "execution_count": 227,
      "outputs": [
        {
          "output_type": "stream",
          "name": "stdout",
          "text": [
            "12712/12712 [==============================] - 20s 2ms/step - loss: 0.3416 - accuracy: 0.8876\n",
            "딥러닝 모형의 정확도 : 88.760%\n"
          ]
        },
        {
          "output_type": "display_data",
          "data": {
            "text/plain": [
              "<Figure size 640x480 with 1 Axes>"
            ],
            "image/png": "[encoded data removed]"
          },
          "metadata": {}
        }
      ]
    },
    {
      "cell_type": "code",
      "source": [
        "# model1_1.save('model1_1.h5')\n",
        "model1_2.save('model1_2.h5')\n",
        "model1_3.save('model1_3.h5')\n",
        "model1_4.save('model1_4.h5')\n",
        "model1_5.save('model1_5.h5')\n",
        "model1_6.save('model1_6.h5')\n",
        "model1_7.save('model1_7.h5')\n",
        "model1_8.save('model1_8.h5')\n",
        "model1_9.save('model1_9.h5')\n",
        "\n",
        "model2.save('model2.h5')\n",
        "model3.save('model3.h5')"
      ],
      "metadata": {
        "id": "qfI20oavuk4Y"
      },
      "execution_count": 229,
      "outputs": []
    }
  ],
  "metadata": {
    "colab": {
      "cell_execution_strategy": "setup",
      "provenance": [],
      "collapsed_sections": [
        "wZ1NlBQUjkCZ",
        "d3VaJvhecw_W",
        "BL2DeKmiczJG",
        "SSh5bU0Lc222",
        "eFh_gmBgc7kJ",
        "yaJI3sUgc_sV",
        "hZ5QKmfXdBxW",
        "baMQSBy-fGj3",
        "g_2-w1o6fKRD",
        "YRSjSPVonZ7_"
      ]
    },
    "kernelspec": {
      "display_name": "Python 3",
      "name": "python3"
    },
    "language_info": {
      "name": "python"
    }
  },
  "nbformat": 4,
  "nbformat_minor": 0
}