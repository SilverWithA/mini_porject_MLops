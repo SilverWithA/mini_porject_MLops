{
  "cells": [
    {
      "cell_type": "markdown",
      "metadata": {
        "id": "view-in-github",
        "colab_type": "text"
      },
      "source": [
        "<a href=\"https://colab.research.google.com/github/SilverWithA/mini_project_MLops/blob/main/randomForest.ipynb\" target=\"_parent\"><img src=\"https://colab.research.google.com/assets/colab-badge.svg\" alt=\"Open In Colab\"/></a>"
      ]
    },
    {
      "cell_type": "code",
      "execution_count": null,
      "metadata": {
        "id": "iCnop1NCKeVY"
      },
      "outputs": [],
      "source": []
    },
    {
      "cell_type": "code",
      "execution_count": 1,
      "metadata": {
        "colab": {
          "base_uri": "https://localhost:8080/"
        },
        "id": "00bvslN-Ls6Z",
        "outputId": "f3489998-a60b-483f-c0ba-611de19cf448"
      },
      "outputs": [
        {
          "output_type": "stream",
          "name": "stdout",
          "text": [
            "Mounted at /content/drive\n"
          ]
        }
      ],
      "source": [
        "from google.colab import drive\n",
        "drive.mount('/content/drive')"
      ]
    },
    {
      "cell_type": "markdown",
      "source": [
        "#1.파일 분리하기 (8:2 비율)\n"
      ],
      "metadata": {
        "id": "KSgOpoRcNfqO"
      }
    },
    {
      "cell_type": "code",
      "execution_count": 2,
      "metadata": {
        "colab": {
          "base_uri": "https://localhost:8080/"
        },
        "id": "Wdt2Weh0LtgI",
        "outputId": "3ce74a78-4dac-4015-9ed7-3081ac589af3"
      },
      "outputs": [
        {
          "output_type": "stream",
          "name": "stdout",
          "text": [
            "CSV 파일이 분할되었습니다.\n"
          ]
        }
      ],
      "source": [
        "import csv\n",
        "import random\n",
        "\n",
        "def split_csv(input_file, output_file1, output_file2, split_ratio):\n",
        "    with open(input_file, 'r') as file:\n",
        "        reader = csv.reader(file)\n",
        "        header = next(reader)  # 헤더를 읽어옵니다.\n",
        "\n",
        "        # 출력 파일들을 열고 헤더를 씁니다.\n",
        "        with open(output_file1, 'w', newline='') as file1, open(output_file2, 'w', newline='') as file2:\n",
        "            writer1 = csv.writer(file1)\n",
        "            writer1.writerow(header)\n",
        "            writer2 = csv.writer(file2)\n",
        "            writer2.writerow(header)\n",
        "\n",
        "            data = list(reader)\n",
        "\n",
        "            split_index = int(len(data) * split_ratio)  # 분할 기준 인덱스 계산\n",
        "\n",
        "            random.shuffle(data)  # 데이터를 무작위로 섞습니다.\n",
        "\n",
        "            for i, row in enumerate(data):\n",
        "                if i < split_index:  # 80%를 첫 번째 파일에 저장\n",
        "                    writer1.writerow(row)\n",
        "                else:  # 나머지 20%를 두 번째 파일에 저장\n",
        "                    writer2.writerow(row)\n",
        "\n",
        "    print(\"CSV 파일이 분할되었습니다.\")\n",
        "\n",
        "# CSV 파일 분할을 위한 예시 호출\n",
        "split_csv('/content/drive/MyDrive/temp_new2.csv', '/content/drive/MyDrive/temp_train3.csv', '/content/drive/MyDrive/temp_test3.csv', 0.8)"
      ]
    },
    {
      "cell_type": "code",
      "execution_count": 3,
      "metadata": {
        "id": "ut6xLeLcL669"
      },
      "outputs": [],
      "source": [
        "import pandas as pd\n",
        "train = pd.read_csv('/content/drive/MyDrive/temp_train3.csv')\n",
        "train = train.drop_duplicates()\n",
        "\n",
        "test= pd.read_csv('/content/drive/MyDrive/temp_test3.csv')\n",
        "test = test.drop_duplicates()\n"
      ]
    },
    {
      "cell_type": "code",
      "execution_count": 4,
      "metadata": {
        "colab": {
          "base_uri": "https://localhost:8080/"
        },
        "id": "-YNbVxw0weXV",
        "outputId": "3beb78de-acaf-4a78-b3b9-d9d4f92ca0b8"
      },
      "outputs": [
        {
          "output_type": "stream",
          "name": "stdout",
          "text": [
            "<class 'pandas.core.frame.DataFrame'>\n",
            "Int64Index: 1430841 entries, 0 to 2013763\n",
            "Data columns (total 29 columns):\n",
            " #   Column                      Non-Null Count    Dtype \n",
            "---  ------                      --------------    ----- \n",
            " 0   USER_ID_hash                1430841 non-null  object\n",
            " 1   REG_DATE                    1430841 non-null  object\n",
            " 2   SEX_ID                      1430841 non-null  object\n",
            " 3   AGE                         1430841 non-null  int64 \n",
            " 4   Tr_Pref_Name                1162512 non-null  object\n",
            " 5   Tr_small_area_name          1430841 non-null  object\n",
            " 6   Translated_capsule_text     1430841 non-null  object\n",
            " 7   Translated_genre_name       1430841 non-null  object\n",
            " 8   VIEW_COUPON_ID_hash         1430841 non-null  object\n",
            " 9   usable_date_sum             1430841 non-null  int64 \n",
            " 10  view_count                  1430841 non-null  int64 \n",
            " 11  PRICE_RATE                  1430841 non-null  int64 \n",
            " 12  DISCOUNT_PRICE              1430841 non-null  int64 \n",
            " 13  VALIDPERIOD                 1430841 non-null  int64 \n",
            " 14  DISPPERIOD                  1430841 non-null  int64 \n",
            " 15  PURCHASE_FLG                1430841 non-null  int64 \n",
            " 16  dispfrom                    1430841 non-null  object\n",
            " 17  dispend                     1430841 non-null  object\n",
            " 18  usable_date_mon             1430841 non-null  int64 \n",
            " 19  usable_date_tue             1430841 non-null  int64 \n",
            " 20  usable_date_wed             1430841 non-null  int64 \n",
            " 21  usable_date_thu             1430841 non-null  int64 \n",
            " 22  usable_date_fri             1430841 non-null  int64 \n",
            " 23  usable_date_sat             1430841 non-null  int64 \n",
            " 24  usable_date_sun             1430841 non-null  int64 \n",
            " 25  usable_date_holiday         1430841 non-null  int64 \n",
            " 26  usable_date_before_holiday  1430841 non-null  int64 \n",
            " 27  Male                        1430841 non-null  int64 \n",
            " 28  Female                      1430841 non-null  int64 \n",
            "dtypes: int64(19), object(10)\n",
            "memory usage: 327.5+ MB\n"
          ]
        }
      ],
      "source": [
        "train.info()"
      ]
    },
    {
      "cell_type": "code",
      "execution_count": 5,
      "metadata": {
        "id": "Q77vH5ayqjlo"
      },
      "outputs": [],
      "source": [
        "# train[COL_CAT].head()"
      ]
    },
    {
      "cell_type": "code",
      "execution_count": 6,
      "metadata": {
        "id": "5TxKvBeMsgyn"
      },
      "outputs": [],
      "source": [
        "# train.head()"
      ]
    },
    {
      "cell_type": "code",
      "execution_count": 7,
      "metadata": {
        "colab": {
          "base_uri": "https://localhost:8080/"
        },
        "id": "ObZFlM1Dtsnx",
        "outputId": "0f98497e-ab92-4db7-95cf-9911fa6987bc"
      },
      "outputs": [
        {
          "output_type": "stream",
          "name": "stderr",
          "text": [
            "<ipython-input-7-935c0da0af74>:3: FutureWarning: In a future version of pandas all arguments of DataFrame.drop except for the argument 'labels' will be keyword-only.\n",
            "  X_train =train.drop(['VIEW_COUPON_ID_hash'],1)\n",
            "<ipython-input-7-935c0da0af74>:4: FutureWarning: In a future version of pandas all arguments of DataFrame.drop except for the argument 'labels' will be keyword-only.\n",
            "  X_test = test.drop(['VIEW_COUPON_ID_hash' ],1)\n"
          ]
        }
      ],
      "source": [
        "y_train=train[['Translated_genre_name']]\n",
        "\n",
        "X_train =train.drop(['VIEW_COUPON_ID_hash'],1)\n",
        "X_test = test.drop(['VIEW_COUPON_ID_hash' ],1)"
      ]
    },
    {
      "cell_type": "markdown",
      "metadata": {
        "id": "YH0qvdoBwhKb"
      },
      "source": []
    },
    {
      "cell_type": "code",
      "execution_count": 8,
      "metadata": {
        "id": "NMbIFKGzw1VE"
      },
      "outputs": [],
      "source": [
        "#상관관계 그래프 그리기\n",
        "# import pandas as pd\n",
        "# import seaborn as sns\n",
        "# import matplotlib.pyplot as plt\n",
        "\n",
        "# data = train\n",
        "# correlation_matrix = data.corr()\n",
        "\n",
        "# plt.figure(figsize=(8, 6))\n",
        "# sns.heatmap(correlation_matrix, annot=True, cmap='RdYlBu', fmt=\".1f\", linewidths=0.5, xticklabels=True, yticklabels=True, annot_kws={\"fontsize\": 8})\n",
        "# plt.title('Correlation Heatmap')\n",
        "# plt.xticks(rotation=45, ha='right', fontsize=8)\n",
        "# plt.yticks(rotation=0, fontsize=8)\n",
        "# plt.tight_layout(pad=1.0)\n",
        "\n",
        "# plt.savefig('correlation_heatmap.png', dpi=300)"
      ]
    },
    {
      "cell_type": "code",
      "source": [],
      "metadata": {
        "id": "X6yZi0T5No9x"
      },
      "execution_count": null,
      "outputs": []
    },
    {
      "cell_type": "markdown",
      "source": [
        "#2.상관관계가 높은 변수 파악"
      ],
      "metadata": {
        "id": "BA79Plq0Np2k"
      }
    },
    {
      "cell_type": "code",
      "execution_count": 9,
      "metadata": {
        "id": "wqNTtOSdmq4s"
      },
      "outputs": [],
      "source": [
        "# import numpy as np\n",
        "\n",
        "# # 상관관계 행렬 계산\n",
        "# corr_matrix = train.corr().abs()\n",
        "\n",
        "# # 상관계수가 높은 변수 제거\n",
        "# threshold = 0.8  # 상관계수 임계값 설정\n",
        "\n",
        "# # 다중 공선성이 있는 변수 선택 및 제거\n",
        "# upper_triangle = np.triu(np.ones(corr_matrix.shape), k=1).astype(bool)\n",
        "# high_correlation_cols = [column for column in corr_matrix.columns if any(corr_matrix.loc[upper_triangle, column] > threshold)]\n",
        "# train2 = train.drop(high_correlation_cols, axis=1)\n"
      ]
    },
    {
      "cell_type": "code",
      "execution_count": 10,
      "metadata": {
        "id": "U_USK7tHpYMU"
      },
      "outputs": [],
      "source": [
        "# corr_matrix2 = test.corr().abs()\n",
        "\n",
        "# # 상관계수가 높은 변수 제거\n",
        "# threshold = 0.8  # 상관계수 임계값 설정\n",
        "\n",
        "# # 다중 공선성이 있는 변수 선택 및 제거\n",
        "# upper_triangle = np.triu(np.ones(corr_matrix2.shape), k=1).astype(bool)\n",
        "# high_correlation_cols = [column for column in corr_matrix2.columns if any(corr_matrix2.loc[upper_triangle, column] > threshold)]\n",
        "# test2 = test.drop(high_correlation_cols, axis=1)"
      ]
    },
    {
      "cell_type": "code",
      "execution_count": 11,
      "metadata": {
        "id": "fEpWOHzto6ar"
      },
      "outputs": [],
      "source": [
        "# test.head()"
      ]
    },
    {
      "cell_type": "markdown",
      "source": [
        "3.결측치 제거"
      ],
      "metadata": {
        "id": "X6EnFhwsNtWE"
      }
    },
    {
      "cell_type": "code",
      "execution_count": 12,
      "metadata": {
        "id": "-BGngGahMarQ"
      },
      "outputs": [],
      "source": [
        "#nan 렬 삭제하기\n",
        "train.dropna(inplace=True)\n",
        "test.dropna(inplace=True)"
      ]
    },
    {
      "cell_type": "code",
      "execution_count": 12,
      "metadata": {
        "id": "v7rQ8I7iMa5z"
      },
      "outputs": [],
      "source": []
    },
    {
      "cell_type": "code",
      "execution_count": 12,
      "metadata": {
        "id": "Y8sVycTEpjdr"
      },
      "outputs": [],
      "source": []
    },
    {
      "cell_type": "code",
      "execution_count": 12,
      "metadata": {
        "id": "nd5ajAXiMv7B"
      },
      "outputs": [],
      "source": []
    },
    {
      "cell_type": "markdown",
      "source": [
        "4.변수 형변환"
      ],
      "metadata": {
        "id": "t_-hH0C-Nv1M"
      }
    },
    {
      "cell_type": "code",
      "execution_count": 13,
      "metadata": {
        "id": "u10T2YFKR_5T"
      },
      "outputs": [],
      "source": [
        "#날짜 데이터 형변환하기\n",
        "X_train['REG_DATE'] = pd.to_datetime(X_train['REG_DATE'])\n",
        "X_train['YEAR'] = X_train['REG_DATE'].dt.year\n",
        "X_train['MONTH']=X_train['REG_DATE'].dt.month\n",
        "X_train['DAY']=X_train['REG_DATE'].dt.day"
      ]
    },
    {
      "cell_type": "code",
      "execution_count": 14,
      "metadata": {
        "colab": {
          "base_uri": "https://localhost:8080/"
        },
        "id": "HYo0UIjcqNRX",
        "outputId": "91bf0dbc-0633-41dd-fb94-fbf9ed7ac0a6"
      },
      "outputs": [
        {
          "output_type": "stream",
          "name": "stdout",
          "text": [
            "<class 'pandas.core.frame.DataFrame'>\n",
            "Int64Index: 1430841 entries, 0 to 2013763\n",
            "Data columns (total 31 columns):\n",
            " #   Column                      Non-Null Count    Dtype              \n",
            "---  ------                      --------------    -----              \n",
            " 0   USER_ID_hash                1430841 non-null  object             \n",
            " 1   REG_DATE                    1430841 non-null  datetime64[ns, UTC]\n",
            " 2   SEX_ID                      1430841 non-null  object             \n",
            " 3   AGE                         1430841 non-null  int64              \n",
            " 4   Tr_Pref_Name                1162512 non-null  object             \n",
            " 5   Tr_small_area_name          1430841 non-null  object             \n",
            " 6   Translated_capsule_text     1430841 non-null  object             \n",
            " 7   Translated_genre_name       1430841 non-null  object             \n",
            " 8   usable_date_sum             1430841 non-null  int64              \n",
            " 9   view_count                  1430841 non-null  int64              \n",
            " 10  PRICE_RATE                  1430841 non-null  int64              \n",
            " 11  DISCOUNT_PRICE              1430841 non-null  int64              \n",
            " 12  VALIDPERIOD                 1430841 non-null  int64              \n",
            " 13  DISPPERIOD                  1430841 non-null  int64              \n",
            " 14  PURCHASE_FLG                1430841 non-null  int64              \n",
            " 15  dispfrom                    1430841 non-null  object             \n",
            " 16  dispend                     1430841 non-null  object             \n",
            " 17  usable_date_mon             1430841 non-null  int64              \n",
            " 18  usable_date_tue             1430841 non-null  int64              \n",
            " 19  usable_date_wed             1430841 non-null  int64              \n",
            " 20  usable_date_thu             1430841 non-null  int64              \n",
            " 21  usable_date_fri             1430841 non-null  int64              \n",
            " 22  usable_date_sat             1430841 non-null  int64              \n",
            " 23  usable_date_sun             1430841 non-null  int64              \n",
            " 24  usable_date_holiday         1430841 non-null  int64              \n",
            " 25  usable_date_before_holiday  1430841 non-null  int64              \n",
            " 26  Male                        1430841 non-null  int64              \n",
            " 27  Female                      1430841 non-null  int64              \n",
            " 28  YEAR                        1430841 non-null  int64              \n",
            " 29  MONTH                       1430841 non-null  int64              \n",
            " 30  DAY                         1430841 non-null  int64              \n",
            "dtypes: datetime64[ns, UTC](1), int64(22), object(8)\n",
            "memory usage: 349.3+ MB\n"
          ]
        }
      ],
      "source": [
        "X_train.info()"
      ]
    },
    {
      "cell_type": "code",
      "execution_count": 15,
      "metadata": {
        "id": "t841wRtNMa-W"
      },
      "outputs": [],
      "source": [
        "# COL_DEL=['USER_ID_hash']\n",
        "# COL_DATE=['YEAR','MONTH','DAY']\n",
        "# # COL_NUM=['AGE','DISCOUNT_PRICE']\n",
        "# # COL_NUM = ['AGE','DISPPERIOD', 'usable_date_sum',\n",
        "# #        'view_count','PRICE_RATE','DISCOUNT_PRICE','PURCHASE_FLG','VALIDPERIOD']\n",
        "# COL_CAT=[ 'SEX_ID', 'Tr_Pref_Name',\n",
        "#        'Tr_small_area_name', 'Translated_capsule_text',\n",
        "#        'Translated_genre_name' ]\n",
        "# # COL_CAT=['SEX_ID', 'Tr_Pref_Name',\n",
        "# #        'Tr_small_area_name',\n",
        "# #        ]\n",
        "# COL_Y=['Translated_genre_name']\n",
        "\n",
        "\n",
        "\n"
      ]
    },
    {
      "cell_type": "markdown",
      "source": [
        "5.변수형 태에 따른 분류"
      ],
      "metadata": {
        "id": "a4AGGxDQNyfc"
      }
    },
    {
      "cell_type": "code",
      "execution_count": 16,
      "metadata": {
        "id": "RYMo9CwYgPsp"
      },
      "outputs": [],
      "source": [
        "COL_DEL=['USER_ID_hash']\n",
        "COL_DATE=['YEAR','MONTH','DAY']\n",
        "COL_NUM=['PURCHASE_FLG','DISCOUNT_PRICE']\n",
        "COL_CAT=['SEX_ID', 'Tr_Pref_Name',\n",
        "       'Tr_small_area_name',\n",
        "       ]\n",
        "COL_Y=['Translated_genre_name']"
      ]
    },
    {
      "cell_type": "code",
      "execution_count": 17,
      "metadata": {
        "colab": {
          "base_uri": "https://localhost:8080/",
          "height": 206
        },
        "id": "mwh2JoG0wlU1",
        "outputId": "0b61a413-ea81-4b7a-d91d-b4dea0151484"
      },
      "outputs": [
        {
          "output_type": "execute_result",
          "data": {
            "text/plain": [
              "         PURCHASE_FLG  DISCOUNT_PRICE\n",
              "2013751             0            1370\n",
              "2013752             0            7200\n",
              "2013754             0            1180\n",
              "2013758             0            2840\n",
              "2013763             0            4980"
            ],
            "text/html": [
              "\n",
              "  <div id=\"df-8e5a537e-1445-4ec5-90ba-a6b5c8852e2e\">\n",
              "    <div class=\"colab-df-container\">\n",
              "      <div>\n",
              "<style scoped>\n",
              "    .dataframe tbody tr th:only-of-type {\n",
              "        vertical-align: middle;\n",
              "    }\n",
              "\n",
              "    .dataframe tbody tr th {\n",
              "        vertical-align: top;\n",
              "    }\n",
              "\n",
              "    .dataframe thead th {\n",
              "        text-align: right;\n",
              "    }\n",
              "</style>\n",
              "<table border=\"1\" class=\"dataframe\">\n",
              "  <thead>\n",
              "    <tr style=\"text-align: right;\">\n",
              "      <th></th>\n",
              "      <th>PURCHASE_FLG</th>\n",
              "      <th>DISCOUNT_PRICE</th>\n",
              "    </tr>\n",
              "  </thead>\n",
              "  <tbody>\n",
              "    <tr>\n",
              "      <th>2013751</th>\n",
              "      <td>0</td>\n",
              "      <td>1370</td>\n",
              "    </tr>\n",
              "    <tr>\n",
              "      <th>2013752</th>\n",
              "      <td>0</td>\n",
              "      <td>7200</td>\n",
              "    </tr>\n",
              "    <tr>\n",
              "      <th>2013754</th>\n",
              "      <td>0</td>\n",
              "      <td>1180</td>\n",
              "    </tr>\n",
              "    <tr>\n",
              "      <th>2013758</th>\n",
              "      <td>0</td>\n",
              "      <td>2840</td>\n",
              "    </tr>\n",
              "    <tr>\n",
              "      <th>2013763</th>\n",
              "      <td>0</td>\n",
              "      <td>4980</td>\n",
              "    </tr>\n",
              "  </tbody>\n",
              "</table>\n",
              "</div>\n",
              "      <button class=\"colab-df-convert\" onclick=\"convertToInteractive('df-8e5a537e-1445-4ec5-90ba-a6b5c8852e2e')\"\n",
              "              title=\"Convert this dataframe to an interactive table.\"\n",
              "              style=\"display:none;\">\n",
              "        \n",
              "  <svg xmlns=\"http://www.w3.org/2000/svg\" height=\"24px\"viewBox=\"0 0 24 24\"\n",
              "       width=\"24px\">\n",
              "    <path d=\"M0 0h24v24H0V0z\" fill=\"none\"/>\n",
              "    <path d=\"M18.56 5.44l.94 2.06.94-2.06 2.06-.94-2.06-.94-.94-2.06-.94 2.06-2.06.94zm-11 1L8.5 8.5l.94-2.06 2.06-.94-2.06-.94L8.5 2.5l-.94 2.06-2.06.94zm10 10l.94 2.06.94-2.06 2.06-.94-2.06-.94-.94-2.06-.94 2.06-2.06.94z\"/><path d=\"M17.41 7.96l-1.37-1.37c-.4-.4-.92-.59-1.43-.59-.52 0-1.04.2-1.43.59L10.3 9.45l-7.72 7.72c-.78.78-.78 2.05 0 2.83L4 21.41c.39.39.9.59 1.41.59.51 0 1.02-.2 1.41-.59l7.78-7.78 2.81-2.81c.8-.78.8-2.07 0-2.86zM5.41 20L4 18.59l7.72-7.72 1.47 1.35L5.41 20z\"/>\n",
              "  </svg>\n",
              "      </button>\n",
              "      \n",
              "  <style>\n",
              "    .colab-df-container {\n",
              "      display:flex;\n",
              "      flex-wrap:wrap;\n",
              "      gap: 12px;\n",
              "    }\n",
              "\n",
              "    .colab-df-convert {\n",
              "      background-color: #E8F0FE;\n",
              "      border: none;\n",
              "      border-radius: 50%;\n",
              "      cursor: pointer;\n",
              "      display: none;\n",
              "      fill: #1967D2;\n",
              "      height: 32px;\n",
              "      padding: 0 0 0 0;\n",
              "      width: 32px;\n",
              "    }\n",
              "\n",
              "    .colab-df-convert:hover {\n",
              "      background-color: #E2EBFA;\n",
              "      box-shadow: 0px 1px 2px rgba(60, 64, 67, 0.3), 0px 1px 3px 1px rgba(60, 64, 67, 0.15);\n",
              "      fill: #174EA6;\n",
              "    }\n",
              "\n",
              "    [theme=dark] .colab-df-convert {\n",
              "      background-color: #3B4455;\n",
              "      fill: #D2E3FC;\n",
              "    }\n",
              "\n",
              "    [theme=dark] .colab-df-convert:hover {\n",
              "      background-color: #434B5C;\n",
              "      box-shadow: 0px 1px 3px 1px rgba(0, 0, 0, 0.15);\n",
              "      filter: drop-shadow(0px 1px 2px rgba(0, 0, 0, 0.3));\n",
              "      fill: #FFFFFF;\n",
              "    }\n",
              "  </style>\n",
              "\n",
              "      <script>\n",
              "        const buttonEl =\n",
              "          document.querySelector('#df-8e5a537e-1445-4ec5-90ba-a6b5c8852e2e button.colab-df-convert');\n",
              "        buttonEl.style.display =\n",
              "          google.colab.kernel.accessAllowed ? 'block' : 'none';\n",
              "\n",
              "        async function convertToInteractive(key) {\n",
              "          const element = document.querySelector('#df-8e5a537e-1445-4ec5-90ba-a6b5c8852e2e');\n",
              "          const dataTable =\n",
              "            await google.colab.kernel.invokeFunction('convertToInteractive',\n",
              "                                                     [key], {});\n",
              "          if (!dataTable) return;\n",
              "\n",
              "          const docLinkHtml = 'Like what you see? Visit the ' +\n",
              "            '<a target=\"_blank\" href=https://colab.research.google.com/notebooks/data_table.ipynb>data table notebook</a>'\n",
              "            + ' to learn more about interactive tables.';\n",
              "          element.innerHTML = '';\n",
              "          dataTable['output_type'] = 'display_data';\n",
              "          await google.colab.output.renderOutput(dataTable, element);\n",
              "          const docLink = document.createElement('div');\n",
              "          docLink.innerHTML = docLinkHtml;\n",
              "          element.appendChild(docLink);\n",
              "        }\n",
              "      </script>\n",
              "    </div>\n",
              "  </div>\n",
              "  "
            ]
          },
          "metadata": {},
          "execution_count": 17
        }
      ],
      "source": [
        "train[COL_NUM].tail()"
      ]
    },
    {
      "cell_type": "markdown",
      "source": [
        "6.모델 나누기"
      ],
      "metadata": {
        "id": "nDnNSAW-N05m"
      }
    },
    {
      "cell_type": "code",
      "execution_count": 18,
      "metadata": {
        "id": "upYDgUC1MbCN"
      },
      "outputs": [],
      "source": [
        "from sklearn.model_selection import train_test_split\n",
        "X_tr,X_val,y_tr,y_val = train_test_split(X_train[COL_NUM+COL_CAT+COL_DATE],y_train[COL_Y].values.ravel(),test_size = 0.2,stratify=y_train[COL_Y])\n"
      ]
    },
    {
      "cell_type": "code",
      "execution_count": 18,
      "metadata": {
        "id": "3XhpsiMx58Qk"
      },
      "outputs": [],
      "source": []
    },
    {
      "cell_type": "markdown",
      "source": [
        "7.변수 스케일링"
      ],
      "metadata": {
        "id": "Hbt2hxsSN3P8"
      }
    },
    {
      "cell_type": "code",
      "execution_count": 19,
      "metadata": {
        "id": "-6AGhta3OVXv"
      },
      "outputs": [],
      "source": [
        "\n",
        "from sklearn.preprocessing import StandardScaler\n",
        "scaler = StandardScaler()\n",
        "\n",
        "X_tr[COL_NUM] = scaler.fit_transform(X_tr[COL_NUM])\n",
        "X_val[COL_NUM] = scaler.transform(X_val[COL_NUM])\n",
        "X_test[COL_NUM] = scaler.transform(X_test[COL_NUM])"
      ]
    },
    {
      "cell_type": "markdown",
      "source": [],
      "metadata": {
        "id": "7IKD9O30N6Rc"
      }
    },
    {
      "cell_type": "code",
      "execution_count": 20,
      "metadata": {
        "id": "8LsNUQjhOWJq"
      },
      "outputs": [],
      "source": [
        "\n",
        "\n",
        "from sklearn.preprocessing import LabelEncoder\n",
        "le = LabelEncoder()\n",
        "\n",
        "\n",
        "X =pd.concat([X_train[COL_CAT],X_test[COL_CAT]])\n",
        "\n",
        "for col in COL_CAT:\n",
        "  le.fit(X[col])\n",
        "  X_tr[col] = le.transform(X_tr[col])\n",
        "  X_val[col] = le.transform(X_val[col])\n",
        "  X_test[col] = le.transform(X_test[col])"
      ]
    },
    {
      "cell_type": "code",
      "execution_count": 21,
      "metadata": {
        "id": "UjfRLQll6Khf"
      },
      "outputs": [],
      "source": [
        "# from imblearn.over_sampling import RandomOverSampler\n",
        "\n",
        "# # 타겟 데이터와 피처 데이터 준비\n",
        "\n",
        "# # RandomOverSampler 객체 생성\n",
        "# oversampler = RandomOverSampler()\n",
        "\n",
        "# # 오버 샘플링 수행\n",
        "# X_tr,y_tr = oversampler.fit_resample(X_tr, y_tr)"
      ]
    },
    {
      "cell_type": "code",
      "execution_count": 22,
      "metadata": {
        "id": "bZs3tqaeN9zy"
      },
      "outputs": [],
      "source": [
        "# from imblearn.over_sampling import SMOTE\n",
        "# smote = SMOTE(random_state = 42)\n",
        "# X_tr, y_tr = smote.fit_resample(X_tr, y_tr)\n",
        "# print('SMOTE 적용 전 학습용 피처/레이블 데이터 셋 :', X_tr.shape, y_tr.shape)\n",
        "# # # print('SMOTE 적용 후 학습용 피처/레이블 데이터 셋 :', x_tr_over.shape, y_train_over.shape)\n",
        "# print('SMOTE 적용 후 전 분포 :\\n', pd.Series(y_tr).value_counts())\n"
      ]
    },
    {
      "cell_type": "markdown",
      "source": [
        "#8.RandomForestClassifier 모델학습"
      ],
      "metadata": {
        "id": "ghacoH4COBK_"
      }
    },
    {
      "cell_type": "code",
      "execution_count": 23,
      "metadata": {
        "id": "pdlgtMElMbFU",
        "colab": {
          "base_uri": "https://localhost:8080/"
        },
        "outputId": "2511555b-485e-4006-a792-3f1dad1df714"
      },
      "outputs": [
        {
          "output_type": "stream",
          "name": "stdout",
          "text": [
            "Model training finished.\n"
          ]
        }
      ],
      "source": [
        "from sklearn.ensemble import RandomForestClassifier\n",
        "\n",
        "model_rf = RandomForestClassifier(random_state =42)\n",
        "model_rf.fit(X_tr, y_tr)\n",
        "print(\"Model training finished.\")"
      ]
    },
    {
      "cell_type": "markdown",
      "source": [
        "9.모델 성능 예측하기"
      ],
      "metadata": {
        "id": "AJdU23XCODZN"
      }
    },
    {
      "cell_type": "code",
      "execution_count": 24,
      "metadata": {
        "id": "P_4EQOXCRLuR",
        "colab": {
          "base_uri": "https://localhost:8080/"
        },
        "outputId": "4597be0b-e807-4370-90d1-33a5e7bbcaf2"
      },
      "outputs": [
        {
          "output_type": "stream",
          "name": "stdout",
          "text": [
            "0.7687834810898455\n"
          ]
        }
      ],
      "source": [
        "predict_rf = model_rf.predict(X_val)\n",
        "from sklearn.metrics import accuracy_score\n",
        "score_rf = accuracy_score(y_val,predict_rf)\n",
        "print(score_rf)"
      ]
    },
    {
      "cell_type": "code",
      "execution_count": 25,
      "metadata": {
        "id": "kMiktq4sRL0p",
        "colab": {
          "base_uri": "https://localhost:8080/"
        },
        "outputId": "ff5f8d68-964f-49b0-bbdd-84b02aa76191"
      },
      "outputs": [
        {
          "output_type": "stream",
          "name": "stdout",
          "text": [
            "0.95586333901764\n"
          ]
        }
      ],
      "source": [
        "predict_rf_tr = model_rf.predict(X_tr)\n",
        "from sklearn.metrics import accuracy_score\n",
        "score_rf_tr = accuracy_score(y_tr,predict_rf_tr)\n",
        "print(score_rf_tr)\n"
      ]
    },
    {
      "cell_type": "code",
      "execution_count": 25,
      "metadata": {
        "id": "MS9HiB-uo8Wi"
      },
      "outputs": [],
      "source": []
    },
    {
      "cell_type": "code",
      "execution_count": 26,
      "metadata": {
        "id": "_l_NQTMj5WFM"
      },
      "outputs": [],
      "source": [
        "\n",
        "#최적의 파라미터 찾는 코드 - 실행시간이 너무 오래걸\n",
        "# from sklearn.model_selection import RandomizedSearchCV\n",
        "# from sklearn.ensemble import RandomForestClassifier\n",
        "\n",
        "# # 데이터 준비\n",
        "# X_train = X_tr\n",
        "# y_train = y_tr\n",
        "\n",
        "# # 랜덤 서치를 위한 하이퍼파라미터 분포 설정\n",
        "# param_distribution = {\n",
        "#     'n_estimators': [100, 200, 300],\n",
        "#     'max_depth': [None, 5, 10],\n",
        "#     'min_samples_split': [2, 5, 10],\n",
        "#     'min_samples_leaf': [1, 2, 4],\n",
        "# }\n",
        "\n",
        "# # 모델 및 랜덤 서치 객체 생성\n",
        "# model = RandomForestClassifier(random_state=42)\n",
        "# random_search = RandomizedSearchCV(model, param_distribution, n_iter=10, cv=5)\n",
        "\n",
        "# # 랜덤 서치 수행\n",
        "# random_search.fit(X_train, y_train)\n",
        "\n",
        "# # 최적의 하이퍼파라미터와 최고 성능 출력\n",
        "# print(\"Best parameters:\", random_search.best_params_)\n",
        "# print(\"Best score:\", random_search.best_score_)"
      ]
    },
    {
      "cell_type": "code",
      "execution_count": 27,
      "metadata": {
        "id": "HU8knDai0OjB"
      },
      "outputs": [],
      "source": [
        "X_test['REG_DATE'] = pd.to_datetime(X_test['REG_DATE'])\n",
        "X_test['YEAR'] = X_test['REG_DATE'].dt.year\n",
        "X_test['MONTH']=X_test['REG_DATE'].dt.month\n",
        "X_test['DAY']=X_test['REG_DATE'].dt.day\n",
        "\n"
      ]
    },
    {
      "cell_type": "code",
      "execution_count": 28,
      "metadata": {
        "id": "4zqJi4mtnJ5f",
        "colab": {
          "base_uri": "https://localhost:8080/"
        },
        "outputId": "ee251ce7-7a71-4a82-bc69-81c8b3e104cd"
      },
      "outputs": [
        {
          "output_type": "execute_result",
          "data": {
            "text/plain": [
              "Index(['USER_ID_hash', 'REG_DATE', 'SEX_ID', 'AGE', 'Tr_Pref_Name',\n",
              "       'Tr_small_area_name', 'Translated_capsule_text',\n",
              "       'Translated_genre_name', 'usable_date_sum', 'view_count', 'PRICE_RATE',\n",
              "       'DISCOUNT_PRICE', 'VALIDPERIOD', 'DISPPERIOD', 'PURCHASE_FLG',\n",
              "       'dispfrom', 'dispend', 'usable_date_mon', 'usable_date_tue',\n",
              "       'usable_date_wed', 'usable_date_thu', 'usable_date_fri',\n",
              "       'usable_date_sat', 'usable_date_sun', 'usable_date_holiday',\n",
              "       'usable_date_before_holiday', 'Male', 'Female', 'YEAR', 'MONTH', 'DAY'],\n",
              "      dtype='object')"
            ]
          },
          "metadata": {},
          "execution_count": 28
        }
      ],
      "source": [
        "X_test.columns"
      ]
    },
    {
      "cell_type": "markdown",
      "source": [
        "#10.테스트 값 예측하기"
      ],
      "metadata": {
        "id": "AwDyJRYjOHm8"
      }
    },
    {
      "cell_type": "code",
      "execution_count": 29,
      "metadata": {
        "id": "TGVFJEO1m7zI",
        "colab": {
          "base_uri": "https://localhost:8080/",
          "height": 206
        },
        "outputId": "c73ec238-7235-4447-86fb-aea87d4261aa"
      },
      "outputs": [
        {
          "output_type": "execute_result",
          "data": {
            "text/plain": [
              "                                      ID   pred\n",
              "503435  8def6945f101847ef1747d08e307146a  기타 쿠폰\n",
              "503437  89fe6f79b987530bf2757b807194a0e4     택배\n",
              "503438  7958f18dc3b9b6e8a59acbb2bdb2d993     택배\n",
              "503440  fe7e29cd67a818747fff9fba44fc5ffd     음식\n",
              "503441  0137f73c8754c26c02e99758400aa898     택배"
            ],
            "text/html": [
              "\n",
              "  <div id=\"df-9fdfe410-32c5-4db0-9a01-fb8a1ac108b1\">\n",
              "    <div class=\"colab-df-container\">\n",
              "      <div>\n",
              "<style scoped>\n",
              "    .dataframe tbody tr th:only-of-type {\n",
              "        vertical-align: middle;\n",
              "    }\n",
              "\n",
              "    .dataframe tbody tr th {\n",
              "        vertical-align: top;\n",
              "    }\n",
              "\n",
              "    .dataframe thead th {\n",
              "        text-align: right;\n",
              "    }\n",
              "</style>\n",
              "<table border=\"1\" class=\"dataframe\">\n",
              "  <thead>\n",
              "    <tr style=\"text-align: right;\">\n",
              "      <th></th>\n",
              "      <th>ID</th>\n",
              "      <th>pred</th>\n",
              "    </tr>\n",
              "  </thead>\n",
              "  <tbody>\n",
              "    <tr>\n",
              "      <th>503435</th>\n",
              "      <td>8def6945f101847ef1747d08e307146a</td>\n",
              "      <td>기타 쿠폰</td>\n",
              "    </tr>\n",
              "    <tr>\n",
              "      <th>503437</th>\n",
              "      <td>89fe6f79b987530bf2757b807194a0e4</td>\n",
              "      <td>택배</td>\n",
              "    </tr>\n",
              "    <tr>\n",
              "      <th>503438</th>\n",
              "      <td>7958f18dc3b9b6e8a59acbb2bdb2d993</td>\n",
              "      <td>택배</td>\n",
              "    </tr>\n",
              "    <tr>\n",
              "      <th>503440</th>\n",
              "      <td>fe7e29cd67a818747fff9fba44fc5ffd</td>\n",
              "      <td>음식</td>\n",
              "    </tr>\n",
              "    <tr>\n",
              "      <th>503441</th>\n",
              "      <td>0137f73c8754c26c02e99758400aa898</td>\n",
              "      <td>택배</td>\n",
              "    </tr>\n",
              "  </tbody>\n",
              "</table>\n",
              "</div>\n",
              "      <button class=\"colab-df-convert\" onclick=\"convertToInteractive('df-9fdfe410-32c5-4db0-9a01-fb8a1ac108b1')\"\n",
              "              title=\"Convert this dataframe to an interactive table.\"\n",
              "              style=\"display:none;\">\n",
              "        \n",
              "  <svg xmlns=\"http://www.w3.org/2000/svg\" height=\"24px\"viewBox=\"0 0 24 24\"\n",
              "       width=\"24px\">\n",
              "    <path d=\"M0 0h24v24H0V0z\" fill=\"none\"/>\n",
              "    <path d=\"M18.56 5.44l.94 2.06.94-2.06 2.06-.94-2.06-.94-.94-2.06-.94 2.06-2.06.94zm-11 1L8.5 8.5l.94-2.06 2.06-.94-2.06-.94L8.5 2.5l-.94 2.06-2.06.94zm10 10l.94 2.06.94-2.06 2.06-.94-2.06-.94-.94-2.06-.94 2.06-2.06.94z\"/><path d=\"M17.41 7.96l-1.37-1.37c-.4-.4-.92-.59-1.43-.59-.52 0-1.04.2-1.43.59L10.3 9.45l-7.72 7.72c-.78.78-.78 2.05 0 2.83L4 21.41c.39.39.9.59 1.41.59.51 0 1.02-.2 1.41-.59l7.78-7.78 2.81-2.81c.8-.78.8-2.07 0-2.86zM5.41 20L4 18.59l7.72-7.72 1.47 1.35L5.41 20z\"/>\n",
              "  </svg>\n",
              "      </button>\n",
              "      \n",
              "  <style>\n",
              "    .colab-df-container {\n",
              "      display:flex;\n",
              "      flex-wrap:wrap;\n",
              "      gap: 12px;\n",
              "    }\n",
              "\n",
              "    .colab-df-convert {\n",
              "      background-color: #E8F0FE;\n",
              "      border: none;\n",
              "      border-radius: 50%;\n",
              "      cursor: pointer;\n",
              "      display: none;\n",
              "      fill: #1967D2;\n",
              "      height: 32px;\n",
              "      padding: 0 0 0 0;\n",
              "      width: 32px;\n",
              "    }\n",
              "\n",
              "    .colab-df-convert:hover {\n",
              "      background-color: #E2EBFA;\n",
              "      box-shadow: 0px 1px 2px rgba(60, 64, 67, 0.3), 0px 1px 3px 1px rgba(60, 64, 67, 0.15);\n",
              "      fill: #174EA6;\n",
              "    }\n",
              "\n",
              "    [theme=dark] .colab-df-convert {\n",
              "      background-color: #3B4455;\n",
              "      fill: #D2E3FC;\n",
              "    }\n",
              "\n",
              "    [theme=dark] .colab-df-convert:hover {\n",
              "      background-color: #434B5C;\n",
              "      box-shadow: 0px 1px 3px 1px rgba(0, 0, 0, 0.15);\n",
              "      filter: drop-shadow(0px 1px 2px rgba(0, 0, 0, 0.3));\n",
              "      fill: #FFFFFF;\n",
              "    }\n",
              "  </style>\n",
              "\n",
              "      <script>\n",
              "        const buttonEl =\n",
              "          document.querySelector('#df-9fdfe410-32c5-4db0-9a01-fb8a1ac108b1 button.colab-df-convert');\n",
              "        buttonEl.style.display =\n",
              "          google.colab.kernel.accessAllowed ? 'block' : 'none';\n",
              "\n",
              "        async function convertToInteractive(key) {\n",
              "          const element = document.querySelector('#df-9fdfe410-32c5-4db0-9a01-fb8a1ac108b1');\n",
              "          const dataTable =\n",
              "            await google.colab.kernel.invokeFunction('convertToInteractive',\n",
              "                                                     [key], {});\n",
              "          if (!dataTable) return;\n",
              "\n",
              "          const docLinkHtml = 'Like what you see? Visit the ' +\n",
              "            '<a target=\"_blank\" href=https://colab.research.google.com/notebooks/data_table.ipynb>data table notebook</a>'\n",
              "            + ' to learn more about interactive tables.';\n",
              "          element.innerHTML = '';\n",
              "          dataTable['output_type'] = 'display_data';\n",
              "          await google.colab.output.renderOutput(dataTable, element);\n",
              "          const docLink = document.createElement('div');\n",
              "          docLink.innerHTML = docLinkHtml;\n",
              "          element.appendChild(docLink);\n",
              "        }\n",
              "      </script>\n",
              "    </div>\n",
              "  </div>\n",
              "  "
            ]
          },
          "metadata": {},
          "execution_count": 29
        }
      ],
      "source": [
        "pred= model_rf.predict(X_test[COL_NUM+COL_CAT+COL_DATE])\n",
        "result = pd.DataFrame({'ID':X_test.USER_ID_hash,'pred':pred})\n",
        "result.tail()"
      ]
    },
    {
      "cell_type": "code",
      "execution_count": 30,
      "metadata": {
        "id": "qs_pO5o9rpil",
        "colab": {
          "base_uri": "https://localhost:8080/",
          "height": 386
        },
        "outputId": "66cfd6f8-b422-44b6-df3d-0f54f58ddab9"
      },
      "outputs": [
        {
          "output_type": "execute_result",
          "data": {
            "text/plain": [
              "                            USER_ID_hash                  REG_DATE  SEX_ID  \\\n",
              "503435  8def6945f101847ef1747d08e307146a 2011-06-09 14:33:20+00:00       0   \n",
              "503437  89fe6f79b987530bf2757b807194a0e4 2011-03-05 22:22:57+00:00       0   \n",
              "503438  7958f18dc3b9b6e8a59acbb2bdb2d993 2012-01-05 00:10:17+00:00       0   \n",
              "503440  fe7e29cd67a818747fff9fba44fc5ffd 2011-08-10 14:54:03+00:00       0   \n",
              "503441  0137f73c8754c26c02e99758400aa898 2012-02-09 07:17:57+00:00       0   \n",
              "\n",
              "        AGE  Tr_Pref_Name  Tr_small_area_name Translated_capsule_text  \\\n",
              "503435   45            38                  22                      기타   \n",
              "503437   26            27                   7                      택배   \n",
              "503438   29            10                   3                      휴식   \n",
              "503440   43            10                  22                      음식   \n",
              "503441   46            29                   3                      택배   \n",
              "\n",
              "       Translated_genre_name  usable_date_sum  view_count  ...  \\\n",
              "503435                 기타 쿠폰                0        2645  ...   \n",
              "503437                    택배                0         221  ...   \n",
              "503438                    휴식                8          41  ...   \n",
              "503440                    음식                6         640  ...   \n",
              "503441                    택배                0         741  ...   \n",
              "\n",
              "        usable_date_fri  usable_date_sat  usable_date_sun  \\\n",
              "503435                0                0                0   \n",
              "503437                0                0                0   \n",
              "503438                1                1                1   \n",
              "503440                1                1                0   \n",
              "503441                0                0                0   \n",
              "\n",
              "        usable_date_holiday  usable_date_before_holiday Male Female  YEAR  \\\n",
              "503435                    0                           0    0      1  2011   \n",
              "503437                    0                           0    0      1  2011   \n",
              "503438                    1                           1    0      1  2012   \n",
              "503440                    0                           0    0      1  2011   \n",
              "503441                    0                           0    0      1  2012   \n",
              "\n",
              "        MONTH  DAY  \n",
              "503435      6    9  \n",
              "503437      3    5  \n",
              "503438      1    5  \n",
              "503440      8   10  \n",
              "503441      2    9  \n",
              "\n",
              "[5 rows x 31 columns]"
            ],
            "text/html": [
              "\n",
              "  <div id=\"df-d0fb6de2-6473-44fe-aad8-f535d0ecaaf7\">\n",
              "    <div class=\"colab-df-container\">\n",
              "      <div>\n",
              "<style scoped>\n",
              "    .dataframe tbody tr th:only-of-type {\n",
              "        vertical-align: middle;\n",
              "    }\n",
              "\n",
              "    .dataframe tbody tr th {\n",
              "        vertical-align: top;\n",
              "    }\n",
              "\n",
              "    .dataframe thead th {\n",
              "        text-align: right;\n",
              "    }\n",
              "</style>\n",
              "<table border=\"1\" class=\"dataframe\">\n",
              "  <thead>\n",
              "    <tr style=\"text-align: right;\">\n",
              "      <th></th>\n",
              "      <th>USER_ID_hash</th>\n",
              "      <th>REG_DATE</th>\n",
              "      <th>SEX_ID</th>\n",
              "      <th>AGE</th>\n",
              "      <th>Tr_Pref_Name</th>\n",
              "      <th>Tr_small_area_name</th>\n",
              "      <th>Translated_capsule_text</th>\n",
              "      <th>Translated_genre_name</th>\n",
              "      <th>usable_date_sum</th>\n",
              "      <th>view_count</th>\n",
              "      <th>...</th>\n",
              "      <th>usable_date_fri</th>\n",
              "      <th>usable_date_sat</th>\n",
              "      <th>usable_date_sun</th>\n",
              "      <th>usable_date_holiday</th>\n",
              "      <th>usable_date_before_holiday</th>\n",
              "      <th>Male</th>\n",
              "      <th>Female</th>\n",
              "      <th>YEAR</th>\n",
              "      <th>MONTH</th>\n",
              "      <th>DAY</th>\n",
              "    </tr>\n",
              "  </thead>\n",
              "  <tbody>\n",
              "    <tr>\n",
              "      <th>503435</th>\n",
              "      <td>8def6945f101847ef1747d08e307146a</td>\n",
              "      <td>2011-06-09 14:33:20+00:00</td>\n",
              "      <td>0</td>\n",
              "      <td>45</td>\n",
              "      <td>38</td>\n",
              "      <td>22</td>\n",
              "      <td>기타</td>\n",
              "      <td>기타 쿠폰</td>\n",
              "      <td>0</td>\n",
              "      <td>2645</td>\n",
              "      <td>...</td>\n",
              "      <td>0</td>\n",
              "      <td>0</td>\n",
              "      <td>0</td>\n",
              "      <td>0</td>\n",
              "      <td>0</td>\n",
              "      <td>0</td>\n",
              "      <td>1</td>\n",
              "      <td>2011</td>\n",
              "      <td>6</td>\n",
              "      <td>9</td>\n",
              "    </tr>\n",
              "    <tr>\n",
              "      <th>503437</th>\n",
              "      <td>89fe6f79b987530bf2757b807194a0e4</td>\n",
              "      <td>2011-03-05 22:22:57+00:00</td>\n",
              "      <td>0</td>\n",
              "      <td>26</td>\n",
              "      <td>27</td>\n",
              "      <td>7</td>\n",
              "      <td>택배</td>\n",
              "      <td>택배</td>\n",
              "      <td>0</td>\n",
              "      <td>221</td>\n",
              "      <td>...</td>\n",
              "      <td>0</td>\n",
              "      <td>0</td>\n",
              "      <td>0</td>\n",
              "      <td>0</td>\n",
              "      <td>0</td>\n",
              "      <td>0</td>\n",
              "      <td>1</td>\n",
              "      <td>2011</td>\n",
              "      <td>3</td>\n",
              "      <td>5</td>\n",
              "    </tr>\n",
              "    <tr>\n",
              "      <th>503438</th>\n",
              "      <td>7958f18dc3b9b6e8a59acbb2bdb2d993</td>\n",
              "      <td>2012-01-05 00:10:17+00:00</td>\n",
              "      <td>0</td>\n",
              "      <td>29</td>\n",
              "      <td>10</td>\n",
              "      <td>3</td>\n",
              "      <td>휴식</td>\n",
              "      <td>휴식</td>\n",
              "      <td>8</td>\n",
              "      <td>41</td>\n",
              "      <td>...</td>\n",
              "      <td>1</td>\n",
              "      <td>1</td>\n",
              "      <td>1</td>\n",
              "      <td>1</td>\n",
              "      <td>1</td>\n",
              "      <td>0</td>\n",
              "      <td>1</td>\n",
              "      <td>2012</td>\n",
              "      <td>1</td>\n",
              "      <td>5</td>\n",
              "    </tr>\n",
              "    <tr>\n",
              "      <th>503440</th>\n",
              "      <td>fe7e29cd67a818747fff9fba44fc5ffd</td>\n",
              "      <td>2011-08-10 14:54:03+00:00</td>\n",
              "      <td>0</td>\n",
              "      <td>43</td>\n",
              "      <td>10</td>\n",
              "      <td>22</td>\n",
              "      <td>음식</td>\n",
              "      <td>음식</td>\n",
              "      <td>6</td>\n",
              "      <td>640</td>\n",
              "      <td>...</td>\n",
              "      <td>1</td>\n",
              "      <td>1</td>\n",
              "      <td>0</td>\n",
              "      <td>0</td>\n",
              "      <td>0</td>\n",
              "      <td>0</td>\n",
              "      <td>1</td>\n",
              "      <td>2011</td>\n",
              "      <td>8</td>\n",
              "      <td>10</td>\n",
              "    </tr>\n",
              "    <tr>\n",
              "      <th>503441</th>\n",
              "      <td>0137f73c8754c26c02e99758400aa898</td>\n",
              "      <td>2012-02-09 07:17:57+00:00</td>\n",
              "      <td>0</td>\n",
              "      <td>46</td>\n",
              "      <td>29</td>\n",
              "      <td>3</td>\n",
              "      <td>택배</td>\n",
              "      <td>택배</td>\n",
              "      <td>0</td>\n",
              "      <td>741</td>\n",
              "      <td>...</td>\n",
              "      <td>0</td>\n",
              "      <td>0</td>\n",
              "      <td>0</td>\n",
              "      <td>0</td>\n",
              "      <td>0</td>\n",
              "      <td>0</td>\n",
              "      <td>1</td>\n",
              "      <td>2012</td>\n",
              "      <td>2</td>\n",
              "      <td>9</td>\n",
              "    </tr>\n",
              "  </tbody>\n",
              "</table>\n",
              "<p>5 rows × 31 columns</p>\n",
              "</div>\n",
              "      <button class=\"colab-df-convert\" onclick=\"convertToInteractive('df-d0fb6de2-6473-44fe-aad8-f535d0ecaaf7')\"\n",
              "              title=\"Convert this dataframe to an interactive table.\"\n",
              "              style=\"display:none;\">\n",
              "        \n",
              "  <svg xmlns=\"http://www.w3.org/2000/svg\" height=\"24px\"viewBox=\"0 0 24 24\"\n",
              "       width=\"24px\">\n",
              "    <path d=\"M0 0h24v24H0V0z\" fill=\"none\"/>\n",
              "    <path d=\"M18.56 5.44l.94 2.06.94-2.06 2.06-.94-2.06-.94-.94-2.06-.94 2.06-2.06.94zm-11 1L8.5 8.5l.94-2.06 2.06-.94-2.06-.94L8.5 2.5l-.94 2.06-2.06.94zm10 10l.94 2.06.94-2.06 2.06-.94-2.06-.94-.94-2.06-.94 2.06-2.06.94z\"/><path d=\"M17.41 7.96l-1.37-1.37c-.4-.4-.92-.59-1.43-.59-.52 0-1.04.2-1.43.59L10.3 9.45l-7.72 7.72c-.78.78-.78 2.05 0 2.83L4 21.41c.39.39.9.59 1.41.59.51 0 1.02-.2 1.41-.59l7.78-7.78 2.81-2.81c.8-.78.8-2.07 0-2.86zM5.41 20L4 18.59l7.72-7.72 1.47 1.35L5.41 20z\"/>\n",
              "  </svg>\n",
              "      </button>\n",
              "      \n",
              "  <style>\n",
              "    .colab-df-container {\n",
              "      display:flex;\n",
              "      flex-wrap:wrap;\n",
              "      gap: 12px;\n",
              "    }\n",
              "\n",
              "    .colab-df-convert {\n",
              "      background-color: #E8F0FE;\n",
              "      border: none;\n",
              "      border-radius: 50%;\n",
              "      cursor: pointer;\n",
              "      display: none;\n",
              "      fill: #1967D2;\n",
              "      height: 32px;\n",
              "      padding: 0 0 0 0;\n",
              "      width: 32px;\n",
              "    }\n",
              "\n",
              "    .colab-df-convert:hover {\n",
              "      background-color: #E2EBFA;\n",
              "      box-shadow: 0px 1px 2px rgba(60, 64, 67, 0.3), 0px 1px 3px 1px rgba(60, 64, 67, 0.15);\n",
              "      fill: #174EA6;\n",
              "    }\n",
              "\n",
              "    [theme=dark] .colab-df-convert {\n",
              "      background-color: #3B4455;\n",
              "      fill: #D2E3FC;\n",
              "    }\n",
              "\n",
              "    [theme=dark] .colab-df-convert:hover {\n",
              "      background-color: #434B5C;\n",
              "      box-shadow: 0px 1px 3px 1px rgba(0, 0, 0, 0.15);\n",
              "      filter: drop-shadow(0px 1px 2px rgba(0, 0, 0, 0.3));\n",
              "      fill: #FFFFFF;\n",
              "    }\n",
              "  </style>\n",
              "\n",
              "      <script>\n",
              "        const buttonEl =\n",
              "          document.querySelector('#df-d0fb6de2-6473-44fe-aad8-f535d0ecaaf7 button.colab-df-convert');\n",
              "        buttonEl.style.display =\n",
              "          google.colab.kernel.accessAllowed ? 'block' : 'none';\n",
              "\n",
              "        async function convertToInteractive(key) {\n",
              "          const element = document.querySelector('#df-d0fb6de2-6473-44fe-aad8-f535d0ecaaf7');\n",
              "          const dataTable =\n",
              "            await google.colab.kernel.invokeFunction('convertToInteractive',\n",
              "                                                     [key], {});\n",
              "          if (!dataTable) return;\n",
              "\n",
              "          const docLinkHtml = 'Like what you see? Visit the ' +\n",
              "            '<a target=\"_blank\" href=https://colab.research.google.com/notebooks/data_table.ipynb>data table notebook</a>'\n",
              "            + ' to learn more about interactive tables.';\n",
              "          element.innerHTML = '';\n",
              "          dataTable['output_type'] = 'display_data';\n",
              "          await google.colab.output.renderOutput(dataTable, element);\n",
              "          const docLink = document.createElement('div');\n",
              "          docLink.innerHTML = docLinkHtml;\n",
              "          element.appendChild(docLink);\n",
              "        }\n",
              "      </script>\n",
              "    </div>\n",
              "  </div>\n",
              "  "
            ]
          },
          "metadata": {},
          "execution_count": 30
        }
      ],
      "source": [
        "X_test.tail()"
      ]
    },
    {
      "cell_type": "code",
      "execution_count": 31,
      "metadata": {
        "id": "QnrND_TN0O5o"
      },
      "outputs": [],
      "source": [
        "#한글깨짐\n",
        "# !sudo apt-get install -y fonts-nanum\n",
        "# !sudo fc-cache -fv\n",
        "# !rm ~/.cache/matplotlib -rf"
      ]
    },
    {
      "cell_type": "markdown",
      "source": [
        "11.변수들의 정확도, 재현율, 정밀도 파악하기"
      ],
      "metadata": {
        "id": "KQpB5k3POL3c"
      }
    },
    {
      "cell_type": "markdown",
      "source": [],
      "metadata": {
        "id": "9uNbgHD1OLcr"
      }
    },
    {
      "cell_type": "code",
      "execution_count": 32,
      "metadata": {
        "id": "h9_CFjJnzlBP",
        "colab": {
          "base_uri": "https://localhost:8080/"
        },
        "outputId": "62ac6662-2270-4333-b64d-bbdc6eacb3e0"
      },
      "outputs": [
        {
          "output_type": "stream",
          "name": "stdout",
          "text": [
            "Accuracy: 0.7687834810898455\n",
            "Precision: 0.575184133314314\n",
            "Recall: 0.4669331170698158\n"
          ]
        }
      ],
      "source": [
        "from sklearn.metrics import  precision_score,recall_score\n",
        "actual = y_val\n",
        "predicted = predict_rf\n",
        "accuracy = accuracy_score(actual, predicted)\n",
        "print(\"Accuracy:\", accuracy)\n",
        "\n",
        "# 정밀도 계산\n",
        "precision = precision_score(actual, predicted,average='macro')\n",
        "print(\"Precision:\", precision)\n",
        "\n",
        "# 재현율 계산\n",
        "recall = recall_score(actual, predicted,average='macro')\n",
        "print(\"Recall:\", recall)"
      ]
    },
    {
      "cell_type": "code",
      "execution_count": 33,
      "metadata": {
        "id": "DRcWS9rE295-",
        "colab": {
          "base_uri": "https://localhost:8080/"
        },
        "outputId": "2525b348-ac54-4a8e-da4d-d0bfddbe30ef"
      },
      "outputs": [
        {
          "output_type": "stream",
          "name": "stdout",
          "text": [
            "              precision    recall  f1-score   support\n",
            "\n",
            "       건강・의료       0.58      0.26      0.36       310\n",
            "       기타 쿠폰       0.69      0.52      0.59     20307\n",
            "      기프트 카드       0.61      0.56      0.58      7640\n",
            "       네일・아이       0.43      0.32      0.37      2926\n",
            "          레슨       0.74      0.45      0.56      3118\n",
            "          레저       0.73      0.53      0.61      9328\n",
            "          뷰티       0.13      0.07      0.09       208\n",
            "        에스테틱       0.31      0.18      0.23      3413\n",
            "          음식       0.74      0.78      0.76     70141\n",
            "          택배       0.78      0.84      0.81     90891\n",
            "       헤어 살롱       0.52      0.41      0.46      4993\n",
            "       호텔・여관       0.88      0.93      0.90     67517\n",
            "          휴식       0.37      0.22      0.27      5377\n",
            "\n",
            "    accuracy                           0.77    286169\n",
            "   macro avg       0.58      0.47      0.51    286169\n",
            "weighted avg       0.76      0.77      0.76    286169\n",
            "\n"
          ]
        }
      ],
      "source": [
        "from sklearn.metrics import classification_report\n",
        "\n",
        "\n",
        "# 클래스별 분류 보고서 생성\n",
        "report = classification_report(actual, predicted)\n",
        "\n",
        "# 분류 보고서 출력\n",
        "print(report)"
      ]
    },
    {
      "cell_type": "markdown",
      "source": [
        "#12.변수 중요도 파악하기"
      ],
      "metadata": {
        "id": "gRKRJaVKOSsb"
      }
    },
    {
      "cell_type": "code",
      "execution_count": 34,
      "metadata": {
        "id": "zAvNxrcJdAlk"
      },
      "outputs": [],
      "source": [
        "import numpy as np\n",
        "import matplotlib.pyplot as plt\n",
        "importances =model_rf.feature_importances_\n",
        "feature_names = X_tr.columns\n",
        "\n",
        "# 중요도를 내림차순으로 정렬하여 시각화합니다\n",
        "indices = np.argsort(importances)[::-1]\n"
      ]
    },
    {
      "cell_type": "code",
      "execution_count": 35,
      "metadata": {
        "id": "Dvx_PpRqkege",
        "colab": {
          "base_uri": "https://localhost:8080/",
          "height": 607
        },
        "outputId": "83525199-b8b6-404b-c8a4-388ef1774770"
      },
      "outputs": [
        {
          "output_type": "display_data",
          "data": {
            "text/plain": [
              "<Figure size 1000x600 with 1 Axes>"
            ],
            "image/png": "[encoded data removed]"
          },
          "metadata": {}
        }
      ],
      "source": [
        "# 색상 맵 정의\n",
        "colors = plt.cm.viridis(np.linspace(0, 1, len(feature_names)))\n",
        "# 그래프 크기 설정\n",
        "plt.figure(figsize=(10, 6))\n",
        "# 그래프 제목 설정\n",
        "plt.title(\"Feature Importance\", fontsize=16)\n",
        "# 막대 그래프 그리기\n",
        "plt.bar(range(len(feature_names)), importances[indices], color=colors)\n",
        "# x축 눈금과 레이블 설정\n",
        "plt.xticks(range(len(feature_names)), feature_names[indices], rotation=90, fontsize=12)\n",
        "# y축 레이블 설정\n",
        "plt.ylabel(\"Importance\", fontsize=14)\n",
        "# 그래프 내부 여백 조정\n",
        "plt.tight_layout()\n",
        "# 그래프 출력\n",
        "plt.show()"
      ]
    },
    {
      "cell_type": "code",
      "execution_count": 36,
      "metadata": {
        "id": "_qlkHMcaaNJJ",
        "colab": {
          "base_uri": "https://localhost:8080/",
          "height": 607
        },
        "outputId": "68677c9d-d3d9-4e6a-c69a-1d7ca230db31"
      },
      "outputs": [
        {
          "output_type": "display_data",
          "data": {
            "text/plain": [
              "<Figure size 1000x600 with 1 Axes>"
            ],
            "image/png": "[encoded data removed]"
          },
          "metadata": {}
        }
      ],
      "source": [
        "import numpy as np\n",
        "import matplotlib.pyplot as plt\n",
        "\n",
        "# 색상 맵 정의\n",
        "colors = plt.cm.viridis(np.linspace(0, 1, len(feature_names)))\n",
        "\n",
        "# 그래프 크기 설정\n",
        "plt.figure(figsize=(10, 6))\n",
        "\n",
        "# 그래프 제목 설정\n",
        "plt.title(\"Feature Importance\", fontsize=16)\n",
        "\n",
        "# 가로 막대 그래프 그리기\n",
        "plt.barh(range(len(feature_names)), importances[indices], color=colors)\n",
        "\n",
        "# y축 눈금과 레이블 설정\n",
        "plt.yticks(range(len(feature_names)), feature_names[indices], fontsize=12)\n",
        "\n",
        "# x축 레이블 설정\n",
        "plt.xlabel(\"Importance\", fontsize=14)\n",
        "\n",
        "# 그래프 내부 여백 조정\n",
        "plt.tight_layout()\n",
        "\n",
        "# 그래프 출력\n",
        "plt.show()"
      ]
    },
    {
      "cell_type": "markdown",
      "source": [],
      "metadata": {
        "id": "yypREUcimmPy"
      }
    },
    {
      "cell_type": "markdown",
      "metadata": {
        "id": "C83HAVfkyhQB"
      },
      "source": []
    }
  ],
  "metadata": {
    "colab": {
      "provenance": [],
      "authorship_tag": "ABX9TyModqAZMuUylLNWhOFEXs8h",
      "include_colab_link": true
    },
    "kernelspec": {
      "display_name": "Python 3",
      "name": "python3"
    },
    "language_info": {
      "name": "python"
    }
  },
  "nbformat": 4,
  "nbformat_minor": 0
}