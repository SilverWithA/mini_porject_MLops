{
  "cells": [
    {
      "cell_type": "markdown",
      "source": [
        "#  GCP에서 데이터 불러오기"
      ],
      "metadata": {
        "id": "wxAKtTniV-1v"
      }
    },
    {
      "cell_type": "code",
      "execution_count": null,
      "metadata": {
        "id": "w6MmeBUBJ-9E",
        "colab": {
          "base_uri": "https://localhost:8080/",
          "height": 679
        },
        "outputId": "77804be7-c67d-4a9c-8bfb-653ff8831201"
      },
      "outputs": [
        {
          "output_type": "stream",
          "name": "stdout",
          "text": [
            "Warning: total number of rows (2517206) exceeds max_rows (20000). Falling back to pandas display.\n"
          ]
        },
        {
          "output_type": "execute_result",
          "data": {
            "text/plain": [
              "                             USER_ID_hash                  REG_DATE SEX_ID  \\\n",
              "0        c7e54ff7b173bdca9323605baa989809 2011-02-17 16:22:44+00:00      m   \n",
              "1        3a35763978af4042550f9d1dbabe8e0a 2012-05-24 22:02:05+00:00      f   \n",
              "2        efb26b7cc8a2e43584fbf60d38ffd978 2012-03-31 09:08:57+00:00      m   \n",
              "3        4ca9953169c95d5584efdd4247a09c1c 2011-03-11 22:27:28+00:00      f   \n",
              "4        4966ba17c575d570ea248ea0ecc9c65a 2010-11-08 22:45:09+00:00      m   \n",
              "...                                   ...                       ...    ...   \n",
              "2517201  4a4429925036398e286785b508c39051 2012-02-21 20:26:13+00:00      m   \n",
              "2517202  6c318353b8ecb079fcb5e4ea8c603bf8 2011-08-18 17:00:49+00:00      m   \n",
              "2517203  630f6a39ed98014e279641817938a2a4 2011-02-20 01:08:45+00:00      f   \n",
              "2517204  2c6f9aa4d4864ec1368e6fc9508b5735 2011-12-01 20:41:29+00:00      f   \n",
              "2517205  1a78484c734a96f8b5dffc214de163df 2011-04-07 19:26:20+00:00      f   \n",
              "\n",
              "         AGE PREF_NAME Tr_Pref_Name small_area_name Tr_small_area_name  \\\n",
              "0         64       奈良県          나라현              福岡               후쿠오카   \n",
              "1         28      None         None  新宿・高田馬場・中野・吉祥寺  신주코・타카다바바・나카노・요시노   \n",
              "2         35       東京都          도쿄도  新宿・高田馬場・中野・吉祥寺  신주코・타카다바바・나카노・요시노   \n",
              "3         42       兵庫県          효고현       川崎・湘南・箱根他       카와사키・신난・하코네타   \n",
              "4         55       滋賀県          시가현             和歌山               와카야마   \n",
              "...      ...       ...          ...             ...                ...   \n",
              "2517201   46      None         None              愛知                아이치   \n",
              "2517202   50       東京都          도쿄도       恵比寿・目黒・品川       에비스・메구로・시나가와   \n",
              "2517203   45       兵庫県          효고현            ミナミ他               미나미타   \n",
              "2517204   42      None         None              キタ                 키타   \n",
              "2517205   36      神奈川県        칸나가와현       川崎・湘南・箱根他       카와사키・신난・하코네타   \n",
              "\n",
              "        capsule_text Translated_capsule_text  ... usable_date_thu  \\\n",
              "0                その他                      기타  ...               0   \n",
              "1                その他                      기타  ...               0   \n",
              "2                その他                      기타  ...               0   \n",
              "3                その他                      기타  ...               0   \n",
              "4                その他                      기타  ...               0   \n",
              "...              ...                     ...  ...             ...   \n",
              "2517201     リラクゼーション                      휴식  ...               1   \n",
              "2517202     リラクゼーション                      휴식  ...               1   \n",
              "2517203     リラクゼーション                      휴식  ...               1   \n",
              "2517204     リラクゼーション                      휴식  ...               1   \n",
              "2517205     リラクゼーション                      휴식  ...               1   \n",
              "\n",
              "         usable_date_fri usable_date_sat  usable_date_sun usable_date_holiday  \\\n",
              "0                      0               0                0                   0   \n",
              "1                      0               0                0                   0   \n",
              "2                      0               0                0                   0   \n",
              "3                      0               0                0                   0   \n",
              "4                      0               0                0                   0   \n",
              "...                  ...             ...              ...                 ...   \n",
              "2517201                1               1                1                   1   \n",
              "2517202                1               1                1                   1   \n",
              "2517203                1               1                1                   1   \n",
              "2517204                1               1                1                   1   \n",
              "2517205                1               1                1                   1   \n",
              "\n",
              "        usable_date_before_holiday Male  Female  usable_date_sum  view_count  \n",
              "0                                0    1       0                0         627  \n",
              "1                                0    0       1                0         424  \n",
              "2                                0    1       0                0         424  \n",
              "3                                0    0       1                0          86  \n",
              "4                                0    1       0                0         241  \n",
              "...                            ...  ...     ...              ...         ...  \n",
              "2517201                          1    1       0                8          82  \n",
              "2517202                          1    1       0                9          12  \n",
              "2517203                          1    0       1                8          56  \n",
              "2517204                          1    0       1                9         183  \n",
              "2517205                          1    0       1                9         126  \n",
              "\n",
              "[2517206 rows x 30 columns]"
            ],
            "text/html": [
              "\n",
              "  <div id=\"df-6b728869-f4f3-4898-bdd0-64dce5ca1b15\">\n",
              "    <div class=\"colab-df-container\">\n",
              "      <div>\n",
              "<style scoped>\n",
              "    .dataframe tbody tr th:only-of-type {\n",
              "        vertical-align: middle;\n",
              "    }\n",
              "\n",
              "    .dataframe tbody tr th {\n",
              "        vertical-align: top;\n",
              "    }\n",
              "\n",
              "    .dataframe thead th {\n",
              "        text-align: right;\n",
              "    }\n",
              "</style>\n",
              "<table border=\"1\" class=\"dataframe\">\n",
              "  <thead>\n",
              "    <tr style=\"text-align: right;\">\n",
              "      <th></th>\n",
              "      <th>USER_ID_hash</th>\n",
              "      <th>REG_DATE</th>\n",
              "      <th>SEX_ID</th>\n",
              "      <th>AGE</th>\n",
              "      <th>PREF_NAME</th>\n",
              "      <th>Tr_Pref_Name</th>\n",
              "      <th>small_area_name</th>\n",
              "      <th>Tr_small_area_name</th>\n",
              "      <th>capsule_text</th>\n",
              "      <th>Translated_capsule_text</th>\n",
              "      <th>...</th>\n",
              "      <th>usable_date_thu</th>\n",
              "      <th>usable_date_fri</th>\n",
              "      <th>usable_date_sat</th>\n",
              "      <th>usable_date_sun</th>\n",
              "      <th>usable_date_holiday</th>\n",
              "      <th>usable_date_before_holiday</th>\n",
              "      <th>Male</th>\n",
              "      <th>Female</th>\n",
              "      <th>usable_date_sum</th>\n",
              "      <th>view_count</th>\n",
              "    </tr>\n",
              "  </thead>\n",
              "  <tbody>\n",
              "    <tr>\n",
              "      <th>0</th>\n",
              "      <td>c7e54ff7b173bdca9323605baa989809</td>\n",
              "      <td>2011-02-17 16:22:44+00:00</td>\n",
              "      <td>m</td>\n",
              "      <td>64</td>\n",
              "      <td>奈良県</td>\n",
              "      <td>나라현</td>\n",
              "      <td>福岡</td>\n",
              "      <td>후쿠오카</td>\n",
              "      <td>その他</td>\n",
              "      <td>기타</td>\n",
              "      <td>...</td>\n",
              "      <td>0</td>\n",
              "      <td>0</td>\n",
              "      <td>0</td>\n",
              "      <td>0</td>\n",
              "      <td>0</td>\n",
              "      <td>0</td>\n",
              "      <td>1</td>\n",
              "      <td>0</td>\n",
              "      <td>0</td>\n",
              "      <td>627</td>\n",
              "    </tr>\n",
              "    <tr>\n",
              "      <th>1</th>\n",
              "      <td>3a35763978af4042550f9d1dbabe8e0a</td>\n",
              "      <td>2012-05-24 22:02:05+00:00</td>\n",
              "      <td>f</td>\n",
              "      <td>28</td>\n",
              "      <td>None</td>\n",
              "      <td>None</td>\n",
              "      <td>新宿・高田馬場・中野・吉祥寺</td>\n",
              "      <td>신주코・타카다바바・나카노・요시노</td>\n",
              "      <td>その他</td>\n",
              "      <td>기타</td>\n",
              "      <td>...</td>\n",
              "      <td>0</td>\n",
              "      <td>0</td>\n",
              "      <td>0</td>\n",
              "      <td>0</td>\n",
              "      <td>0</td>\n",
              "      <td>0</td>\n",
              "      <td>0</td>\n",
              "      <td>1</td>\n",
              "      <td>0</td>\n",
              "      <td>424</td>\n",
              "    </tr>\n",
              "    <tr>\n",
              "      <th>2</th>\n",
              "      <td>efb26b7cc8a2e43584fbf60d38ffd978</td>\n",
              "      <td>2012-03-31 09:08:57+00:00</td>\n",
              "      <td>m</td>\n",
              "      <td>35</td>\n",
              "      <td>東京都</td>\n",
              "      <td>도쿄도</td>\n",
              "      <td>新宿・高田馬場・中野・吉祥寺</td>\n",
              "      <td>신주코・타카다바바・나카노・요시노</td>\n",
              "      <td>その他</td>\n",
              "      <td>기타</td>\n",
              "      <td>...</td>\n",
              "      <td>0</td>\n",
              "      <td>0</td>\n",
              "      <td>0</td>\n",
              "      <td>0</td>\n",
              "      <td>0</td>\n",
              "      <td>0</td>\n",
              "      <td>1</td>\n",
              "      <td>0</td>\n",
              "      <td>0</td>\n",
              "      <td>424</td>\n",
              "    </tr>\n",
              "    <tr>\n",
              "      <th>3</th>\n",
              "      <td>4ca9953169c95d5584efdd4247a09c1c</td>\n",
              "      <td>2011-03-11 22:27:28+00:00</td>\n",
              "      <td>f</td>\n",
              "      <td>42</td>\n",
              "      <td>兵庫県</td>\n",
              "      <td>효고현</td>\n",
              "      <td>川崎・湘南・箱根他</td>\n",
              "      <td>카와사키・신난・하코네타</td>\n",
              "      <td>その他</td>\n",
              "      <td>기타</td>\n",
              "      <td>...</td>\n",
              "      <td>0</td>\n",
              "      <td>0</td>\n",
              "      <td>0</td>\n",
              "      <td>0</td>\n",
              "      <td>0</td>\n",
              "      <td>0</td>\n",
              "      <td>0</td>\n",
              "      <td>1</td>\n",
              "      <td>0</td>\n",
              "      <td>86</td>\n",
              "    </tr>\n",
              "    <tr>\n",
              "      <th>4</th>\n",
              "      <td>4966ba17c575d570ea248ea0ecc9c65a</td>\n",
              "      <td>2010-11-08 22:45:09+00:00</td>\n",
              "      <td>m</td>\n",
              "      <td>55</td>\n",
              "      <td>滋賀県</td>\n",
              "      <td>시가현</td>\n",
              "      <td>和歌山</td>\n",
              "      <td>와카야마</td>\n",
              "      <td>その他</td>\n",
              "      <td>기타</td>\n",
              "      <td>...</td>\n",
              "      <td>0</td>\n",
              "      <td>0</td>\n",
              "      <td>0</td>\n",
              "      <td>0</td>\n",
              "      <td>0</td>\n",
              "      <td>0</td>\n",
              "      <td>1</td>\n",
              "      <td>0</td>\n",
              "      <td>0</td>\n",
              "      <td>241</td>\n",
              "    </tr>\n",
              "    <tr>\n",
              "      <th>...</th>\n",
              "      <td>...</td>\n",
              "      <td>...</td>\n",
              "      <td>...</td>\n",
              "      <td>...</td>\n",
              "      <td>...</td>\n",
              "      <td>...</td>\n",
              "      <td>...</td>\n",
              "      <td>...</td>\n",
              "      <td>...</td>\n",
              "      <td>...</td>\n",
              "      <td>...</td>\n",
              "      <td>...</td>\n",
              "      <td>...</td>\n",
              "      <td>...</td>\n",
              "      <td>...</td>\n",
              "      <td>...</td>\n",
              "      <td>...</td>\n",
              "      <td>...</td>\n",
              "      <td>...</td>\n",
              "      <td>...</td>\n",
              "      <td>...</td>\n",
              "    </tr>\n",
              "    <tr>\n",
              "      <th>2517201</th>\n",
              "      <td>4a4429925036398e286785b508c39051</td>\n",
              "      <td>2012-02-21 20:26:13+00:00</td>\n",
              "      <td>m</td>\n",
              "      <td>46</td>\n",
              "      <td>None</td>\n",
              "      <td>None</td>\n",
              "      <td>愛知</td>\n",
              "      <td>아이치</td>\n",
              "      <td>リラクゼーション</td>\n",
              "      <td>휴식</td>\n",
              "      <td>...</td>\n",
              "      <td>1</td>\n",
              "      <td>1</td>\n",
              "      <td>1</td>\n",
              "      <td>1</td>\n",
              "      <td>1</td>\n",
              "      <td>1</td>\n",
              "      <td>1</td>\n",
              "      <td>0</td>\n",
              "      <td>8</td>\n",
              "      <td>82</td>\n",
              "    </tr>\n",
              "    <tr>\n",
              "      <th>2517202</th>\n",
              "      <td>6c318353b8ecb079fcb5e4ea8c603bf8</td>\n",
              "      <td>2011-08-18 17:00:49+00:00</td>\n",
              "      <td>m</td>\n",
              "      <td>50</td>\n",
              "      <td>東京都</td>\n",
              "      <td>도쿄도</td>\n",
              "      <td>恵比寿・目黒・品川</td>\n",
              "      <td>에비스・메구로・시나가와</td>\n",
              "      <td>リラクゼーション</td>\n",
              "      <td>휴식</td>\n",
              "      <td>...</td>\n",
              "      <td>1</td>\n",
              "      <td>1</td>\n",
              "      <td>1</td>\n",
              "      <td>1</td>\n",
              "      <td>1</td>\n",
              "      <td>1</td>\n",
              "      <td>1</td>\n",
              "      <td>0</td>\n",
              "      <td>9</td>\n",
              "      <td>12</td>\n",
              "    </tr>\n",
              "    <tr>\n",
              "      <th>2517203</th>\n",
              "      <td>630f6a39ed98014e279641817938a2a4</td>\n",
              "      <td>2011-02-20 01:08:45+00:00</td>\n",
              "      <td>f</td>\n",
              "      <td>45</td>\n",
              "      <td>兵庫県</td>\n",
              "      <td>효고현</td>\n",
              "      <td>ミナミ他</td>\n",
              "      <td>미나미타</td>\n",
              "      <td>リラクゼーション</td>\n",
              "      <td>휴식</td>\n",
              "      <td>...</td>\n",
              "      <td>1</td>\n",
              "      <td>1</td>\n",
              "      <td>1</td>\n",
              "      <td>1</td>\n",
              "      <td>1</td>\n",
              "      <td>1</td>\n",
              "      <td>0</td>\n",
              "      <td>1</td>\n",
              "      <td>8</td>\n",
              "      <td>56</td>\n",
              "    </tr>\n",
              "    <tr>\n",
              "      <th>2517204</th>\n",
              "      <td>2c6f9aa4d4864ec1368e6fc9508b5735</td>\n",
              "      <td>2011-12-01 20:41:29+00:00</td>\n",
              "      <td>f</td>\n",
              "      <td>42</td>\n",
              "      <td>None</td>\n",
              "      <td>None</td>\n",
              "      <td>キタ</td>\n",
              "      <td>키타</td>\n",
              "      <td>リラクゼーション</td>\n",
              "      <td>휴식</td>\n",
              "      <td>...</td>\n",
              "      <td>1</td>\n",
              "      <td>1</td>\n",
              "      <td>1</td>\n",
              "      <td>1</td>\n",
              "      <td>1</td>\n",
              "      <td>1</td>\n",
              "      <td>0</td>\n",
              "      <td>1</td>\n",
              "      <td>9</td>\n",
              "      <td>183</td>\n",
              "    </tr>\n",
              "    <tr>\n",
              "      <th>2517205</th>\n",
              "      <td>1a78484c734a96f8b5dffc214de163df</td>\n",
              "      <td>2011-04-07 19:26:20+00:00</td>\n",
              "      <td>f</td>\n",
              "      <td>36</td>\n",
              "      <td>神奈川県</td>\n",
              "      <td>칸나가와현</td>\n",
              "      <td>川崎・湘南・箱根他</td>\n",
              "      <td>카와사키・신난・하코네타</td>\n",
              "      <td>リラクゼーション</td>\n",
              "      <td>휴식</td>\n",
              "      <td>...</td>\n",
              "      <td>1</td>\n",
              "      <td>1</td>\n",
              "      <td>1</td>\n",
              "      <td>1</td>\n",
              "      <td>1</td>\n",
              "      <td>1</td>\n",
              "      <td>0</td>\n",
              "      <td>1</td>\n",
              "      <td>9</td>\n",
              "      <td>126</td>\n",
              "    </tr>\n",
              "  </tbody>\n",
              "</table>\n",
              "<p>2517206 rows × 30 columns</p>\n",
              "</div>\n",
              "      <button class=\"colab-df-convert\" onclick=\"convertToInteractive('df-6b728869-f4f3-4898-bdd0-64dce5ca1b15')\"\n",
              "              title=\"Convert this dataframe to an interactive table.\"\n",
              "              style=\"display:none;\">\n",
              "        \n",
              "  <svg xmlns=\"http://www.w3.org/2000/svg\" height=\"24px\"viewBox=\"0 0 24 24\"\n",
              "       width=\"24px\">\n",
              "    <path d=\"M0 0h24v24H0V0z\" fill=\"none\"/>\n",
              "    <path d=\"M18.56 5.44l.94 2.06.94-2.06 2.06-.94-2.06-.94-.94-2.06-.94 2.06-2.06.94zm-11 1L8.5 8.5l.94-2.06 2.06-.94-2.06-.94L8.5 2.5l-.94 2.06-2.06.94zm10 10l.94 2.06.94-2.06 2.06-.94-2.06-.94-.94-2.06-.94 2.06-2.06.94z\"/><path d=\"M17.41 7.96l-1.37-1.37c-.4-.4-.92-.59-1.43-.59-.52 0-1.04.2-1.43.59L10.3 9.45l-7.72 7.72c-.78.78-.78 2.05 0 2.83L4 21.41c.39.39.9.59 1.41.59.51 0 1.02-.2 1.41-.59l7.78-7.78 2.81-2.81c.8-.78.8-2.07 0-2.86zM5.41 20L4 18.59l7.72-7.72 1.47 1.35L5.41 20z\"/>\n",
              "  </svg>\n",
              "      </button>\n",
              "      \n",
              "  <style>\n",
              "    .colab-df-container {\n",
              "      display:flex;\n",
              "      flex-wrap:wrap;\n",
              "      gap: 12px;\n",
              "    }\n",
              "\n",
              "    .colab-df-convert {\n",
              "      background-color: #E8F0FE;\n",
              "      border: none;\n",
              "      border-radius: 50%;\n",
              "      cursor: pointer;\n",
              "      display: none;\n",
              "      fill: #1967D2;\n",
              "      height: 32px;\n",
              "      padding: 0 0 0 0;\n",
              "      width: 32px;\n",
              "    }\n",
              "\n",
              "    .colab-df-convert:hover {\n",
              "      background-color: #E2EBFA;\n",
              "      box-shadow: 0px 1px 2px rgba(60, 64, 67, 0.3), 0px 1px 3px 1px rgba(60, 64, 67, 0.15);\n",
              "      fill: #174EA6;\n",
              "    }\n",
              "\n",
              "    [theme=dark] .colab-df-convert {\n",
              "      background-color: #3B4455;\n",
              "      fill: #D2E3FC;\n",
              "    }\n",
              "\n",
              "    [theme=dark] .colab-df-convert:hover {\n",
              "      background-color: #434B5C;\n",
              "      box-shadow: 0px 1px 3px 1px rgba(0, 0, 0, 0.15);\n",
              "      filter: drop-shadow(0px 1px 2px rgba(0, 0, 0, 0.3));\n",
              "      fill: #FFFFFF;\n",
              "    }\n",
              "  </style>\n",
              "\n",
              "      <script>\n",
              "        const buttonEl =\n",
              "          document.querySelector('#df-6b728869-f4f3-4898-bdd0-64dce5ca1b15 button.colab-df-convert');\n",
              "        buttonEl.style.display =\n",
              "          google.colab.kernel.accessAllowed ? 'block' : 'none';\n",
              "\n",
              "        async function convertToInteractive(key) {\n",
              "          const element = document.querySelector('#df-6b728869-f4f3-4898-bdd0-64dce5ca1b15');\n",
              "          const dataTable =\n",
              "            await google.colab.kernel.invokeFunction('convertToInteractive',\n",
              "                                                     [key], {});\n",
              "          if (!dataTable) return;\n",
              "\n",
              "          const docLinkHtml = 'Like what you see? Visit the ' +\n",
              "            '<a target=\"_blank\" href=https://colab.research.google.com/notebooks/data_table.ipynb>data table notebook</a>'\n",
              "            + ' to learn more about interactive tables.';\n",
              "          element.innerHTML = '';\n",
              "          dataTable['output_type'] = 'display_data';\n",
              "          await google.colab.output.renderOutput(dataTable, element);\n",
              "          const docLink = document.createElement('div');\n",
              "          docLink.innerHTML = docLinkHtml;\n",
              "          element.appendChild(docLink);\n",
              "        }\n",
              "      </script>\n",
              "    </div>\n",
              "  </div>\n",
              "  "
            ]
          },
          "metadata": {},
          "execution_count": 1
        }
      ],
      "source": [
        "# @title Setup\n",
        "from google.colab import auth\n",
        "from google.cloud import bigquery\n",
        "from google.colab import data_table\n",
        "\n",
        "project = 'avian-slice-386906' # Project ID inserted based on the query results selected to explore\n",
        "location = 'US' # Location inserted based on the query results selected to explore\n",
        "client = bigquery.Client(project=project, location=location)\n",
        "data_table.enable_dataframe_formatter()\n",
        "auth.authenticate_user()\n",
        "\n",
        "\n",
        "# Running this code will display the query used to generate your previous job\n",
        "\n",
        "job = client.get_job('bquxjob_1de5ab02_188d6553f5b') # Job ID inserted based on the query results selected to explore\n",
        "# print(job.query)\n",
        "\n",
        "\n",
        "# Running this code will read results from your previous job\n",
        "\n",
        "job = client.get_job('bquxjob_1de5ab02_188d6553f5b') # Job ID inserted based on the query results selected to explore\n",
        "results = job.to_dataframe()\n",
        "results"
      ]
    },
    {
      "cell_type": "markdown",
      "source": [
        "# 2. 데이터 확인하기"
      ],
      "metadata": {
        "id": "n9GZEM9OWGIu"
      }
    },
    {
      "cell_type": "markdown",
      "metadata": {
        "id": "84Ub57pbB6EN"
      },
      "source": [
        "## Show descriptive statistics using describe()\n",
        "Use the ```pandas DataFrame.describe()```\n",
        "[method](https://pandas.pydata.org/docs/reference/api/pandas.DataFrame.describe.html)\n",
        "to generate descriptive statistics. Descriptive statistics include those that\n",
        "summarize the central tendency, dispersion and shape of a dataset’s\n",
        "distribution, excluding ```NaN``` values. You may also use other Python methods\n",
        "to interact with your data."
      ]
    },
    {
      "cell_type": "code",
      "execution_count": null,
      "metadata": {
        "id": "fsAsHoWDZMpv",
        "outputId": "91838119-c9ae-4295-eb34-2ae0b16af74f",
        "colab": {
          "base_uri": "https://localhost:8080/",
          "height": 276
        }
      },
      "outputs": [
        {
          "output_type": "execute_result",
          "data": {
            "text/plain": [
              "             AGE  PURCHASE_FLG  dispperiod  usable_date_mon  usable_date_tue  \\\n",
              "count  2517206.0     2517206.0   2517206.0        2517206.0        2517206.0   \n",
              "mean   47.300553      0.048621    3.786802         0.582664          0.58988   \n",
              "std     11.23943      0.215074    3.000429         0.493119         0.491855   \n",
              "min         15.0           0.0         0.0              0.0              0.0   \n",
              "25%         39.0           0.0         3.0              0.0              0.0   \n",
              "50%         48.0           0.0         3.0              1.0              1.0   \n",
              "75%         55.0           0.0         4.0              1.0              1.0   \n",
              "max         80.0           1.0        36.0              1.0              1.0   \n",
              "\n",
              "       usable_date_wed  usable_date_thu  usable_date_fri  usable_date_sat  \\\n",
              "count        2517206.0        2517206.0        2517206.0        2517206.0   \n",
              "mean          0.598368         0.600991         0.581321         0.521834   \n",
              "std           0.490228         0.489695         0.493343         0.499523   \n",
              "min                0.0              0.0              0.0              0.0   \n",
              "25%                0.0              0.0              0.0              0.0   \n",
              "50%                1.0              1.0              1.0              1.0   \n",
              "75%                1.0              1.0              1.0              1.0   \n",
              "max                1.0              1.0              1.0              1.0   \n",
              "\n",
              "       usable_date_sun  usable_date_holiday  usable_date_before_holiday  \\\n",
              "count        2517206.0            2517206.0                   2517206.0   \n",
              "mean          0.534876             0.534876                    0.534876   \n",
              "std           0.498782             0.498782                    0.498782   \n",
              "min                0.0                  0.0                         0.0   \n",
              "25%                0.0                  0.0                         0.0   \n",
              "50%                1.0                  1.0                         1.0   \n",
              "75%                1.0                  1.0                         1.0   \n",
              "max                1.0                  1.0                         1.0   \n",
              "\n",
              "            Male     Female  usable_date_sum   view_count  \n",
              "count  2517206.0  2517206.0        2517206.0    2517206.0  \n",
              "mean     0.45557    0.54443         5.079688   432.860096  \n",
              "std     0.498022   0.498022         4.170009  1176.083429  \n",
              "min          0.0        0.0              0.0          1.0  \n",
              "25%          0.0        0.0              0.0        108.0  \n",
              "50%          0.0        1.0              8.0        216.0  \n",
              "75%          1.0        1.0              9.0        435.0  \n",
              "max          1.0        1.0              9.0      14779.0  "
            ],
            "text/html": [
              "\n",
              "  <div id=\"df-ddd9f4f8-8c54-413c-86b7-75ce9cdf7dc8\">\n",
              "    <div class=\"colab-df-container\">\n",
              "      <div>\n",
              "<style scoped>\n",
              "    .dataframe tbody tr th:only-of-type {\n",
              "        vertical-align: middle;\n",
              "    }\n",
              "\n",
              "    .dataframe tbody tr th {\n",
              "        vertical-align: top;\n",
              "    }\n",
              "\n",
              "    .dataframe thead th {\n",
              "        text-align: right;\n",
              "    }\n",
              "</style>\n",
              "<table border=\"1\" class=\"dataframe\">\n",
              "  <thead>\n",
              "    <tr style=\"text-align: right;\">\n",
              "      <th></th>\n",
              "      <th>AGE</th>\n",
              "      <th>PURCHASE_FLG</th>\n",
              "      <th>dispperiod</th>\n",
              "      <th>usable_date_mon</th>\n",
              "      <th>usable_date_tue</th>\n",
              "      <th>usable_date_wed</th>\n",
              "      <th>usable_date_thu</th>\n",
              "      <th>usable_date_fri</th>\n",
              "      <th>usable_date_sat</th>\n",
              "      <th>usable_date_sun</th>\n",
              "      <th>usable_date_holiday</th>\n",
              "      <th>usable_date_before_holiday</th>\n",
              "      <th>Male</th>\n",
              "      <th>Female</th>\n",
              "      <th>usable_date_sum</th>\n",
              "      <th>view_count</th>\n",
              "    </tr>\n",
              "  </thead>\n",
              "  <tbody>\n",
              "    <tr>\n",
              "      <th>count</th>\n",
              "      <td>2517206.0</td>\n",
              "      <td>2517206.0</td>\n",
              "      <td>2517206.0</td>\n",
              "      <td>2517206.0</td>\n",
              "      <td>2517206.0</td>\n",
              "      <td>2517206.0</td>\n",
              "      <td>2517206.0</td>\n",
              "      <td>2517206.0</td>\n",
              "      <td>2517206.0</td>\n",
              "      <td>2517206.0</td>\n",
              "      <td>2517206.0</td>\n",
              "      <td>2517206.0</td>\n",
              "      <td>2517206.0</td>\n",
              "      <td>2517206.0</td>\n",
              "      <td>2517206.0</td>\n",
              "      <td>2517206.0</td>\n",
              "    </tr>\n",
              "    <tr>\n",
              "      <th>mean</th>\n",
              "      <td>47.300553</td>\n",
              "      <td>0.048621</td>\n",
              "      <td>3.786802</td>\n",
              "      <td>0.582664</td>\n",
              "      <td>0.58988</td>\n",
              "      <td>0.598368</td>\n",
              "      <td>0.600991</td>\n",
              "      <td>0.581321</td>\n",
              "      <td>0.521834</td>\n",
              "      <td>0.534876</td>\n",
              "      <td>0.534876</td>\n",
              "      <td>0.534876</td>\n",
              "      <td>0.45557</td>\n",
              "      <td>0.54443</td>\n",
              "      <td>5.079688</td>\n",
              "      <td>432.860096</td>\n",
              "    </tr>\n",
              "    <tr>\n",
              "      <th>std</th>\n",
              "      <td>11.23943</td>\n",
              "      <td>0.215074</td>\n",
              "      <td>3.000429</td>\n",
              "      <td>0.493119</td>\n",
              "      <td>0.491855</td>\n",
              "      <td>0.490228</td>\n",
              "      <td>0.489695</td>\n",
              "      <td>0.493343</td>\n",
              "      <td>0.499523</td>\n",
              "      <td>0.498782</td>\n",
              "      <td>0.498782</td>\n",
              "      <td>0.498782</td>\n",
              "      <td>0.498022</td>\n",
              "      <td>0.498022</td>\n",
              "      <td>4.170009</td>\n",
              "      <td>1176.083429</td>\n",
              "    </tr>\n",
              "    <tr>\n",
              "      <th>min</th>\n",
              "      <td>15.0</td>\n",
              "      <td>0.0</td>\n",
              "      <td>0.0</td>\n",
              "      <td>0.0</td>\n",
              "      <td>0.0</td>\n",
              "      <td>0.0</td>\n",
              "      <td>0.0</td>\n",
              "      <td>0.0</td>\n",
              "      <td>0.0</td>\n",
              "      <td>0.0</td>\n",
              "      <td>0.0</td>\n",
              "      <td>0.0</td>\n",
              "      <td>0.0</td>\n",
              "      <td>0.0</td>\n",
              "      <td>0.0</td>\n",
              "      <td>1.0</td>\n",
              "    </tr>\n",
              "    <tr>\n",
              "      <th>25%</th>\n",
              "      <td>39.0</td>\n",
              "      <td>0.0</td>\n",
              "      <td>3.0</td>\n",
              "      <td>0.0</td>\n",
              "      <td>0.0</td>\n",
              "      <td>0.0</td>\n",
              "      <td>0.0</td>\n",
              "      <td>0.0</td>\n",
              "      <td>0.0</td>\n",
              "      <td>0.0</td>\n",
              "      <td>0.0</td>\n",
              "      <td>0.0</td>\n",
              "      <td>0.0</td>\n",
              "      <td>0.0</td>\n",
              "      <td>0.0</td>\n",
              "      <td>108.0</td>\n",
              "    </tr>\n",
              "    <tr>\n",
              "      <th>50%</th>\n",
              "      <td>48.0</td>\n",
              "      <td>0.0</td>\n",
              "      <td>3.0</td>\n",
              "      <td>1.0</td>\n",
              "      <td>1.0</td>\n",
              "      <td>1.0</td>\n",
              "      <td>1.0</td>\n",
              "      <td>1.0</td>\n",
              "      <td>1.0</td>\n",
              "      <td>1.0</td>\n",
              "      <td>1.0</td>\n",
              "      <td>1.0</td>\n",
              "      <td>0.0</td>\n",
              "      <td>1.0</td>\n",
              "      <td>8.0</td>\n",
              "      <td>216.0</td>\n",
              "    </tr>\n",
              "    <tr>\n",
              "      <th>75%</th>\n",
              "      <td>55.0</td>\n",
              "      <td>0.0</td>\n",
              "      <td>4.0</td>\n",
              "      <td>1.0</td>\n",
              "      <td>1.0</td>\n",
              "      <td>1.0</td>\n",
              "      <td>1.0</td>\n",
              "      <td>1.0</td>\n",
              "      <td>1.0</td>\n",
              "      <td>1.0</td>\n",
              "      <td>1.0</td>\n",
              "      <td>1.0</td>\n",
              "      <td>1.0</td>\n",
              "      <td>1.0</td>\n",
              "      <td>9.0</td>\n",
              "      <td>435.0</td>\n",
              "    </tr>\n",
              "    <tr>\n",
              "      <th>max</th>\n",
              "      <td>80.0</td>\n",
              "      <td>1.0</td>\n",
              "      <td>36.0</td>\n",
              "      <td>1.0</td>\n",
              "      <td>1.0</td>\n",
              "      <td>1.0</td>\n",
              "      <td>1.0</td>\n",
              "      <td>1.0</td>\n",
              "      <td>1.0</td>\n",
              "      <td>1.0</td>\n",
              "      <td>1.0</td>\n",
              "      <td>1.0</td>\n",
              "      <td>1.0</td>\n",
              "      <td>1.0</td>\n",
              "      <td>9.0</td>\n",
              "      <td>14779.0</td>\n",
              "    </tr>\n",
              "  </tbody>\n",
              "</table>\n",
              "</div>\n",
              "      <button class=\"colab-df-convert\" onclick=\"convertToInteractive('df-ddd9f4f8-8c54-413c-86b7-75ce9cdf7dc8')\"\n",
              "              title=\"Convert this dataframe to an interactive table.\"\n",
              "              style=\"display:none;\">\n",
              "        \n",
              "  <svg xmlns=\"http://www.w3.org/2000/svg\" height=\"24px\"viewBox=\"0 0 24 24\"\n",
              "       width=\"24px\">\n",
              "    <path d=\"M0 0h24v24H0V0z\" fill=\"none\"/>\n",
              "    <path d=\"M18.56 5.44l.94 2.06.94-2.06 2.06-.94-2.06-.94-.94-2.06-.94 2.06-2.06.94zm-11 1L8.5 8.5l.94-2.06 2.06-.94-2.06-.94L8.5 2.5l-.94 2.06-2.06.94zm10 10l.94 2.06.94-2.06 2.06-.94-2.06-.94-.94-2.06-.94 2.06-2.06.94z\"/><path d=\"M17.41 7.96l-1.37-1.37c-.4-.4-.92-.59-1.43-.59-.52 0-1.04.2-1.43.59L10.3 9.45l-7.72 7.72c-.78.78-.78 2.05 0 2.83L4 21.41c.39.39.9.59 1.41.59.51 0 1.02-.2 1.41-.59l7.78-7.78 2.81-2.81c.8-.78.8-2.07 0-2.86zM5.41 20L4 18.59l7.72-7.72 1.47 1.35L5.41 20z\"/>\n",
              "  </svg>\n",
              "      </button>\n",
              "      \n",
              "  <style>\n",
              "    .colab-df-container {\n",
              "      display:flex;\n",
              "      flex-wrap:wrap;\n",
              "      gap: 12px;\n",
              "    }\n",
              "\n",
              "    .colab-df-convert {\n",
              "      background-color: #E8F0FE;\n",
              "      border: none;\n",
              "      border-radius: 50%;\n",
              "      cursor: pointer;\n",
              "      display: none;\n",
              "      fill: #1967D2;\n",
              "      height: 32px;\n",
              "      padding: 0 0 0 0;\n",
              "      width: 32px;\n",
              "    }\n",
              "\n",
              "    .colab-df-convert:hover {\n",
              "      background-color: #E2EBFA;\n",
              "      box-shadow: 0px 1px 2px rgba(60, 64, 67, 0.3), 0px 1px 3px 1px rgba(60, 64, 67, 0.15);\n",
              "      fill: #174EA6;\n",
              "    }\n",
              "\n",
              "    [theme=dark] .colab-df-convert {\n",
              "      background-color: #3B4455;\n",
              "      fill: #D2E3FC;\n",
              "    }\n",
              "\n",
              "    [theme=dark] .colab-df-convert:hover {\n",
              "      background-color: #434B5C;\n",
              "      box-shadow: 0px 1px 3px 1px rgba(0, 0, 0, 0.15);\n",
              "      filter: drop-shadow(0px 1px 2px rgba(0, 0, 0, 0.3));\n",
              "      fill: #FFFFFF;\n",
              "    }\n",
              "  </style>\n",
              "\n",
              "      <script>\n",
              "        const buttonEl =\n",
              "          document.querySelector('#df-ddd9f4f8-8c54-413c-86b7-75ce9cdf7dc8 button.colab-df-convert');\n",
              "        buttonEl.style.display =\n",
              "          google.colab.kernel.accessAllowed ? 'block' : 'none';\n",
              "\n",
              "        async function convertToInteractive(key) {\n",
              "          const element = document.querySelector('#df-ddd9f4f8-8c54-413c-86b7-75ce9cdf7dc8');\n",
              "          const dataTable =\n",
              "            await google.colab.kernel.invokeFunction('convertToInteractive',\n",
              "                                                     [key], {});\n",
              "          if (!dataTable) return;\n",
              "\n",
              "          const docLinkHtml = 'Like what you see? Visit the ' +\n",
              "            '<a target=\"_blank\" href=https://colab.research.google.com/notebooks/data_table.ipynb>data table notebook</a>'\n",
              "            + ' to learn more about interactive tables.';\n",
              "          element.innerHTML = '';\n",
              "          dataTable['output_type'] = 'display_data';\n",
              "          await google.colab.output.renderOutput(dataTable, element);\n",
              "          const docLink = document.createElement('div');\n",
              "          docLink.innerHTML = docLinkHtml;\n",
              "          element.appendChild(docLink);\n",
              "        }\n",
              "      </script>\n",
              "    </div>\n",
              "  </div>\n",
              "  "
            ],
            "application/vnd.google.colaboratory.module+javascript": "\n      import \"https://ssl.gstatic.com/colaboratory/data_table/881c4a0d49046431/data_table.js\";\n\n      const table = window.createDataTable({\n        data: [[\"count\",\n{\n            'v': 2517206.0,\n            'f': \"2517206.0\",\n        },\n{\n            'v': 2517206.0,\n            'f': \"2517206.0\",\n        },\n{\n            'v': 2517206.0,\n            'f': \"2517206.0\",\n        },\n{\n            'v': 2517206.0,\n            'f': \"2517206.0\",\n        },\n{\n            'v': 2517206.0,\n            'f': \"2517206.0\",\n        },\n{\n            'v': 2517206.0,\n            'f': \"2517206.0\",\n        },\n{\n            'v': 2517206.0,\n            'f': \"2517206.0\",\n        },\n{\n            'v': 2517206.0,\n            'f': \"2517206.0\",\n        },\n{\n            'v': 2517206.0,\n            'f': \"2517206.0\",\n        },\n{\n            'v': 2517206.0,\n            'f': \"2517206.0\",\n        },\n{\n            'v': 2517206.0,\n            'f': \"2517206.0\",\n        },\n{\n            'v': 2517206.0,\n            'f': \"2517206.0\",\n        },\n{\n            'v': 2517206.0,\n            'f': \"2517206.0\",\n        },\n{\n            'v': 2517206.0,\n            'f': \"2517206.0\",\n        },\n{\n            'v': 2517206.0,\n            'f': \"2517206.0\",\n        },\n{\n            'v': 2517206.0,\n            'f': \"2517206.0\",\n        }],\n [\"mean\",\n{\n            'v': 47.30055307352676,\n            'f': \"47.30055307352676\",\n        },\n{\n            'v': 0.04862097102899008,\n            'f': \"0.04862097102899008\",\n        },\n{\n            'v': 3.786802113136549,\n            'f': \"3.786802113136549\",\n        },\n{\n            'v': 0.5826642714183901,\n            'f': \"0.5826642714183901\",\n        },\n{\n            'v': 0.5898802084533408,\n            'f': \"0.5898802084533408\",\n        },\n{\n            'v': 0.5983681907638866,\n            'f': \"0.5983681907638866\",\n        },\n{\n            'v': 0.6009909399548548,\n            'f': \"0.6009909399548548\",\n        },\n{\n            'v': 0.581321115554309,\n            'f': \"0.581321115554309\",\n        },\n{\n            'v': 0.5218337315261444,\n            'f': \"0.5218337315261444\",\n        },\n{\n            'v': 0.5348763668924991,\n            'f': \"0.5348763668924991\",\n        },\n{\n            'v': 0.5348763668924991,\n            'f': \"0.5348763668924991\",\n        },\n{\n            'v': 0.5348763668924991,\n            'f': \"0.5348763668924991\",\n        },\n{\n            'v': 0.45556978650138286,\n            'f': \"0.45556978650138286\",\n        },\n{\n            'v': 0.5444302134986171,\n            'f': \"0.5444302134986171\",\n        },\n{\n            'v': 5.0796875583484224,\n            'f': \"5.0796875583484224\",\n        },\n{\n            'v': 432.8600956775091,\n            'f': \"432.8600956775091\",\n        }],\n [\"std\",\n{\n            'v': 11.239429515801456,\n            'f': \"11.239429515801456\",\n        },\n{\n            'v': 0.2150743838338522,\n            'f': \"0.2150743838338522\",\n        },\n{\n            'v': 3.0004287903730473,\n            'f': \"3.0004287903730473\",\n        },\n{\n            'v': 0.49311937178810994,\n            'f': \"0.49311937178810994\",\n        },\n{\n            'v': 0.4918553082315912,\n            'f': \"0.4918553082315912\",\n        },\n{\n            'v': 0.49022830856477273,\n            'f': \"0.49022830856477273\",\n        },\n{\n            'v': 0.4896947266529989,\n            'f': \"0.4896947266529989\",\n        },\n{\n            'v': 0.49334265257966214,\n            'f': \"0.49334265257966214\",\n        },\n{\n            'v': 0.499523159918303,\n            'f': \"0.499523159918303\",\n        },\n{\n            'v': 0.4987822549626886,\n            'f': \"0.4987822549626886\",\n        },\n{\n            'v': 0.4987822549626886,\n            'f': \"0.4987822549626886\",\n        },\n{\n            'v': 0.4987822549626886,\n            'f': \"0.4987822549626886\",\n        },\n{\n            'v': 0.49802214274141515,\n            'f': \"0.49802214274141515\",\n        },\n{\n            'v': 0.49802214274141515,\n            'f': \"0.49802214274141515\",\n        },\n{\n            'v': 4.1700086430596075,\n            'f': \"4.1700086430596075\",\n        },\n{\n            'v': 1176.0834291098085,\n            'f': \"1176.0834291098085\",\n        }],\n [\"min\",\n{\n            'v': 15.0,\n            'f': \"15.0\",\n        },\n{\n            'v': 0.0,\n            'f': \"0.0\",\n        },\n{\n            'v': 0.0,\n            'f': \"0.0\",\n        },\n{\n            'v': 0.0,\n            'f': \"0.0\",\n        },\n{\n            'v': 0.0,\n            'f': \"0.0\",\n        },\n{\n            'v': 0.0,\n            'f': \"0.0\",\n        },\n{\n            'v': 0.0,\n            'f': \"0.0\",\n        },\n{\n            'v': 0.0,\n            'f': \"0.0\",\n        },\n{\n            'v': 0.0,\n            'f': \"0.0\",\n        },\n{\n            'v': 0.0,\n            'f': \"0.0\",\n        },\n{\n            'v': 0.0,\n            'f': \"0.0\",\n        },\n{\n            'v': 0.0,\n            'f': \"0.0\",\n        },\n{\n            'v': 0.0,\n            'f': \"0.0\",\n        },\n{\n            'v': 0.0,\n            'f': \"0.0\",\n        },\n{\n            'v': 0.0,\n            'f': \"0.0\",\n        },\n{\n            'v': 1.0,\n            'f': \"1.0\",\n        }],\n [\"25%\",\n{\n            'v': 39.0,\n            'f': \"39.0\",\n        },\n{\n            'v': 0.0,\n            'f': \"0.0\",\n        },\n{\n            'v': 3.0,\n            'f': \"3.0\",\n        },\n{\n            'v': 0.0,\n            'f': \"0.0\",\n        },\n{\n            'v': 0.0,\n            'f': \"0.0\",\n        },\n{\n            'v': 0.0,\n            'f': \"0.0\",\n        },\n{\n            'v': 0.0,\n            'f': \"0.0\",\n        },\n{\n            'v': 0.0,\n            'f': \"0.0\",\n        },\n{\n            'v': 0.0,\n            'f': \"0.0\",\n        },\n{\n            'v': 0.0,\n            'f': \"0.0\",\n        },\n{\n            'v': 0.0,\n            'f': \"0.0\",\n        },\n{\n            'v': 0.0,\n            'f': \"0.0\",\n        },\n{\n            'v': 0.0,\n            'f': \"0.0\",\n        },\n{\n            'v': 0.0,\n            'f': \"0.0\",\n        },\n{\n            'v': 0.0,\n            'f': \"0.0\",\n        },\n{\n            'v': 108.0,\n            'f': \"108.0\",\n        }],\n [\"50%\",\n{\n            'v': 48.0,\n            'f': \"48.0\",\n        },\n{\n            'v': 0.0,\n            'f': \"0.0\",\n        },\n{\n            'v': 3.0,\n            'f': \"3.0\",\n        },\n{\n            'v': 1.0,\n            'f': \"1.0\",\n        },\n{\n            'v': 1.0,\n            'f': \"1.0\",\n        },\n{\n            'v': 1.0,\n            'f': \"1.0\",\n        },\n{\n            'v': 1.0,\n            'f': \"1.0\",\n        },\n{\n            'v': 1.0,\n            'f': \"1.0\",\n        },\n{\n            'v': 1.0,\n            'f': \"1.0\",\n        },\n{\n            'v': 1.0,\n            'f': \"1.0\",\n        },\n{\n            'v': 1.0,\n            'f': \"1.0\",\n        },\n{\n            'v': 1.0,\n            'f': \"1.0\",\n        },\n{\n            'v': 0.0,\n            'f': \"0.0\",\n        },\n{\n            'v': 1.0,\n            'f': \"1.0\",\n        },\n{\n            'v': 8.0,\n            'f': \"8.0\",\n        },\n{\n            'v': 216.0,\n            'f': \"216.0\",\n        }],\n [\"75%\",\n{\n            'v': 55.0,\n            'f': \"55.0\",\n        },\n{\n            'v': 0.0,\n            'f': \"0.0\",\n        },\n{\n            'v': 4.0,\n            'f': \"4.0\",\n        },\n{\n            'v': 1.0,\n            'f': \"1.0\",\n        },\n{\n            'v': 1.0,\n            'f': \"1.0\",\n        },\n{\n            'v': 1.0,\n            'f': \"1.0\",\n        },\n{\n            'v': 1.0,\n            'f': \"1.0\",\n        },\n{\n            'v': 1.0,\n            'f': \"1.0\",\n        },\n{\n            'v': 1.0,\n            'f': \"1.0\",\n        },\n{\n            'v': 1.0,\n            'f': \"1.0\",\n        },\n{\n            'v': 1.0,\n            'f': \"1.0\",\n        },\n{\n            'v': 1.0,\n            'f': \"1.0\",\n        },\n{\n            'v': 1.0,\n            'f': \"1.0\",\n        },\n{\n            'v': 1.0,\n            'f': \"1.0\",\n        },\n{\n            'v': 9.0,\n            'f': \"9.0\",\n        },\n{\n            'v': 435.0,\n            'f': \"435.0\",\n        }],\n [\"max\",\n{\n            'v': 80.0,\n            'f': \"80.0\",\n        },\n{\n            'v': 1.0,\n            'f': \"1.0\",\n        },\n{\n            'v': 36.0,\n            'f': \"36.0\",\n        },\n{\n            'v': 1.0,\n            'f': \"1.0\",\n        },\n{\n            'v': 1.0,\n            'f': \"1.0\",\n        },\n{\n            'v': 1.0,\n            'f': \"1.0\",\n        },\n{\n            'v': 1.0,\n            'f': \"1.0\",\n        },\n{\n            'v': 1.0,\n            'f': \"1.0\",\n        },\n{\n            'v': 1.0,\n            'f': \"1.0\",\n        },\n{\n            'v': 1.0,\n            'f': \"1.0\",\n        },\n{\n            'v': 1.0,\n            'f': \"1.0\",\n        },\n{\n            'v': 1.0,\n            'f': \"1.0\",\n        },\n{\n            'v': 1.0,\n            'f': \"1.0\",\n        },\n{\n            'v': 1.0,\n            'f': \"1.0\",\n        },\n{\n            'v': 9.0,\n            'f': \"9.0\",\n        },\n{\n            'v': 14779.0,\n            'f': \"14779.0\",\n        }]],\n        columns: [[\"string\", \"index\"], [\"number\", \"AGE\"], [\"number\", \"PURCHASE_FLG\"], [\"number\", \"dispperiod\"], [\"number\", \"usable_date_mon\"], [\"number\", \"usable_date_tue\"], [\"number\", \"usable_date_wed\"], [\"number\", \"usable_date_thu\"], [\"number\", \"usable_date_fri\"], [\"number\", \"usable_date_sat\"], [\"number\", \"usable_date_sun\"], [\"number\", \"usable_date_holiday\"], [\"number\", \"usable_date_before_holiday\"], [\"number\", \"Male\"], [\"number\", \"Female\"], [\"number\", \"usable_date_sum\"], [\"number\", \"view_count\"]],\n        columnOptions: [{\"width\": \"1px\", \"className\": \"index_column\"}],\n        rowsPerPage: 25,\n        helpUrl: \"https://colab.research.google.com/notebooks/data_table.ipynb\",\n        suppressOutputScrolling: true,\n        minimumWidth: undefined,\n      });\n      \n      function appendQuickchartButton(parentElement) {\n        let quickchartButtonContainerElement = document.createElement('div');\n        quickchartButtonContainerElement.innerHTML = `\n    <div id=\"df-d1592771-0891-4340-b1a1-2519968f96ca\">\n      <button class=\"colab-df-quickchart\" onclick=\"quickchart('df-d1592771-0891-4340-b1a1-2519968f96ca')\"\n              title=\"Generate charts.\"\n              style=\"display:none;\">\n\n<svg xmlns=\"http://www.w3.org/2000/svg\" height=\"24px\"viewBox=\"0 0 24 24\"\n     width=\"24px\">\n    <g>\n        <path d=\"M19 3H5c-1.1 0-2 .9-2 2v14c0 1.1.9 2 2 2h14c1.1 0 2-.9 2-2V5c0-1.1-.9-2-2-2zM9 17H7v-7h2v7zm4 0h-2V7h2v10zm4 0h-2v-4h2v4z\"/>\n    </g>\n</svg>\n      </button>\n    </div>\n\n<style>\n  .colab-df-quickchart {\n    background-color: #E8F0FE;\n    border: none;\n    border-radius: 50%;\n    cursor: pointer;\n    display: none;\n    fill: #1967D2;\n    height: 32px;\n    padding: 0 0 0 0;\n    width: 32px;\n  }\n\n  .colab-df-quickchart:hover {\n    background-color: #E2EBFA;\n    box-shadow: 0px 1px 2px rgba(60, 64, 67, 0.3), 0px 1px 3px 1px rgba(60, 64, 67, 0.15);\n    fill: #174EA6;\n  }\n\n  [theme=dark] .colab-df-quickchart {\n    background-color: #3B4455;\n    fill: #D2E3FC;\n  }\n\n  [theme=dark] .colab-df-quickchart:hover {\n    background-color: #434B5C;\n    box-shadow: 0px 1px 3px 1px rgba(0, 0, 0, 0.15);\n    filter: drop-shadow(0px 1px 2px rgba(0, 0, 0, 0.3));\n    fill: #FFFFFF;\n  }\n</style>\n\n    <script>\n      async function quickchart(key) {\n        const containerElement = document.querySelector('#' + key);\n        const charts = await google.colab.kernel.invokeFunction(\n            'generateCharts', [key], {});\n      }\n    </script>\n`;\n        parentElement.appendChild(quickchartButtonContainerElement);\n        \nfunction displayQuickchartButton(domScope) {\n  let quickchartButtonEl =\n    domScope.querySelector('#df-d1592771-0891-4340-b1a1-2519968f96ca button.colab-df-quickchart');\n  quickchartButtonEl.style.display =\n    google.colab.kernel.accessAllowed ? 'block' : 'none';\n}\n\n        displayQuickchartButton(parentElement);\n      }\n    "
          },
          "metadata": {},
          "execution_count": 5
        }
      ],
      "source": [
        "results.describe()"
      ]
    },
    {
      "cell_type": "code",
      "source": [
        "from tensorflow import keras\n",
        "import tensorflow as tf\n",
        "import pandas as pd\n",
        "import numpy as np\n",
        "import matplotlib.pyplot as plt\n",
        "import seaborn as sns"
      ],
      "metadata": {
        "id": "KElaVPmUV9Bm"
      },
      "execution_count": null,
      "outputs": []
    },
    {
      "cell_type": "code",
      "source": [
        "df = results\n",
        "df = df.dropna()\n",
        "df.columns"
      ],
      "metadata": {
        "id": "teeo7GBOWgTM",
        "outputId": "de9c672e-f7ed-4001-dead-7b8aa2900189",
        "colab": {
          "base_uri": "https://localhost:8080/"
        }
      },
      "execution_count": null,
      "outputs": [
        {
          "output_type": "execute_result",
          "data": {
            "text/plain": [
              "Index(['USER_ID_hash', 'REG_DATE', 'SEX_ID', 'AGE', 'PREF_NAME',\n",
              "       'Tr_Pref_Name', 'small_area_name', 'Tr_small_area_name', 'capsule_text',\n",
              "       'Translated_capsule_text', 'Translated_genre_name', 'PURCHASE_FLG',\n",
              "       'VIEW_COUPON_ID_hash', 'dispperiod', 'dispfrom', 'dispend',\n",
              "       'coupon_id_hash', 'usable_date_mon', 'usable_date_tue',\n",
              "       'usable_date_wed', 'usable_date_thu', 'usable_date_fri',\n",
              "       'usable_date_sat', 'usable_date_sun', 'usable_date_holiday',\n",
              "       'usable_date_before_holiday', 'Male', 'Female', 'usable_date_sum',\n",
              "       'view_count'],\n",
              "      dtype='object')"
            ]
          },
          "metadata": {},
          "execution_count": 3
        }
      ]
    },
    {
      "cell_type": "code",
      "source": [
        "len(df['AGE'])"
      ],
      "metadata": {
        "colab": {
          "base_uri": "https://localhost:8080/"
        },
        "id": "Qw6p59ZuVgy8",
        "outputId": "a104207c-426a-4258-d191-505b475c9f9e"
      },
      "execution_count": null,
      "outputs": [
        {
          "output_type": "execute_result",
          "data": {
            "text/plain": [
              "2033884"
            ]
          },
          "metadata": {},
          "execution_count": 4
        }
      ]
    },
    {
      "cell_type": "markdown",
      "source": [
        "## 1-1. 명목형 데이터 확인"
      ],
      "metadata": {
        "id": "THvI61rYWKIX"
      }
    },
    {
      "cell_type": "code",
      "source": [
        "cat_col_names = ['USER_ID_hash', 'PREF_NAME','Tr_Pref_Name','VIEW_COUPON_ID_hash',\n",
        "                 'small_area_name','Tr_small_area_name','capsule_text','Translated_capsule_text',\n",
        "                 'Translated_genre_name','usable_date_sum']\n",
        "\n",
        "def view_cate_unique(cat_col_names):\n",
        "  for col_name in cat_col_names:\n",
        "    cat_values = np.unique(df[col_name])\n",
        "    print(f\"{col_name}: {cat_values}\\n\")\n",
        "\n",
        "view_cate_unique(cat_col_names)"
      ],
      "metadata": {
        "id": "mKehw2qEV5i0",
        "colab": {
          "base_uri": "https://localhost:8080/"
        },
        "outputId": "967d45bf-c3bf-47f8-f582-4c6a51dd9eb8"
      },
      "execution_count": null,
      "outputs": [
        {
          "output_type": "stream",
          "name": "stdout",
          "text": [
            "USER_ID_hash: ['00035b86e6884589ec8d28fbf2fe7757' '000cc06982785a19e2a2fdb40b1c9d59'\n",
            " '0013518e41c416cd6a181d277dd8ca0b' ... 'fff970d2014c3e10a77e38d540239017'\n",
            " 'fffafc024e264d5d539813444cf61199' 'ffff56dbf3c782c3532f88c6c79817ba']\n",
            "\n",
            "PREF_NAME: ['三重県' '京都府' '佐賀県' '兵庫県' '北海道' '千葉県' '和歌山県' '埼玉県' '大分県' '大阪府' '奈良県' '宮城県'\n",
            " '宮崎県' '富山県' '山口県' '山形県' '山梨県' '岐阜県' '岡山県' '岩手県' '島根県' '広島県' '徳島県' '愛媛県'\n",
            " '愛知県' '新潟県' '東京都' '栃木県' '沖縄県' '滋賀県' '熊本県' '石川県' '神奈川県' '福井県' '福岡県' '福島県'\n",
            " '秋田県' '群馬県' '茨城県' '長崎県' '長野県' '青森県' '静岡県' '香川県' '高知県' '鳥取県' '鹿児島県']\n",
            "\n",
            "Tr_Pref_Name: ['경토부' '고치현' '기후현' '꾸마현' '나가노현' '나가사키현' '나라현' '니가타현' '도야마현' '도치기현' '도쿄도'\n",
            " '도토리현' '미야기현' '미야자키현' '미에현' '사가현' '사이타마현' '시가현' '시마네현' '시즈오카현' '아오모리현'\n",
            " '아이치현' '아키타현' '야마가타현' '야마구치현' '야마나시현' '에히메현' '오사카부' '오이타현' '오카야마현'\n",
            " '오키나와현' '와카야마현' '이바라키현' '이시카와현' '이와테현' '치바현' '카가와현' '카고시마현' '칸나가와현'\n",
            " '쿠마모토현' '토쿠시마현' '홋카이도' '효고현' '후쿠시마현' '후쿠오카현' '후쿠이현' '히로시마현']\n",
            "\n",
            "VIEW_COUPON_ID_hash: ['000eba9b783cec10658308b5836349f6' '000fb2d3790cd8860e337290db189abe'\n",
            " '000fe109aea0546a32ffbe54091297e1' ... 'fff37291f190b3b7a97336052d2b69a3'\n",
            " 'fff58e3960585ba89a4e649f5c7cc11e' 'fffa212f26e62e489ec16dbe55a88c57']\n",
            "\n",
            "small_area_name: ['キタ' 'ミナミ他' '三重' '京都' '佐賀' '兵庫' '北海道' '千葉' '和歌山' '埼玉' '大分' '奈良' '宮城' '宮崎'\n",
            " '富山' '山口' '山形' '山梨' '岐阜' '岡山' '岩手' '島根' '川崎・湘南・箱根他' '広島' '徳島' '恵比寿・目黒・品川'\n",
            " '愛媛' '愛知' '新宿・高田馬場・中野・吉祥寺' '新潟' '栃木' '横浜' '池袋・神楽坂・赤羽' '沖縄' '渋谷・青山・自由が丘'\n",
            " '滋賀' '熊本' '石川' '福井' '福岡' '福島' '秋田' '立川・町田・八王子他' '群馬' '茨城' '赤坂・六本木・麻布'\n",
            " '銀座・新橋・東京・上野' '長崎' '長野' '青森' '静岡' '香川' '高知' '鳥取' '鹿児島']\n",
            "\n",
            "Tr_small_area_name: ['경토' '고치' '기후' '긴자・신바시・도쿄・우에노' '꾸마' '나가노' '나가사키' '나라' '니가타' '도야마' '도치기'\n",
            " '도토리' '미나미타' '미야기' '미야자키' '미에' '사가' '사이타마' '시가' '시마네' '시부야・아오야마・지유가오카'\n",
            " '시즈오카' '신주코・타카다바바・나카노・요시노' '아오모리' '아이치' '아카사카・로폰기・아자부' '아키타' '야마가타'\n",
            " '야마구치' '야마나시' '에비스・메구로・시나가와' '에히메' '오이타' '오카야마' '오키나와' '와카야마' '요코하마'\n",
            " '이바라키' '이시카와' '이와테' '이케부쿠로・카구라작・아카바네' '치바' '카가와' '카고시마' '카와사키・신난・하코네타'\n",
            " '쿠마모토' '키타' '타치카와・마치다・하치오지타' '토쿠시마' '홋카이도' '효고' '후쿠시마' '후쿠오카' '후쿠이'\n",
            " '히로시마']\n",
            "\n",
            "capsule_text: ['WEBサービス' 'その他' 'イベント' 'エステ' 'ギフトカード' 'グルメ' 'ゲストハウス' 'ネイル・アイ' 'ビューティ'\n",
            " 'ビューティー' 'ヘアサロン' 'ペンション' 'ホテル' 'リラクゼーション' 'レジャー' 'レッスン' 'ロッジ' '健康・医療'\n",
            " '公共の宿' '宅配' '旅館' '民宿' '貸別荘' '通信講座' '通学レッスン']\n",
            "\n",
            "Translated_capsule_text: ['건강・의료' '게스트 하우스' '공공의 숙박' '기타' '기프트 카드' '네일・아이' '레슨' '레저' '민박' '뷰티' '숙박'\n",
            " '에스테틱' '여관' '웹 서비스' '음식' '이벤트' '택배' '통신 강의' '통학 레슨' '펜션' '헤어 살롱' '호텔'\n",
            " '휴식' '휴양림']\n",
            "\n",
            "Translated_genre_name: ['건강・의료' '기타 쿠폰' '기프트 카드' '네일・아이' '레슨' '레저' '뷰티' '에스테틱' '음식' '택배' '헤어 살롱'\n",
            " '호텔・여관' '휴식']\n",
            "\n",
            "usable_date_sum: [0 1 2 3 4 5 6 7 8 9]\n",
            "\n"
          ]
        }
      ]
    },
    {
      "cell_type": "code",
      "source": [
        "print(f\"USER_ID_hash의 든 고유 class의 개수 {len(np.unique(df['USER_ID_hash']))}\")\n",
        "print(f\"VIEW_COUPON_ID_hash의 든 고유 class의 개수 {len(np.unique(df['VIEW_COUPON_ID_hash']))}\")"
      ],
      "metadata": {
        "colab": {
          "base_uri": "https://localhost:8080/"
        },
        "id": "-5k2aMR1o2eE",
        "outputId": "c20ec137-fadc-40ac-93a5-5558f8a9db72"
      },
      "execution_count": null,
      "outputs": [
        {
          "output_type": "stream",
          "name": "stdout",
          "text": [
            "USER_ID_hash의 든 고유 class의 개수 15527\n",
            "VIEW_COUPON_ID_hash의 든 고유 class의 개수 19404\n"
          ]
        }
      ]
    },
    {
      "cell_type": "code",
      "source": [
        "df['USER_ID_hash의'].value_counts()"
      ],
      "metadata": {
        "colab": {
          "base_uri": "https://localhost:8080/"
        },
        "id": "AL55AJLHr2md",
        "outputId": "174688a1-f67b-42f1-86a5-5eb7332af9f2"
      },
      "execution_count": null,
      "outputs": [
        {
          "output_type": "execute_result",
          "data": {
            "text/plain": [
              "a262c7ff56a5cd3de3c5c40443f3018c    11206\n",
              "d0e1b63cb7cc32edc3a6c619e4215368     2835\n",
              "39c215bfdebc9c2e945d4f63cb25a58d     2456\n",
              "3d9029d3ec66802b11ee2645dc16e8cb     2344\n",
              "909303b9db946c7a744083d054ad08ed     2138\n",
              "                                    ...  \n",
              "afd590ce12664dc3d20b7d5a3b76f498        1\n",
              "3d9cc5232806e95d051bdc49316d300a        1\n",
              "392d72c817a1b4b633d939d9f20bca51        1\n",
              "ed3f9fa508a99d4bc626f44a60ec0083        1\n",
              "332adf06e68630e6be7072d34cf386f4        1\n",
              "Name: VIEW_COUPON_ID_hash, Length: 19404, dtype: int64"
            ]
          },
          "metadata": {},
          "execution_count": 63
        }
      ]
    },
    {
      "cell_type": "code",
      "source": [
        "df['USER_ID_hash의'].value_counts().plot()"
      ],
      "metadata": {
        "colab": {
          "base_uri": "https://localhost:8080/",
          "height": 448
        },
        "id": "TEuvpvOpo_K8",
        "outputId": "56f2c3a5-db31-4d2f-c3ad-e5f3e15fbb20"
      },
      "execution_count": null,
      "outputs": [
        {
          "output_type": "execute_result",
          "data": {
            "text/plain": [
              "<Axes: >"
            ]
          },
          "metadata": {},
          "execution_count": 62
        },
        {
          "output_type": "display_data",
          "data": {
            "text/plain": [
              "<Figure size 640x480 with 1 Axes>"
            ],
            "image/png": "[encoded data removed]"
          },
          "metadata": {}
        }
      ]
    },
    {
      "cell_type": "code",
      "source": [
        "df['VIEW_COUPON_ID_hash'].value_counts()"
      ],
      "metadata": {
        "colab": {
          "base_uri": "https://localhost:8080/"
        },
        "id": "D0BjSXl6r6ZN",
        "outputId": "5354df2c-987c-4a59-adfc-a79e8ebc71da"
      },
      "execution_count": null,
      "outputs": [
        {
          "output_type": "execute_result",
          "data": {
            "text/plain": [
              "a262c7ff56a5cd3de3c5c40443f3018c    11206\n",
              "d0e1b63cb7cc32edc3a6c619e4215368     2835\n",
              "39c215bfdebc9c2e945d4f63cb25a58d     2456\n",
              "3d9029d3ec66802b11ee2645dc16e8cb     2344\n",
              "909303b9db946c7a744083d054ad08ed     2138\n",
              "                                    ...  \n",
              "afd590ce12664dc3d20b7d5a3b76f498        1\n",
              "3d9cc5232806e95d051bdc49316d300a        1\n",
              "392d72c817a1b4b633d939d9f20bca51        1\n",
              "ed3f9fa508a99d4bc626f44a60ec0083        1\n",
              "332adf06e68630e6be7072d34cf386f4        1\n",
              "Name: VIEW_COUPON_ID_hash, Length: 19404, dtype: int64"
            ]
          },
          "metadata": {},
          "execution_count": 65
        }
      ]
    },
    {
      "cell_type": "code",
      "source": [
        "df['VIEW_COUPON_ID_hash'].value_counts().plot()"
      ],
      "metadata": {
        "colab": {
          "base_uri": "https://localhost:8080/",
          "height": 448
        },
        "id": "fTzDbdzxr_65",
        "outputId": "d0cace71-1a74-43e4-b4f7-818a3d45c079"
      },
      "execution_count": null,
      "outputs": [
        {
          "output_type": "execute_result",
          "data": {
            "text/plain": [
              "<Axes: >"
            ]
          },
          "metadata": {},
          "execution_count": 66
        },
        {
          "output_type": "display_data",
          "data": {
            "text/plain": [
              "<Figure size 640x480 with 1 Axes>"
            ],
            "image/png": "[encoded data removed]"
          },
          "metadata": {}
        }
      ]
    },
    {
      "cell_type": "markdown",
      "source": [
        "# 3. 데이터 전처리\n",
        "\n",
        "* 3-1. 명목형 변수 - Label Encoder 후 to_categorical()\n",
        "* 3-2. 이진분류 및 정수형태의 명목형 변수 - to_categorical()\n",
        "* 3-3. 연속형 변수 - 정규화/StandardScaler()\n",
        "\n",
        "-------------------------------------------\n",
        "## 3-1. 명목형 변수 - Label Encoder\n",
        "\n",
        " Embedding Layer 사용시 모델의 층이 많아지는 문제(모델 파라미터 약 16만) - 과대적합 발생 원인으르 분석하여 embedding layer을 사용하지 않고 원핫 인코딩 방식 사용: to_categorical() 사용"
      ],
      "metadata": {
        "id": "6Lhx8JAyXDq0"
      }
    },
    {
      "cell_type": "markdown",
      "source": [],
      "metadata": {
        "id": "F87_QdXRMMHw"
      }
    },
    {
      "cell_type": "code",
      "source": [
        "from sklearn.preprocessing import LabelEncoder\n",
        "from keras.utils import to_categorical\n",
        "\n",
        "\n",
        "category_xs = []\n",
        "category_encoders = []\n",
        "\n",
        "def cate_one_hot(cat_col_names):\n",
        "  \"\"\" 명목형 변수 cat_col_names를 정수형으로 변환하고 원핫인코딩하는 작업 \"\"\"\n",
        "\n",
        "  for col_name in cat_col_names:\n",
        "\n",
        "    encoder = LabelEncoder()\n",
        "    encoded_xs = encoder.fit_transform(df[col_name])\n",
        "    encoded_xs = to_categorical(encoded_xs)\n",
        "\n",
        "    category_xs.append(encoded_xs)\n",
        "    category_encoders.append(encoder)\n",
        "\n",
        "\n",
        "def bin_one_hot(bin_cate_cols):\n",
        "  for bin_cate_col in bin_cate_cols:\n",
        "\n",
        "    trans_1D_array = df[bin_cate_col].array\n",
        "    trans_1D_array = to_categorical(trans_1D_array)\n",
        "    category_xs.append(trans_1D_array)"
      ],
      "metadata": {
        "id": "DcELQEwYIUPs"
      },
      "execution_count": null,
      "outputs": []
    },
    {
      "cell_type": "code",
      "source": [
        "# 'USER_ID_hash', ,'VIEW_COUPON_ID_hash', 'small_area_name','capsule_text' 떨구기\n",
        "# ID 해시값을 사용하지 않는 이유: 데이터가 무거워 돌아가지 않는 문제 - 임시로 drop하여 처리\n",
        "\n",
        "\n",
        "cat_col_names = ['Tr_Pref_Name','Tr_small_area_name','usable_date_sum']\n",
        "\n",
        "cate_one_hot(cat_col_names)"
      ],
      "metadata": {
        "id": "IiHQ013ZxOqm"
      },
      "execution_count": null,
      "outputs": []
    },
    {
      "cell_type": "markdown",
      "source": [
        "## 3-2. 이진분류 및 정수형태의 명목형 변수"
      ],
      "metadata": {
        "id": "AGfScuKQg8vZ"
      }
    },
    {
      "cell_type": "code",
      "source": [
        "bin_cate_cols = ['PURCHASE_FLG','dispperiod', 'usable_date_mon', 'usable_date_tue',\n",
        "       'usable_date_wed', 'usable_date_thu', 'usable_date_fri',\n",
        "       'usable_date_sat', 'usable_date_sun', 'usable_date_holiday',\n",
        "       'usable_date_before_holiday', 'Male', 'Female', 'usable_date_sum']\n",
        "\n",
        "\n",
        "bin_one_hot(bin_cate_cols)"
      ],
      "metadata": {
        "id": "F2se1kWkV5ns"
      },
      "execution_count": null,
      "outputs": []
    },
    {
      "cell_type": "markdown",
      "source": [
        "원-핫 인코딩\n",
        "- 입력층에 들어가는 배열의 shape가 맞지 않는 문제\n",
        "shape가 맞지 않으면 딥러닝 상에서 모델 학습이 안되는지는 시도해볼 필요가 있으나 전처리 과정이 길어질 것으로 예상\n"
      ],
      "metadata": {
        "id": "gQE7W0BSMauB"
      }
    },
    {
      "cell_type": "markdown",
      "source": [
        "# <Embedding Layer사용>\n",
        "\n",
        "\n",
        "## 1. 명목형 데이터 전처리\n",
        "\n",
        "only LabelEncoder"
      ],
      "metadata": {
        "id": "2FWtXi4yKd2S"
      }
    },
    {
      "cell_type": "code",
      "source": [
        "from sklearn.preprocessing import LabelEncoder\n",
        "\n",
        "category_xs = []\n",
        "category_encoders = []\n",
        "\n",
        "def cate_LabelEncoding(cat_col_names):\n",
        "  for col_name in cat_col_names:\n",
        "\n",
        "    encoder = LabelEncoder()\n",
        "    encoded_xs = encoder.fit_transform(df[col_name])\n",
        "\n",
        "    category_xs.append(encoded_xs)\n",
        "    category_encoders.append(encoder)\n",
        "\n",
        "\n",
        "def bin_cate_col(bin_cate_cols):\n",
        "\n",
        "  for bin_cate_col in bin_cate_cols:\n",
        "    trans_1D_array = df[bin_cate_col].array\n",
        "    category_xs.append(trans_1D_array)"
      ],
      "metadata": {
        "id": "aqxOyPmSLBeY"
      },
      "execution_count": null,
      "outputs": []
    },
    {
      "cell_type": "code",
      "source": [
        "cat_col_names = ['Tr_Pref_Name','Tr_small_area_name','usable_date_sum']\n",
        "\n",
        "bin_cate_cols = ['PURCHASE_FLG','dispperiod', 'usable_date_mon', 'usable_date_tue',\n",
        "       'usable_date_wed', 'usable_date_thu', 'usable_date_fri',\n",
        "       'usable_date_sat', 'usable_date_sun', 'usable_date_holiday',\n",
        "       'usable_date_before_holiday', 'Male', 'Female', 'usable_date_sum']\n",
        "\n",
        "\n",
        "cate_LabelEncoding(cat_col_names)\n",
        "bin_cate_col(bin_cate_cols)"
      ],
      "metadata": {
        "id": "epAbcuBWMucw"
      },
      "execution_count": null,
      "outputs": []
    },
    {
      "cell_type": "code",
      "source": [
        "category_xs = np.stack(category_xs, axis=1)\n",
        "category_xs = category_xs.astype(float)\n",
        "category_xs"
      ],
      "metadata": {
        "colab": {
          "base_uri": "https://localhost:8080/"
        },
        "id": "WRK21gklP92n",
        "outputId": "545b91b1-0469-4da3-c57b-ebeb69c8a7a0"
      },
      "execution_count": null,
      "outputs": [
        {
          "output_type": "execute_result",
          "data": {
            "text/plain": [
              "array([[ 6., 52.,  0., ...,  1.,  0.,  0.],\n",
              "       [10., 22.,  0., ...,  1.,  0.,  0.],\n",
              "       [42., 44.,  0., ...,  0.,  1.,  0.],\n",
              "       ...,\n",
              "       [10., 30.,  9., ...,  1.,  0.,  9.],\n",
              "       [42., 12.,  8., ...,  0.,  1.,  8.],\n",
              "       [38., 44.,  9., ...,  0.,  1.,  9.]])"
            ]
          },
          "metadata": {},
          "execution_count": 11
        }
      ]
    },
    {
      "cell_type": "markdown",
      "source": [
        "## 2. 숫자형 데이터 전처리\n",
        "\n",
        "standarscaler()사용"
      ],
      "metadata": {
        "id": "-1G4NdgLNqaJ"
      }
    },
    {
      "cell_type": "code",
      "source": [
        "from sklearn.preprocessing import StandardScaler\n",
        "\n",
        "numeric_col_names = ['AGE','view_count']\n",
        "\n",
        "numeric_encoder = StandardScaler()\n",
        "numeric_xs = numeric_encoder.fit_transform(df[numeric_col_names])\n",
        "numeric_xs"
      ],
      "metadata": {
        "colab": {
          "base_uri": "https://localhost:8080/"
        },
        "id": "-dDUZkA2KdhV",
        "outputId": "324f3b9e-b20b-4118-ae5a-4fd684b391e8"
      },
      "execution_count": null,
      "outputs": [
        {
          "output_type": "execute_result",
          "data": {
            "text/plain": [
              "array([[ 1.47657574,  0.1754719 ],\n",
              "       [-1.15457048, -0.0022052 ],\n",
              "       [-0.51946622, -0.29804195],\n",
              "       ...,\n",
              "       [ 0.20636722, -0.36281094],\n",
              "       [-0.24727868, -0.32429965],\n",
              "       [-1.0638413 , -0.26303168]])"
            ]
          },
          "metadata": {},
          "execution_count": 12
        }
      ]
    },
    {
      "cell_type": "markdown",
      "source": [
        "# 타켓 변수 변환\n",
        "\n",
        "* Translated_genre_name 사용"
      ],
      "metadata": {
        "id": "eAgnSVrTOyIA"
      }
    },
    {
      "cell_type": "code",
      "source": [
        "np.unique(df['Translated_genre_name'])"
      ],
      "metadata": {
        "colab": {
          "base_uri": "https://localhost:8080/"
        },
        "id": "IqcORH70O_8Y",
        "outputId": "dff111f1-cd38-403f-8ef4-bf8c77e2afae"
      },
      "execution_count": null,
      "outputs": [
        {
          "output_type": "execute_result",
          "data": {
            "text/plain": [
              "array(['건강・의료', '기타 쿠폰', '기프트 카드', '네일・아이', '레슨', '레저', '뷰티', '에스테틱',\n",
              "       '음식', '택배', '헤어 살롱', '호텔・여관', '휴식'], dtype=object)"
            ]
          },
          "metadata": {},
          "execution_count": 66
        }
      ]
    },
    {
      "cell_type": "code",
      "source": [
        "target_xs = []\n",
        "target_encoders = []\n",
        "\n",
        "\n",
        "encoder = LabelEncoder()\n",
        "encoded_xs = encoder.fit_transform(df['Translated_genre_name'])\n",
        "\n",
        "target_xs.append(encoded_xs)\n",
        "target_encoders.append(encoder)\n",
        "\n",
        "target_xs = np.stack(target_xs, axis=1)\n",
        "target_xs"
      ],
      "metadata": {
        "colab": {
          "base_uri": "https://localhost:8080/"
        },
        "id": "AgZMqiHqPKPO",
        "outputId": "e209ca8f-b4b5-4b43-edd7-4d9f1c6938af"
      },
      "execution_count": null,
      "outputs": [
        {
          "output_type": "execute_result",
          "data": {
            "text/plain": [
              "array([[ 1],\n",
              "       [ 1],\n",
              "       [ 1],\n",
              "       ...,\n",
              "       [12],\n",
              "       [12],\n",
              "       [12]])"
            ]
          },
          "metadata": {},
          "execution_count": 13
        }
      ]
    },
    {
      "cell_type": "markdown",
      "source": [
        "# 테이터 나누기"
      ],
      "metadata": {
        "id": "jrzVN779PQ-N"
      }
    },
    {
      "cell_type": "code",
      "source": [
        "from sklearn.model_selection import train_test_split\n",
        "from sklearn.utils import shuffle\n",
        "\n",
        "category_xs, numeric_xs, target_xs = shuffle(category_xs, numeric_xs, target_xs)\n",
        "\n",
        "splitted = train_test_split(category_xs, numeric_xs, target_xs,\n",
        "                            test_size=0.2,stratify=target_xs)\n",
        "\n",
        "train_category_xs, train_numeric_xs, train_ys = splitted[::2]\n",
        "test_category_xs, test_numeric_xs, test_ys = splitted[1::2]"
      ],
      "metadata": {
        "id": "DtcdmoG6PSsX"
      },
      "execution_count": null,
      "outputs": []
    },
    {
      "cell_type": "code",
      "source": [
        "# 타켓 원-핫 인코딩\n",
        "# https://stackoverflow.com/questions/61550026/valueerror-shapes-none-1-and-none-3-are-incompatible\n",
        "\n",
        "\n",
        "train_ys = tf.keras.utils.to_categorical(train_ys, 13)\n",
        "test_ys = tf.keras.utils.to_categorical(test_ys, 13)"
      ],
      "metadata": {
        "id": "DQvxPS7SPT_N"
      },
      "execution_count": null,
      "outputs": []
    },
    {
      "cell_type": "markdown",
      "source": [
        "## 명목형 입력값 임베딩\n",
        "Embedding Layer 사용\n",
        "https://www.tensorflow.org/api_docs/python/tf/keras/layers/Embedding\n",
        "\n",
        "LabelEncoder을 이용하면 지정된 정숫값의 서열이 있는 상태로 인코딩됨 해당 서열 정보를 없애주기 위해 딥러닝에서는 Embedding Layer를 사용할 수 있다."
      ],
      "metadata": {
        "id": "1GlfniulPbDI"
      }
    },
    {
      "cell_type": "code",
      "source": [
        "from tensorflow.keras.layers import Input\n",
        "from tensorflow.keras.layers import Embedding\n",
        "from tensorflow.keras.layers import Concatenate\n",
        "\n",
        "\n",
        "# 명목형 변수의 개수\n",
        "category_inputs = Input((17,), dtype=tf.int32)\n",
        "\n",
        "# 숫자형 변수의 개수\n",
        "numeric_inputs = Input((2,), dtype=tf.float32)\n",
        "\n",
        "\n",
        "\n",
        "\n",
        "embed_size = 3\n",
        "# 임베딩 레이어 설정\n",
        "embeds = []\n",
        "for idx, col_name in enumerate(cat_col_names):\n",
        "      # 각 변수 별 카테고리의 갯수\n",
        "      category_size = len(category_encoders[idx].classes_)\n",
        "\n",
        "      # 각 변수 별로 임베딩 레이어 적용 (-> 각 변수 내 카테고리별로 임베딩 값들이 모델에서 학습)\n",
        "      category_embeded = Embedding(\n",
        "          category_size, embed_size, name=col_name+'_embed')(category_inputs[:,idx])\n",
        "\n",
        "      embeds.append(category_embeded)\n",
        "print(embeds)\n",
        "\n",
        "\n",
        "# 명목형 변수와 수치형 변수 합치기\n",
        "\n",
        "inputs_list = embeds + [numeric_inputs]\n",
        "concats = Concatenate(name='embed_concat')(inputs_list)\n",
        "concats"
      ],
      "metadata": {
        "colab": {
          "base_uri": "https://localhost:8080/"
        },
        "id": "8twPiyTKRD82",
        "outputId": "e594d6bd-c23e-4b1d-bb4d-8b2cffb17a56"
      },
      "execution_count": null,
      "outputs": [
        {
          "output_type": "stream",
          "name": "stdout",
          "text": [
            "[<KerasTensor: shape=(None, 3) dtype=float32 (created by layer 'Tr_Pref_Name_embed')>, <KerasTensor: shape=(None, 3) dtype=float32 (created by layer 'Tr_small_area_name_embed')>, <KerasTensor: shape=(None, 3) dtype=float32 (created by layer 'usable_date_sum_embed')>]\n"
          ]
        },
        {
          "output_type": "execute_result",
          "data": {
            "text/plain": [
              "<KerasTensor: shape=(None, 11) dtype=float32 (created by layer 'embed_concat')>"
            ]
          },
          "metadata": {},
          "execution_count": 45
        }
      ]
    },
    {
      "cell_type": "markdown",
      "source": [
        "# 딥러닝 모델 구성\n",
        "\n",
        "* 하이퍼 파라미터 조정\n",
        "1) 은닉층 개수 - 2개 고정\n",
        "2) 옵티마이저  - Adam 고정\n",
        "3) 드롭아옷 - 0.5 고정\n",
        "4) 층의 뉴런 개수(neuron_counts) = [13,50,100]\n",
        "5) batch_size =  [64,512,1028]\n",
        "6) learning_rate = [0.1,0.01, 0.001]\n",
        "\n",
        "\n",
        "과적합 방지를 위해 L2규제 사용\n"
      ],
      "metadata": {
        "id": "oDu5A6qZSvOt"
      }
    },
    {
      "cell_type": "code",
      "source": [
        "from tensorflow.keras.layers import Dense\n",
        "from tensorflow.keras.layers import Flatten\n",
        "from tensorflow.keras.layers import Dropout\n",
        "from tensorflow.keras.regularizers import l2\n",
        "from tensorflow.keras.models import Model\n",
        "\n",
        "def model_builder(neuron_count):\n",
        "  hidden = Dense(neuron_count,activation='relu', name='hidden1',\n",
        "                kernel_regularizer=l2(1e-5))(concats)\n",
        "\n",
        "  hidden = Dropout(0.5, name='dropout1')(hidden)\n",
        "\n",
        "  hidden = Dense(neuron_count,activation='relu', name='hidden2',\n",
        "                kernel_regularizer=l2(1e-5))(hidden)\n",
        "  hidden = Dropout(0.5, name='dropout2')(hidden)\n",
        "\n",
        "  output = Dense(13, activation='softmax', name='output',\n",
        "                kernel_regularizer=l2(1e-5))(hidden)\n",
        "\n",
        "  model = Model([category_inputs, numeric_inputs], output)\n",
        "\n",
        "\n",
        "  return model"
      ],
      "metadata": {
        "id": "6sHPECXPPcCQ"
      },
      "execution_count": null,
      "outputs": []
    },
    {
      "cell_type": "code",
      "source": [
        "neuron_counts = [13,50,100]\n",
        "\n",
        "model1 = model_builder(neuron_counts[0])\n",
        "model2 = model_builder(neuron_counts[1])\n",
        "model3 = model_builder(neuron_counts[2])\n",
        "\n",
        "\n",
        "model1.summary()"
      ],
      "metadata": {
        "colab": {
          "base_uri": "https://localhost:8080/"
        },
        "id": "CzrnbOuQ_BiE",
        "outputId": "a38513f0-db3f-4469-9636-280e31377d9e"
      },
      "execution_count": null,
      "outputs": [
        {
          "output_type": "stream",
          "name": "stdout",
          "text": [
            "Model: \"model_12\"\n",
            "__________________________________________________________________________________________________\n",
            " Layer (type)                   Output Shape         Param #     Connected to                     \n",
            "==================================================================================================\n",
            " input_5 (InputLayer)           [(None, 17)]         0           []                               \n",
            "                                                                                                  \n",
            " tf.__operators__.getitem_3 (Sl  (None,)             0           ['input_5[0][0]']                \n",
            " icingOpLambda)                                                                                   \n",
            "                                                                                                  \n",
            " tf.__operators__.getitem_4 (Sl  (None,)             0           ['input_5[0][0]']                \n",
            " icingOpLambda)                                                                                   \n",
            "                                                                                                  \n",
            " tf.__operators__.getitem_5 (Sl  (None,)             0           ['input_5[0][0]']                \n",
            " icingOpLambda)                                                                                   \n",
            "                                                                                                  \n",
            " Tr_Pref_Name_embed (Embedding)  (None, 3)           141         ['tf.__operators__.getitem_3[0][0\n",
            "                                                                 ]']                              \n",
            "                                                                                                  \n",
            " Tr_small_area_name_embed (Embe  (None, 3)           165         ['tf.__operators__.getitem_4[0][0\n",
            " dding)                                                          ]']                              \n",
            "                                                                                                  \n",
            " usable_date_sum_embed (Embeddi  (None, 3)           30          ['tf.__operators__.getitem_5[0][0\n",
            " ng)                                                             ]']                              \n",
            "                                                                                                  \n",
            " input_6 (InputLayer)           [(None, 2)]          0           []                               \n",
            "                                                                                                  \n",
            " embed_concat (Concatenate)     (None, 11)           0           ['Tr_Pref_Name_embed[0][0]',     \n",
            "                                                                  'Tr_small_area_name_embed[0][0]'\n",
            "                                                                 , 'usable_date_sum_embed[0][0]', \n",
            "                                                                  'input_6[0][0]']                \n",
            "                                                                                                  \n",
            " hidden1 (Dense)                (None, 13)           156         ['embed_concat[0][0]']           \n",
            "                                                                                                  \n",
            " dropout1 (Dropout)             (None, 13)           0           ['hidden1[0][0]']                \n",
            "                                                                                                  \n",
            " hidden2 (Dense)                (None, 13)           182         ['dropout1[0][0]']               \n",
            "                                                                                                  \n",
            " dropout2 (Dropout)             (None, 13)           0           ['hidden2[0][0]']                \n",
            "                                                                                                  \n",
            " output (Dense)                 (None, 13)           182         ['dropout2[0][0]']               \n",
            "                                                                                                  \n",
            "==================================================================================================\n",
            "Total params: 856\n",
            "Trainable params: 856\n",
            "Non-trainable params: 0\n",
            "__________________________________________________________________________________________________\n"
          ]
        }
      ]
    },
    {
      "cell_type": "markdown",
      "source": [
        "### model1_1\n",
        "* 각 층의 뉴런 13개/배치 64/학습률 0.1"
      ],
      "metadata": {
        "id": "wZ1NlBQUjkCZ"
      }
    },
    {
      "cell_type": "code",
      "source": [
        "from tensorflow.keras.optimizers import Adam\n",
        "\n",
        "opt = Adam(learning_rate = 0.1)\n",
        "model1.compile(optimizer=opt,\n",
        "                loss='categorical_crossentropy',\n",
        "                metrics='accuracy')\n",
        "\n",
        "  # 조기 종료\n",
        "checkpoint_cb = keras.callbacks.ModelCheckpoint('best-model.h5',\n",
        "                                                  save_best_only=True)\n",
        "early_stopping_cb = keras.callbacks.EarlyStopping(patience=5,\n",
        "                                                    restore_best_weights=True)\n",
        "train_xs = [train_category_xs,train_numeric_xs]\n",
        "\n",
        "\n",
        "history = model1.fit(x=train_xs, y=train_ys,\n",
        "            batch_size=64, epochs=100,\n",
        "            validation_split=0.1,\n",
        "            verbose=1,\n",
        "            callbacks=[checkpoint_cb, early_stopping_cb])"
      ],
      "metadata": {
        "colab": {
          "base_uri": "https://localhost:8080/"
        },
        "id": "dlcKh1TVDDjK",
        "outputId": "812e56ac-8fe7-47f1-a56a-ad8316e11458"
      },
      "execution_count": null,
      "outputs": [
        {
          "output_type": "stream",
          "name": "stdout",
          "text": [
            "Epoch 1/100\n",
            "22882/22882 [==============================] - 57s 2ms/step - loss: 1.7596 - accuracy: 0.2784 - val_loss: 1.7568 - val_accuracy: 0.2903\n",
            "Epoch 2/100\n",
            "22882/22882 [==============================] - 52s 2ms/step - loss: 1.7596 - accuracy: 0.2778 - val_loss: 1.7572 - val_accuracy: 0.2903\n",
            "Epoch 3/100\n",
            "22882/22882 [==============================] - 51s 2ms/step - loss: 1.7598 - accuracy: 0.2783 - val_loss: 1.7637 - val_accuracy: 0.2903\n",
            "Epoch 4/100\n",
            "22882/22882 [==============================] - 52s 2ms/step - loss: 1.7595 - accuracy: 0.2780 - val_loss: 1.7611 - val_accuracy: 0.2903\n",
            "Epoch 5/100\n",
            "22882/22882 [==============================] - 50s 2ms/step - loss: 1.7596 - accuracy: 0.2780 - val_loss: 1.7587 - val_accuracy: 0.2635\n",
            "Epoch 6/100\n",
            "22882/22882 [==============================] - 52s 2ms/step - loss: 1.7598 - accuracy: 0.2782 - val_loss: 1.7700 - val_accuracy: 0.2635\n"
          ]
        }
      ]
    },
    {
      "cell_type": "code",
      "source": [
        "def acc_lossplot(model, name):\n",
        "  loss, acc = model.evaluate(x=[test_category_xs, test_numeric_xs], y=test_ys, verbose=1)\n",
        "  print(f\"딥러닝 모형의 정확도 : {acc:.3%}\")\n",
        "\n",
        "  plt.plot(history.history['loss'])\n",
        "  plt.plot(history.history['val_loss'])\n",
        "  plt.xlabel('epoch')\n",
        "  plt.ylabel('loss')\n",
        "\n",
        "  plt.title(name)\n",
        "  plt.legend(['train', 'val'])\n",
        "  plt.show()\n",
        "\n"
      ],
      "metadata": {
        "id": "fkCk4ZgIVmv0"
      },
      "execution_count": null,
      "outputs": []
    },
    {
      "cell_type": "code",
      "source": [
        "acc_lossplot(model1, 'model1_1')"
      ],
      "metadata": {
        "colab": {
          "base_uri": "https://localhost:8080/",
          "height": 508
        },
        "id": "VGYwSRrQBmij",
        "outputId": "cf6340db-a02e-4217-dc0a-ba24888f0df8"
      },
      "execution_count": null,
      "outputs": [
        {
          "output_type": "stream",
          "name": "stdout",
          "text": [
            "12712/12712 [==============================] - 49s 4ms/step - loss: 1.7565 - accuracy: 0.2886\n",
            "딥러닝 모형의 정확도 : 28.859%\n"
          ]
        },
        {
          "output_type": "display_data",
          "data": {
            "text/plain": [
              "<Figure size 640x480 with 1 Axes>"
            ],
            "image/png": "[encoded data removed]"
          },
          "metadata": {}
        }
      ]
    },
    {
      "cell_type": "markdown",
      "source": [
        "### model1_2\n",
        "* 각 층의 뉴런 13개/배치 64/학습률 0.01"
      ],
      "metadata": {
        "id": "d3VaJvhecw_W"
      }
    },
    {
      "cell_type": "code",
      "source": [
        "model1_2 = model_builder(neuron_counts[0])"
      ],
      "metadata": {
        "id": "tvZyWaV-QJRx"
      },
      "execution_count": null,
      "outputs": []
    },
    {
      "cell_type": "code",
      "source": [
        "opt = Adam(learning_rate = 0.01)\n",
        "model1_2.compile(optimizer=opt,\n",
        "                loss='categorical_crossentropy',\n",
        "                metrics='accuracy')\n",
        "\n",
        "checkpoint_cb = keras.callbacks.ModelCheckpoint('best-model.h5',\n",
        "                                                  save_best_only=True)\n",
        "early_stopping_cb = keras.callbacks.EarlyStopping(patience=5,\n",
        "                                                    restore_best_weights=True)\n",
        "train_xs = [train_category_xs,train_numeric_xs]\n",
        "\n",
        "history = model1_2.fit(x=train_xs, y=train_ys,\n",
        "            batch_size=64, epochs=100,\n",
        "            validation_split=0.1,\n",
        "            verbose=1,\n",
        "            callbacks=[checkpoint_cb, early_stopping_cb])"
      ],
      "metadata": {
        "colab": {
          "base_uri": "https://localhost:8080/"
        },
        "id": "uuLwbmHhWXmW",
        "outputId": "972ed48c-8cfa-478c-8689-6ed5795a46a9"
      },
      "execution_count": null,
      "outputs": [
        {
          "output_type": "stream",
          "name": "stdout",
          "text": [
            "Epoch 1/100\n",
            "22882/22882 [==============================] - 55s 2ms/step - loss: 1.0823 - accuracy: 0.6630 - val_loss: 0.9268 - val_accuracy: 0.7075\n",
            "Epoch 2/100\n",
            "22882/22882 [==============================] - 51s 2ms/step - loss: 1.0634 - accuracy: 0.6686 - val_loss: 0.9298 - val_accuracy: 0.7101\n",
            "Epoch 3/100\n",
            "22882/22882 [==============================] - 54s 2ms/step - loss: 1.0583 - accuracy: 0.6702 - val_loss: 0.9298 - val_accuracy: 0.7089\n",
            "Epoch 4/100\n",
            "22882/22882 [==============================] - 54s 2ms/step - loss: 1.0648 - accuracy: 0.6687 - val_loss: 0.9363 - val_accuracy: 0.7098\n",
            "Epoch 5/100\n",
            "22882/22882 [==============================] - 51s 2ms/step - loss: 1.0649 - accuracy: 0.6700 - val_loss: 0.9354 - val_accuracy: 0.7066\n",
            "Epoch 6/100\n",
            "22882/22882 [==============================] - 52s 2ms/step - loss: 1.0700 - accuracy: 0.6669 - val_loss: 0.9250 - val_accuracy: 0.7120\n",
            "Epoch 7/100\n",
            "22882/22882 [==============================] - 50s 2ms/step - loss: 1.0684 - accuracy: 0.6670 - val_loss: 0.9494 - val_accuracy: 0.7014\n",
            "Epoch 8/100\n",
            "22882/22882 [==============================] - 56s 2ms/step - loss: 1.0695 - accuracy: 0.6670 - val_loss: 0.9557 - val_accuracy: 0.6962\n",
            "Epoch 9/100\n",
            "22882/22882 [==============================] - 53s 2ms/step - loss: 1.0773 - accuracy: 0.6635 - val_loss: 0.9405 - val_accuracy: 0.7104\n",
            "Epoch 10/100\n",
            "22882/22882 [==============================] - 50s 2ms/step - loss: 1.1075 - accuracy: 0.6465 - val_loss: 0.9326 - val_accuracy: 0.7082\n",
            "Epoch 11/100\n",
            "22882/22882 [==============================] - 54s 2ms/step - loss: 1.1080 - accuracy: 0.6472 - val_loss: 0.9453 - val_accuracy: 0.7123\n"
          ]
        }
      ]
    },
    {
      "cell_type": "code",
      "source": [
        "acc_lossplot(model1_2, 'model1_2')"
      ],
      "metadata": {
        "colab": {
          "base_uri": "https://localhost:8080/",
          "height": 508
        },
        "id": "B9JoJaPcQp50",
        "outputId": "c93d8e7f-baef-46a5-f8ff-cb2f2a078f8c"
      },
      "execution_count": null,
      "outputs": [
        {
          "output_type": "stream",
          "name": "stdout",
          "text": [
            "12712/12712 [==============================] - 19s 2ms/step - loss: 0.9266 - accuracy: 0.7116\n",
            "딥러닝 모형의 정확도 : 71.162%\n"
          ]
        },
        {
          "output_type": "display_data",
          "data": {
            "text/plain": [
              "<Figure size 640x480 with 1 Axes>"
            ],
            "image/png": "[encoded data removed]"
          },
          "metadata": {}
        }
      ]
    },
    {
      "cell_type": "markdown",
      "source": [
        "### model1_3\n",
        "\n",
        "* 각 층의 뉴런 13개/배치 64/학습률 0.001"
      ],
      "metadata": {
        "id": "BL2DeKmiczJG"
      }
    },
    {
      "cell_type": "code",
      "source": [
        "model1_3= model_builder(neuron_counts[0])"
      ],
      "metadata": {
        "id": "OD4TLXNPQqAC"
      },
      "execution_count": null,
      "outputs": []
    },
    {
      "cell_type": "code",
      "source": [
        "opt = Adam(learning_rate = 0.001)\n",
        "model1_3.compile(optimizer=opt,\n",
        "                loss='categorical_crossentropy',\n",
        "                metrics='accuracy')\n",
        "\n",
        "\n",
        "# 조기 종료\n",
        "checkpoint_cb = keras.callbacks.ModelCheckpoint('best-model.h5',\n",
        "                                                  save_best_only=True)\n",
        "\n",
        "early_stopping_cb = keras.callbacks.EarlyStopping(patience=5,\n",
        "                                                    restore_best_weights=True)\n",
        "\n",
        "train_xs = [train_category_xs,train_numeric_xs]\n",
        "\n",
        "\n",
        "history = model1_3.fit(x=train_xs, y=train_ys,\n",
        "            batch_size=64, epochs=100,\n",
        "            validation_split=0.1,\n",
        "            verbose=1,\n",
        "            callbacks=[checkpoint_cb, early_stopping_cb])"
      ],
      "metadata": {
        "colab": {
          "base_uri": "https://localhost:8080/"
        },
        "id": "zcp1tiqKSs3w",
        "outputId": "ff266446-c665-4783-807e-997cba44e9d9"
      },
      "execution_count": null,
      "outputs": [
        {
          "output_type": "stream",
          "name": "stdout",
          "text": [
            "Epoch 1/100\n",
            "22882/22882 [==============================] - 58s 2ms/step - loss: 1.1009 - accuracy: 0.6573 - val_loss: 0.8879 - val_accuracy: 0.7127\n",
            "Epoch 2/100\n",
            "22882/22882 [==============================] - 53s 2ms/step - loss: 0.9895 - accuracy: 0.6819 - val_loss: 0.8968 - val_accuracy: 0.7068\n",
            "Epoch 3/100\n",
            "22882/22882 [==============================] - 59s 3ms/step - loss: 0.9835 - accuracy: 0.6862 - val_loss: 0.8832 - val_accuracy: 0.7108\n",
            "Epoch 4/100\n",
            "22882/22882 [==============================] - 58s 3ms/step - loss: 0.9829 - accuracy: 0.6861 - val_loss: 0.8820 - val_accuracy: 0.7099\n",
            "Epoch 5/100\n",
            "22882/22882 [==============================] - 63s 3ms/step - loss: 0.9806 - accuracy: 0.6866 - val_loss: 0.8770 - val_accuracy: 0.7097\n",
            "Epoch 6/100\n",
            "22882/22882 [==============================] - 62s 3ms/step - loss: 0.9792 - accuracy: 0.6866 - val_loss: 0.8736 - val_accuracy: 0.7133\n",
            "Epoch 7/100\n",
            "22882/22882 [==============================] - 53s 2ms/step - loss: 0.9774 - accuracy: 0.6866 - val_loss: 0.8722 - val_accuracy: 0.7156\n",
            "Epoch 8/100\n",
            "22882/22882 [==============================] - 52s 2ms/step - loss: 0.9760 - accuracy: 0.6870 - val_loss: 0.8724 - val_accuracy: 0.7133\n",
            "Epoch 9/100\n",
            "22882/22882 [==============================] - 50s 2ms/step - loss: 0.9740 - accuracy: 0.6873 - val_loss: 0.8638 - val_accuracy: 0.7157\n",
            "Epoch 10/100\n",
            "22882/22882 [==============================] - 50s 2ms/step - loss: 0.9738 - accuracy: 0.6862 - val_loss: 0.8678 - val_accuracy: 0.7131\n",
            "Epoch 11/100\n",
            "22882/22882 [==============================] - 52s 2ms/step - loss: 0.9732 - accuracy: 0.6861 - val_loss: 0.8678 - val_accuracy: 0.7118\n",
            "Epoch 12/100\n",
            "22882/22882 [==============================] - 50s 2ms/step - loss: 0.9726 - accuracy: 0.6858 - val_loss: 0.8687 - val_accuracy: 0.7120\n",
            "Epoch 13/100\n",
            "22882/22882 [==============================] - 51s 2ms/step - loss: 0.9723 - accuracy: 0.6855 - val_loss: 0.8619 - val_accuracy: 0.7123\n",
            "Epoch 14/100\n",
            "22882/22882 [==============================] - 50s 2ms/step - loss: 0.9728 - accuracy: 0.6854 - val_loss: 0.8664 - val_accuracy: 0.7123\n",
            "Epoch 15/100\n",
            "22882/22882 [==============================] - 50s 2ms/step - loss: 0.9720 - accuracy: 0.6852 - val_loss: 0.8618 - val_accuracy: 0.7119\n",
            "Epoch 16/100\n",
            "22882/22882 [==============================] - 51s 2ms/step - loss: 0.9711 - accuracy: 0.6854 - val_loss: 0.8550 - val_accuracy: 0.7144\n",
            "Epoch 17/100\n",
            "22882/22882 [==============================] - 52s 2ms/step - loss: 0.9715 - accuracy: 0.6853 - val_loss: 0.8647 - val_accuracy: 0.7110\n",
            "Epoch 18/100\n",
            "22882/22882 [==============================] - 55s 2ms/step - loss: 0.9716 - accuracy: 0.6846 - val_loss: 0.8606 - val_accuracy: 0.7125\n",
            "Epoch 19/100\n",
            "22882/22882 [==============================] - 66s 3ms/step - loss: 0.9710 - accuracy: 0.6845 - val_loss: 0.8649 - val_accuracy: 0.7067\n",
            "Epoch 20/100\n",
            "22882/22882 [==============================] - 61s 3ms/step - loss: 0.9701 - accuracy: 0.6840 - val_loss: 0.8629 - val_accuracy: 0.7085\n",
            "Epoch 21/100\n",
            "22882/22882 [==============================] - 50s 2ms/step - loss: 0.9704 - accuracy: 0.6840 - val_loss: 0.8589 - val_accuracy: 0.7121\n"
          ]
        }
      ]
    },
    {
      "cell_type": "code",
      "source": [
        "acc_lossplot(model1_3, 'model1_3')"
      ],
      "metadata": {
        "colab": {
          "base_uri": "https://localhost:8080/",
          "height": 508
        },
        "id": "-Gf4iT8FStBm",
        "outputId": "70bd9bf5-f12a-48db-fd54-48569599309c"
      },
      "execution_count": null,
      "outputs": [
        {
          "output_type": "stream",
          "name": "stdout",
          "text": [
            "12712/12712 [==============================] - 20s 2ms/step - loss: 0.8571 - accuracy: 0.7136\n",
            "딥러닝 모형의 정확도 : 71.359%\n"
          ]
        },
        {
          "output_type": "display_data",
          "data": {
            "text/plain": [
              "<Figure size 640x480 with 1 Axes>"
            ],
            "image/png": "[encoded data removed]"
          },
          "metadata": {}
        }
      ]
    },
    {
      "cell_type": "markdown",
      "source": [
        "\n",
        "### model1_4\n",
        "\n",
        "* 각 층의 뉴런 13개/배치 256/학습률 0.1"
      ],
      "metadata": {
        "id": "SSh5bU0Lc222"
      }
    },
    {
      "cell_type": "code",
      "source": [
        "model1_4=model_builder(neuron_counts[0])"
      ],
      "metadata": {
        "id": "L2st-2HTS5SX"
      },
      "execution_count": null,
      "outputs": []
    },
    {
      "cell_type": "code",
      "source": [
        "opt = Adam(learning_rate = 0.1)\n",
        "model1_4.compile(optimizer=opt,\n",
        "                loss='categorical_crossentropy',\n",
        "                metrics='accuracy')\n",
        "\n",
        "  # 조기 종료\n",
        "checkpoint_cb = keras.callbacks.ModelCheckpoint('best-model.h5',\n",
        "                                                  save_best_only=True)\n",
        "early_stopping_cb = keras.callbacks.EarlyStopping(patience=5,\n",
        "                                                    restore_best_weights=True)\n",
        "train_xs = [train_category_xs,train_numeric_xs]\n",
        "\n",
        "history = model1_4.fit(x=train_xs, y=train_ys,\n",
        "            batch_size=256, epochs=100,\n",
        "            validation_split=0.1,\n",
        "            verbose=1,\n",
        "            callbacks=[checkpoint_cb, early_stopping_cb])"
      ],
      "metadata": {
        "colab": {
          "base_uri": "https://localhost:8080/"
        },
        "id": "iC9k2Z8lWFL4",
        "outputId": "bfd94cff-6c94-4e55-f2cb-f708c6122349"
      },
      "execution_count": null,
      "outputs": [
        {
          "output_type": "stream",
          "name": "stdout",
          "text": [
            "Epoch 1/100\n",
            "5721/5721 [==============================] - 16s 3ms/step - loss: 1.4717 - accuracy: 0.4864 - val_loss: 1.2634 - val_accuracy: 0.5536\n",
            "Epoch 2/100\n",
            "5721/5721 [==============================] - 15s 3ms/step - loss: 1.5489 - accuracy: 0.4350 - val_loss: 1.7789 - val_accuracy: 0.2903\n",
            "Epoch 3/100\n",
            "5721/5721 [==============================] - 15s 3ms/step - loss: 1.5173 - accuracy: 0.4543 - val_loss: 1.2396 - val_accuracy: 0.5536\n",
            "Epoch 4/100\n",
            "5721/5721 [==============================] - 15s 3ms/step - loss: 1.4625 - accuracy: 0.4788 - val_loss: 1.2607 - val_accuracy: 0.5532\n",
            "Epoch 5/100\n",
            "5721/5721 [==============================] - 16s 3ms/step - loss: 1.5729 - accuracy: 0.4255 - val_loss: 1.7892 - val_accuracy: 0.2903\n",
            "Epoch 6/100\n",
            "5721/5721 [==============================] - 15s 3ms/step - loss: 1.5857 - accuracy: 0.4195 - val_loss: 1.2593 - val_accuracy: 0.5368\n",
            "Epoch 7/100\n",
            "5721/5721 [==============================] - 15s 3ms/step - loss: 1.5372 - accuracy: 0.4413 - val_loss: 1.7713 - val_accuracy: 0.2903\n",
            "Epoch 8/100\n",
            "5721/5721 [==============================] - 15s 3ms/step - loss: 1.7053 - accuracy: 0.3530 - val_loss: 1.7701 - val_accuracy: 0.2903\n"
          ]
        }
      ]
    },
    {
      "cell_type": "code",
      "source": [
        "acc_lossplot(model1, 'model1_4')"
      ],
      "metadata": {
        "colab": {
          "base_uri": "https://localhost:8080/",
          "height": 508
        },
        "id": "MsqinVD5TRJt",
        "outputId": "100260b5-8492-44a3-a8b5-9adc6ac8b4ff"
      },
      "execution_count": null,
      "outputs": [
        {
          "output_type": "stream",
          "name": "stdout",
          "text": [
            "12712/12712 [==============================] - 20s 2ms/step - loss: 1.7565 - accuracy: 0.2886\n",
            "딥러닝 모형의 정확도 : 28.859%\n"
          ]
        },
        {
          "output_type": "display_data",
          "data": {
            "text/plain": [
              "<Figure size 640x480 with 1 Axes>"
            ],
            "image/png": "[encoded data removed]"
          },
          "metadata": {}
        }
      ]
    },
    {
      "cell_type": "markdown",
      "source": [
        "### model1_5\n",
        "\n",
        "* 각 층의 뉴런 13개/배치 256/학습률 0.01"
      ],
      "metadata": {
        "id": "eFh_gmBgc7kJ"
      }
    },
    {
      "cell_type": "code",
      "source": [
        "model1_5= model_builder(neuron_counts[0])"
      ],
      "metadata": {
        "id": "gwoDBUYcS5WO"
      },
      "execution_count": null,
      "outputs": []
    },
    {
      "cell_type": "code",
      "source": [
        "opt = Adam(learning_rate = 0.01)\n",
        "model1_5.compile(optimizer=opt,\n",
        "                loss='categorical_crossentropy',\n",
        "                metrics='accuracy')\n",
        "\n",
        "\n",
        "  # 조기 종료\n",
        "checkpoint_cb = keras.callbacks.ModelCheckpoint('best-model.h5',\n",
        "                                                  save_best_only=True)\n",
        "early_stopping_cb = keras.callbacks.EarlyStopping(patience=5,\n",
        "                                                    restore_best_weights=True)\n",
        "train_xs = [train_category_xs,train_numeric_xs]\n",
        "\n",
        "history = model1_5.fit(x=train_xs, y=train_ys,\n",
        "            batch_size=256, epochs=100,\n",
        "            validation_split=0.1,\n",
        "            verbose=1,\n",
        "            callbacks=[checkpoint_cb, early_stopping_cb])"
      ],
      "metadata": {
        "colab": {
          "base_uri": "https://localhost:8080/"
        },
        "id": "lT6p9dfaTQ3P",
        "outputId": "506c6fa0-d013-4c0c-afb2-8ccbfd51455a"
      },
      "execution_count": null,
      "outputs": [
        {
          "output_type": "stream",
          "name": "stdout",
          "text": [
            "Epoch 1/100\n",
            "5721/5721 [==============================] - 17s 3ms/step - loss: 1.0525 - accuracy: 0.6595 - val_loss: 0.8928 - val_accuracy: 0.7089\n",
            "Epoch 2/100\n",
            "5721/5721 [==============================] - 15s 3ms/step - loss: 1.0158 - accuracy: 0.6641 - val_loss: 0.9053 - val_accuracy: 0.7004\n",
            "Epoch 3/100\n",
            "5721/5721 [==============================] - 15s 3ms/step - loss: 1.0133 - accuracy: 0.6643 - val_loss: 0.8809 - val_accuracy: 0.7121\n",
            "Epoch 4/100\n",
            "5721/5721 [==============================] - 22s 4ms/step - loss: 1.0114 - accuracy: 0.6662 - val_loss: 0.8760 - val_accuracy: 0.7124\n",
            "Epoch 5/100\n",
            "5721/5721 [==============================] - 23s 4ms/step - loss: 1.0102 - accuracy: 0.6663 - val_loss: 0.8923 - val_accuracy: 0.7133\n",
            "Epoch 6/100\n",
            "5721/5721 [==============================] - 22s 4ms/step - loss: 1.0097 - accuracy: 0.6662 - val_loss: 0.8791 - val_accuracy: 0.7101\n",
            "Epoch 7/100\n",
            "5721/5721 [==============================] - 17s 3ms/step - loss: 1.0098 - accuracy: 0.6667 - val_loss: 0.8874 - val_accuracy: 0.7105\n",
            "Epoch 8/100\n",
            "5721/5721 [==============================] - 17s 3ms/step - loss: 1.0096 - accuracy: 0.6671 - val_loss: 0.8893 - val_accuracy: 0.7114\n",
            "Epoch 9/100\n",
            "5721/5721 [==============================] - 15s 3ms/step - loss: 1.0096 - accuracy: 0.6672 - val_loss: 0.8803 - val_accuracy: 0.7121\n"
          ]
        }
      ]
    },
    {
      "cell_type": "code",
      "source": [
        "acc_lossplot(model1_5, 'model1_5')"
      ],
      "metadata": {
        "colab": {
          "base_uri": "https://localhost:8080/",
          "height": 508
        },
        "id": "8NzLln8STRu8",
        "outputId": "9413bf0b-7397-463e-cf2d-7e49248c3071"
      },
      "execution_count": null,
      "outputs": [
        {
          "output_type": "stream",
          "name": "stdout",
          "text": [
            "12712/12712 [==============================] - 20s 2ms/step - loss: 0.8771 - accuracy: 0.7110\n",
            "딥러닝 모형의 정확도 : 71.098%\n"
          ]
        },
        {
          "output_type": "display_data",
          "data": {
            "text/plain": [
              "<Figure size 640x480 with 1 Axes>"
            ],
            "image/png": "[encoded data removed]"
          },
          "metadata": {}
        }
      ]
    },
    {
      "cell_type": "markdown",
      "source": [
        "### model1_6\n",
        "\n",
        "* 각 층의 뉴런 13개/배치 256/학습률 0.001"
      ],
      "metadata": {
        "id": "yaJI3sUgc_sV"
      }
    },
    {
      "cell_type": "code",
      "source": [
        "model1_6 = model_builder(neuron_counts[0])\n",
        "\n",
        "opt = Adam(learning_rate = 0.001)\n",
        "model1_6.compile(optimizer=opt,\n",
        "                loss='categorical_crossentropy',\n",
        "                metrics='accuracy')\n",
        "\n",
        "\n",
        "  # 조기 종료\n",
        "checkpoint_cb = keras.callbacks.ModelCheckpoint('best-model.h5',\n",
        "                                                  save_best_only=True)\n",
        "early_stopping_cb = keras.callbacks.EarlyStopping(patience=5,\n",
        "                                                    restore_best_weights=True)\n",
        "train_xs = [train_category_xs,train_numeric_xs]\n",
        "\n",
        "history = model1_6.fit(x=train_xs, y=train_ys,\n",
        "            batch_size=256, epochs=100,\n",
        "            validation_split=0.1,\n",
        "            verbose=1,\n",
        "            callbacks=[checkpoint_cb, early_stopping_cb])\n"
      ],
      "metadata": {
        "colab": {
          "base_uri": "https://localhost:8080/"
        },
        "id": "i6wDMQg1S5a7",
        "outputId": "34506aca-aac4-4bd3-8d19-9f6df966dc48"
      },
      "execution_count": null,
      "outputs": [
        {
          "output_type": "stream",
          "name": "stdout",
          "text": [
            "Epoch 1/100\n",
            "5721/5721 [==============================] - 17s 3ms/step - loss: 1.4509 - accuracy: 0.5891 - val_loss: 0.9319 - val_accuracy: 0.7110\n",
            "Epoch 2/100\n",
            "5721/5721 [==============================] - 15s 3ms/step - loss: 1.0156 - accuracy: 0.6785 - val_loss: 0.8892 - val_accuracy: 0.7208\n",
            "Epoch 3/100\n",
            "5721/5721 [==============================] - 15s 3ms/step - loss: 0.9958 - accuracy: 0.6818 - val_loss: 0.8852 - val_accuracy: 0.7220\n",
            "Epoch 4/100\n",
            "5721/5721 [==============================] - 14s 3ms/step - loss: 0.9929 - accuracy: 0.6823 - val_loss: 0.8862 - val_accuracy: 0.7225\n",
            "Epoch 5/100\n",
            "5721/5721 [==============================] - 15s 3ms/step - loss: 0.9905 - accuracy: 0.6830 - val_loss: 0.8833 - val_accuracy: 0.7231\n",
            "Epoch 6/100\n",
            "5721/5721 [==============================] - 15s 3ms/step - loss: 0.9867 - accuracy: 0.6827 - val_loss: 0.8771 - val_accuracy: 0.7226\n",
            "Epoch 7/100\n",
            "5721/5721 [==============================] - 15s 3ms/step - loss: 0.9782 - accuracy: 0.6835 - val_loss: 0.8697 - val_accuracy: 0.7235\n",
            "Epoch 8/100\n",
            "5721/5721 [==============================] - 15s 3ms/step - loss: 0.9756 - accuracy: 0.6835 - val_loss: 0.8757 - val_accuracy: 0.7224\n",
            "Epoch 9/100\n",
            "5721/5721 [==============================] - 16s 3ms/step - loss: 0.9740 - accuracy: 0.6842 - val_loss: 0.8646 - val_accuracy: 0.7239\n",
            "Epoch 10/100\n",
            "5721/5721 [==============================] - 15s 3ms/step - loss: 0.9728 - accuracy: 0.6846 - val_loss: 0.8519 - val_accuracy: 0.7244\n",
            "Epoch 11/100\n",
            "5721/5721 [==============================] - 15s 3ms/step - loss: 0.9728 - accuracy: 0.6845 - val_loss: 0.8447 - val_accuracy: 0.7245\n",
            "Epoch 12/100\n",
            "5721/5721 [==============================] - 15s 3ms/step - loss: 0.9707 - accuracy: 0.6846 - val_loss: 0.8389 - val_accuracy: 0.7249\n",
            "Epoch 13/100\n",
            "5721/5721 [==============================] - 15s 3ms/step - loss: 0.9676 - accuracy: 0.6851 - val_loss: 0.8225 - val_accuracy: 0.7236\n",
            "Epoch 14/100\n",
            "5721/5721 [==============================] - 15s 3ms/step - loss: 0.9675 - accuracy: 0.6851 - val_loss: 0.8169 - val_accuracy: 0.7243\n",
            "Epoch 15/100\n",
            "5721/5721 [==============================] - 14s 3ms/step - loss: 0.9652 - accuracy: 0.6854 - val_loss: 0.8305 - val_accuracy: 0.7237\n",
            "Epoch 16/100\n",
            "5721/5721 [==============================] - 15s 3ms/step - loss: 0.9650 - accuracy: 0.6854 - val_loss: 0.8241 - val_accuracy: 0.7247\n",
            "Epoch 17/100\n",
            "5721/5721 [==============================] - 14s 3ms/step - loss: 0.9643 - accuracy: 0.6852 - val_loss: 0.8284 - val_accuracy: 0.7232\n",
            "Epoch 18/100\n",
            "5721/5721 [==============================] - 15s 3ms/step - loss: 0.9643 - accuracy: 0.6853 - val_loss: 0.8386 - val_accuracy: 0.7247\n",
            "Epoch 19/100\n",
            "5721/5721 [==============================] - 15s 3ms/step - loss: 0.9645 - accuracy: 0.6851 - val_loss: 0.8187 - val_accuracy: 0.7252\n"
          ]
        }
      ]
    },
    {
      "cell_type": "code",
      "source": [
        "acc_lossplot(model1_6, 'model1_6')"
      ],
      "metadata": {
        "colab": {
          "base_uri": "https://localhost:8080/",
          "height": 508
        },
        "id": "dlDeHpiBfwOs",
        "outputId": "88ece3cb-2170-4f6c-a579-66389cd607b1"
      },
      "execution_count": null,
      "outputs": [
        {
          "output_type": "stream",
          "name": "stdout",
          "text": [
            "12712/12712 [==============================] - 19s 1ms/step - loss: 0.8185 - accuracy: 0.7227\n",
            "딥러닝 모형의 정확도 : 72.271%\n"
          ]
        },
        {
          "output_type": "display_data",
          "data": {
            "text/plain": [
              "<Figure size 640x480 with 1 Axes>"
            ],
            "image/png": "[encoded data removed]"
          },
          "metadata": {}
        }
      ]
    },
    {
      "cell_type": "markdown",
      "source": [
        "### model1_7\n",
        "\n",
        "* 각 층의 뉴런 13개/배치 512/학습률 0.1"
      ],
      "metadata": {
        "id": "hZ5QKmfXdBxW"
      }
    },
    {
      "cell_type": "code",
      "source": [
        "model1_7 = model_builder(neuron_counts[0])"
      ],
      "metadata": {
        "id": "r8YQuGY5csxG"
      },
      "execution_count": null,
      "outputs": []
    },
    {
      "cell_type": "code",
      "source": [
        "opt = Adam(learning_rate = 0.1)\n",
        "model1_7.compile(optimizer=opt,\n",
        "                loss='categorical_crossentropy',\n",
        "                metrics='accuracy')\n",
        "\n",
        "\n",
        "checkpoint_cb = keras.callbacks.ModelCheckpoint('best-model.h5',\n",
        "                                                  save_best_only=True)\n",
        "early_stopping_cb = keras.callbacks.EarlyStopping(patience=5,\n",
        "                                                    restore_best_weights=True)\n",
        "train_xs = [train_category_xs,train_numeric_xs]\n",
        "\n",
        "history = model1_7.fit(x=train_xs, y=train_ys,\n",
        "            batch_size=512, epochs=100,\n",
        "            validation_split=0.1,\n",
        "            verbose=1,\n",
        "            callbacks=[checkpoint_cb, early_stopping_cb])"
      ],
      "metadata": {
        "colab": {
          "base_uri": "https://localhost:8080/"
        },
        "id": "tlWbVdE1e95G",
        "outputId": "b9b80489-c40a-486e-d80d-78af7155bd07"
      },
      "execution_count": null,
      "outputs": [
        {
          "output_type": "stream",
          "name": "stdout",
          "text": [
            "Epoch 1/100\n",
            "2861/2861 [==============================] - 12s 4ms/step - loss: 1.2489 - accuracy: 0.5454 - val_loss: 1.1466 - val_accuracy: 0.5370\n",
            "Epoch 2/100\n",
            "2861/2861 [==============================] - 9s 3ms/step - loss: 1.2915 - accuracy: 0.5201 - val_loss: 1.1513 - val_accuracy: 0.5536\n",
            "Epoch 3/100\n",
            "2861/2861 [==============================] - 9s 3ms/step - loss: 1.3243 - accuracy: 0.5114 - val_loss: 1.1615 - val_accuracy: 0.5536\n",
            "Epoch 4/100\n",
            "2861/2861 [==============================] - 9s 3ms/step - loss: 1.3779 - accuracy: 0.4958 - val_loss: 1.1988 - val_accuracy: 0.5536\n",
            "Epoch 5/100\n",
            "2861/2861 [==============================] - 9s 3ms/step - loss: 1.4433 - accuracy: 0.4728 - val_loss: 1.3071 - val_accuracy: 0.5370\n",
            "Epoch 6/100\n",
            "2861/2861 [==============================] - 8s 3ms/step - loss: 1.4247 - accuracy: 0.4797 - val_loss: 1.7929 - val_accuracy: 0.2904\n"
          ]
        }
      ]
    },
    {
      "cell_type": "code",
      "source": [
        "acc_lossplot(model1_7, 'model1_7')"
      ],
      "metadata": {
        "colab": {
          "base_uri": "https://localhost:8080/",
          "height": 508
        },
        "id": "5BUFaouYe97b",
        "outputId": "0c5a2301-2f3c-4e55-8912-ed5524c15864"
      },
      "execution_count": null,
      "outputs": [
        {
          "output_type": "stream",
          "name": "stdout",
          "text": [
            "12712/12712 [==============================] - 23s 2ms/step - loss: 1.1479 - accuracy: 0.5359\n",
            "딥러닝 모형의 정확도 : 53.590%\n"
          ]
        },
        {
          "output_type": "display_data",
          "data": {
            "text/plain": [
              "<Figure size 640x480 with 1 Axes>"
            ],
            "image/png": "[encoded data removed]"
          },
          "metadata": {}
        }
      ]
    },
    {
      "cell_type": "markdown",
      "source": [
        "### model1_8\n",
        "\n",
        "* 각 층의 뉴런 13개/배치 512/학습률 0.01"
      ],
      "metadata": {
        "id": "baMQSBy-fGj3"
      }
    },
    {
      "cell_type": "code",
      "source": [
        "model1_8 = model_builder(neuron_counts[0])"
      ],
      "metadata": {
        "id": "JPkXYte3e_Lt"
      },
      "execution_count": null,
      "outputs": []
    },
    {
      "cell_type": "code",
      "source": [
        "opt = Adam(learning_rate = 0.01)\n",
        "model1_8.compile(optimizer=opt,\n",
        "                loss='categorical_crossentropy',\n",
        "                metrics='accuracy')\n",
        "\n",
        "\n",
        "checkpoint_cb = keras.callbacks.ModelCheckpoint('best-model.h5',\n",
        "                                                  save_best_only=True)\n",
        "early_stopping_cb = keras.callbacks.EarlyStopping(patience=5,\n",
        "                                                    restore_best_weights=True)\n",
        "train_xs = [train_category_xs,train_numeric_xs]\n",
        "\n",
        "history = model1_8.fit(x=train_xs, y=train_ys,\n",
        "            batch_size=1028, epochs=100,\n",
        "            validation_split=0.1,\n",
        "            verbose=1,\n",
        "            callbacks=[checkpoint_cb, early_stopping_cb])"
      ],
      "metadata": {
        "colab": {
          "base_uri": "https://localhost:8080/"
        },
        "id": "ZIKetY74e_OM",
        "outputId": "9ef40c40-68c4-4da6-a5f1-2aeb2060aeeb"
      },
      "execution_count": null,
      "outputs": [
        {
          "output_type": "stream",
          "name": "stdout",
          "text": [
            "Epoch 1/100\n",
            "1425/1425 [==============================] - 8s 5ms/step - loss: 1.1153 - accuracy: 0.6589 - val_loss: 0.8813 - val_accuracy: 0.7144\n",
            "Epoch 2/100\n",
            "1425/1425 [==============================] - 5s 4ms/step - loss: 0.9829 - accuracy: 0.6818 - val_loss: 0.8654 - val_accuracy: 0.7187\n",
            "Epoch 3/100\n",
            "1425/1425 [==============================] - 6s 4ms/step - loss: 0.9744 - accuracy: 0.6839 - val_loss: 0.8576 - val_accuracy: 0.7191\n",
            "Epoch 4/100\n",
            "1425/1425 [==============================] - 5s 4ms/step - loss: 0.9721 - accuracy: 0.6842 - val_loss: 0.8584 - val_accuracy: 0.7210\n",
            "Epoch 5/100\n",
            "1425/1425 [==============================] - 6s 4ms/step - loss: 0.9716 - accuracy: 0.6843 - val_loss: 0.8560 - val_accuracy: 0.7204\n",
            "Epoch 6/100\n",
            "1425/1425 [==============================] - 5s 4ms/step - loss: 0.9704 - accuracy: 0.6846 - val_loss: 0.8641 - val_accuracy: 0.7204\n",
            "Epoch 7/100\n",
            "1425/1425 [==============================] - 5s 4ms/step - loss: 0.9708 - accuracy: 0.6844 - val_loss: 0.8541 - val_accuracy: 0.7206\n",
            "Epoch 8/100\n",
            "1425/1425 [==============================] - 6s 4ms/step - loss: 0.9714 - accuracy: 0.6843 - val_loss: 0.8615 - val_accuracy: 0.7211\n",
            "Epoch 9/100\n",
            "1425/1425 [==============================] - 5s 4ms/step - loss: 0.9700 - accuracy: 0.6847 - val_loss: 0.8529 - val_accuracy: 0.7217\n",
            "Epoch 10/100\n",
            "1425/1425 [==============================] - 6s 4ms/step - loss: 0.9698 - accuracy: 0.6841 - val_loss: 0.8570 - val_accuracy: 0.7208\n",
            "Epoch 11/100\n",
            "1425/1425 [==============================] - 5s 4ms/step - loss: 0.9696 - accuracy: 0.6845 - val_loss: 0.8633 - val_accuracy: 0.7209\n",
            "Epoch 12/100\n",
            "1425/1425 [==============================] - 6s 4ms/step - loss: 0.9696 - accuracy: 0.6852 - val_loss: 0.8466 - val_accuracy: 0.7216\n",
            "Epoch 13/100\n",
            "1425/1425 [==============================] - 5s 4ms/step - loss: 0.9708 - accuracy: 0.6845 - val_loss: 0.8585 - val_accuracy: 0.7186\n",
            "Epoch 14/100\n",
            "1425/1425 [==============================] - 5s 4ms/step - loss: 0.9705 - accuracy: 0.6848 - val_loss: 0.8512 - val_accuracy: 0.7229\n",
            "Epoch 15/100\n",
            "1425/1425 [==============================] - 6s 4ms/step - loss: 0.9703 - accuracy: 0.6846 - val_loss: 0.8535 - val_accuracy: 0.7212\n",
            "Epoch 16/100\n",
            "1425/1425 [==============================] - 6s 4ms/step - loss: 0.9699 - accuracy: 0.6844 - val_loss: 0.8499 - val_accuracy: 0.7233\n",
            "Epoch 17/100\n",
            "1425/1425 [==============================] - 7s 5ms/step - loss: 0.9700 - accuracy: 0.6849 - val_loss: 0.8619 - val_accuracy: 0.7106\n"
          ]
        }
      ]
    },
    {
      "cell_type": "code",
      "source": [
        "acc_lossplot(model1_8, 'model1_8')"
      ],
      "metadata": {
        "colab": {
          "base_uri": "https://localhost:8080/",
          "height": 508
        },
        "id": "c2epTOsDfKJs",
        "outputId": "310bd283-b693-4084-812d-01a4e406c051"
      },
      "execution_count": null,
      "outputs": [
        {
          "output_type": "stream",
          "name": "stdout",
          "text": [
            "12712/12712 [==============================] - 20s 2ms/step - loss: 0.8480 - accuracy: 0.7205\n",
            "딥러닝 모형의 정확도 : 72.051%\n"
          ]
        },
        {
          "output_type": "display_data",
          "data": {
            "text/plain": [
              "<Figure size 640x480 with 1 Axes>"
            ],
            "image/png": "[encoded data removed]"
          },
          "metadata": {}
        }
      ]
    },
    {
      "cell_type": "markdown",
      "source": [
        "### model1_9\n",
        "\n",
        "* 각 층의 뉴런 13개/배치 1028/학습률 0.001"
      ],
      "metadata": {
        "id": "g_2-w1o6fKRD"
      }
    },
    {
      "cell_type": "code",
      "source": [
        "model1_9 = model_builder(neuron_counts[0])"
      ],
      "metadata": {
        "id": "orjBQtQufMf0"
      },
      "execution_count": null,
      "outputs": []
    },
    {
      "cell_type": "code",
      "source": [
        "opt = Adam(learning_rate = 0.001)\n",
        "model1_9.compile(optimizer=opt,\n",
        "                loss='categorical_crossentropy',\n",
        "                metrics='accuracy')\n",
        "\n",
        "\n",
        "checkpoint_cb = keras.callbacks.ModelCheckpoint('best-model.h5',\n",
        "                                                  save_best_only=True)\n",
        "early_stopping_cb = keras.callbacks.EarlyStopping(patience=5,\n",
        "                                                    restore_best_weights=True)\n",
        "train_xs = [train_category_xs,train_numeric_xs]\n",
        "\n",
        "history = model1_9.fit(x=train_xs, y=train_ys,\n",
        "            batch_size=512, epochs=100,\n",
        "            validation_split=0.1,\n",
        "            verbose=1,\n",
        "            callbacks=[checkpoint_cb, early_stopping_cb])"
      ],
      "metadata": {
        "colab": {
          "base_uri": "https://localhost:8080/"
        },
        "id": "4LL2RblVfMiz",
        "outputId": "3429e6d1-92e0-4c0e-98c7-15f89a5bd875"
      },
      "execution_count": null,
      "outputs": [
        {
          "output_type": "stream",
          "name": "stdout",
          "text": [
            "Epoch 1/100\n",
            "2861/2861 [==============================] - 11s 3ms/step - loss: 1.3413 - accuracy: 0.6080 - val_loss: 0.9143 - val_accuracy: 0.7065\n",
            "Epoch 2/100\n",
            "2861/2861 [==============================] - 9s 3ms/step - loss: 1.0036 - accuracy: 0.6835 - val_loss: 0.8743 - val_accuracy: 0.7203\n",
            "Epoch 3/100\n",
            "2861/2861 [==============================] - 8s 3ms/step - loss: 0.9762 - accuracy: 0.6902 - val_loss: 0.8591 - val_accuracy: 0.7210\n",
            "Epoch 4/100\n",
            "2861/2861 [==============================] - 9s 3ms/step - loss: 0.9695 - accuracy: 0.6912 - val_loss: 0.8527 - val_accuracy: 0.7223\n",
            "Epoch 5/100\n",
            "2861/2861 [==============================] - 9s 3ms/step - loss: 0.9634 - accuracy: 0.6918 - val_loss: 0.8493 - val_accuracy: 0.7205\n",
            "Epoch 6/100\n",
            "2861/2861 [==============================] - 8s 3ms/step - loss: 0.9586 - accuracy: 0.6910 - val_loss: 0.8436 - val_accuracy: 0.7203\n",
            "Epoch 7/100\n",
            "2861/2861 [==============================] - 9s 3ms/step - loss: 0.9560 - accuracy: 0.6907 - val_loss: 0.8302 - val_accuracy: 0.7230\n",
            "Epoch 8/100\n",
            "2861/2861 [==============================] - 9s 3ms/step - loss: 0.9523 - accuracy: 0.6919 - val_loss: 0.8340 - val_accuracy: 0.7234\n",
            "Epoch 9/100\n",
            "2861/2861 [==============================] - 8s 3ms/step - loss: 0.9513 - accuracy: 0.6929 - val_loss: 0.8277 - val_accuracy: 0.7242\n",
            "Epoch 10/100\n",
            "2861/2861 [==============================] - 9s 3ms/step - loss: 0.9496 - accuracy: 0.6931 - val_loss: 0.8267 - val_accuracy: 0.7252\n",
            "Epoch 11/100\n",
            "2861/2861 [==============================] - 9s 3ms/step - loss: 0.9487 - accuracy: 0.6933 - val_loss: 0.8265 - val_accuracy: 0.7248\n",
            "Epoch 12/100\n",
            "2861/2861 [==============================] - 9s 3ms/step - loss: 0.9486 - accuracy: 0.6938 - val_loss: 0.8247 - val_accuracy: 0.7259\n",
            "Epoch 13/100\n",
            "2861/2861 [==============================] - 8s 3ms/step - loss: 0.9468 - accuracy: 0.6949 - val_loss: 0.8238 - val_accuracy: 0.7230\n",
            "Epoch 14/100\n",
            "2861/2861 [==============================] - 9s 3ms/step - loss: 0.9470 - accuracy: 0.6955 - val_loss: 0.8269 - val_accuracy: 0.7237\n",
            "Epoch 15/100\n",
            "2861/2861 [==============================] - 9s 3ms/step - loss: 0.9458 - accuracy: 0.6962 - val_loss: 0.8257 - val_accuracy: 0.7247\n",
            "Epoch 16/100\n",
            "2861/2861 [==============================] - 8s 3ms/step - loss: 0.9445 - accuracy: 0.6965 - val_loss: 0.8291 - val_accuracy: 0.7250\n",
            "Epoch 17/100\n",
            "2861/2861 [==============================] - 10s 3ms/step - loss: 0.9452 - accuracy: 0.6969 - val_loss: 0.8283 - val_accuracy: 0.7227\n",
            "Epoch 18/100\n",
            "2861/2861 [==============================] - 9s 3ms/step - loss: 0.9448 - accuracy: 0.6970 - val_loss: 0.8286 - val_accuracy: 0.7229\n"
          ]
        }
      ]
    },
    {
      "cell_type": "code",
      "source": [
        "acc_lossplot(model1_9, 'model1_9')"
      ],
      "metadata": {
        "colab": {
          "base_uri": "https://localhost:8080/",
          "height": 508
        },
        "id": "vpaYPj3ofMpk",
        "outputId": "46fc1a5c-e925-4696-ce3c-e51c9714cab8"
      },
      "execution_count": null,
      "outputs": [
        {
          "output_type": "stream",
          "name": "stdout",
          "text": [
            "12712/12712 [==============================] - 19s 2ms/step - loss: 0.8256 - accuracy: 0.7218\n",
            "딥러닝 모형의 정확도 : 72.184%\n"
          ]
        },
        {
          "output_type": "display_data",
          "data": {
            "text/plain": [
              "<Figure size 640x480 with 1 Axes>"
            ],
            "image/png": "[encoded data removed]"
          },
          "metadata": {}
        }
      ]
    },
    {
      "cell_type": "markdown",
      "source": [
        "### model2\n",
        "\n",
        "* 각 층의 뉴런 50개/batch=512/lr = 0.001\n"
      ],
      "metadata": {
        "id": "YRSjSPVonZ7_"
      }
    },
    {
      "cell_type": "code",
      "source": [
        "model2 = model_builder(neuron_counts[1])\n",
        "model3 = model_builder(neuron_counts[2])"
      ],
      "metadata": {
        "id": "ei72Dgthm3I3"
      },
      "execution_count": null,
      "outputs": []
    },
    {
      "cell_type": "code",
      "source": [
        "model2.summary()"
      ],
      "metadata": {
        "colab": {
          "base_uri": "https://localhost:8080/"
        },
        "id": "7PWQLErToeRN",
        "outputId": "7e4a91c0-09e7-41f1-c08a-8f77b7f86137"
      },
      "execution_count": null,
      "outputs": [
        {
          "output_type": "stream",
          "name": "stdout",
          "text": [
            "Model: \"model_27\"\n",
            "__________________________________________________________________________________________________\n",
            " Layer (type)                   Output Shape         Param #     Connected to                     \n",
            "==================================================================================================\n",
            " input_5 (InputLayer)           [(None, 17)]         0           []                               \n",
            "                                                                                                  \n",
            " tf.__operators__.getitem_3 (Sl  (None,)             0           ['input_5[0][0]']                \n",
            " icingOpLambda)                                                                                   \n",
            "                                                                                                  \n",
            " tf.__operators__.getitem_4 (Sl  (None,)             0           ['input_5[0][0]']                \n",
            " icingOpLambda)                                                                                   \n",
            "                                                                                                  \n",
            " tf.__operators__.getitem_5 (Sl  (None,)             0           ['input_5[0][0]']                \n",
            " icingOpLambda)                                                                                   \n",
            "                                                                                                  \n",
            " Tr_Pref_Name_embed (Embedding)  (None, 3)           141         ['tf.__operators__.getitem_3[0][0\n",
            "                                                                 ]']                              \n",
            "                                                                                                  \n",
            " Tr_small_area_name_embed (Embe  (None, 3)           165         ['tf.__operators__.getitem_4[0][0\n",
            " dding)                                                          ]']                              \n",
            "                                                                                                  \n",
            " usable_date_sum_embed (Embeddi  (None, 3)           30          ['tf.__operators__.getitem_5[0][0\n",
            " ng)                                                             ]']                              \n",
            "                                                                                                  \n",
            " input_6 (InputLayer)           [(None, 2)]          0           []                               \n",
            "                                                                                                  \n",
            " embed_concat (Concatenate)     (None, 11)           0           ['Tr_Pref_Name_embed[0][0]',     \n",
            "                                                                  'Tr_small_area_name_embed[0][0]'\n",
            "                                                                 , 'usable_date_sum_embed[0][0]', \n",
            "                                                                  'input_6[0][0]']                \n",
            "                                                                                                  \n",
            " hidden1 (Dense)                (None, 50)           600         ['embed_concat[0][0]']           \n",
            "                                                                                                  \n",
            " dropout1 (Dropout)             (None, 50)           0           ['hidden1[0][0]']                \n",
            "                                                                                                  \n",
            " hidden2 (Dense)                (None, 50)           2550        ['dropout1[0][0]']               \n",
            "                                                                                                  \n",
            " dropout2 (Dropout)             (None, 50)           0           ['hidden2[0][0]']                \n",
            "                                                                                                  \n",
            " output (Dense)                 (None, 13)           663         ['dropout2[0][0]']               \n",
            "                                                                                                  \n",
            "==================================================================================================\n",
            "Total params: 4,149\n",
            "Trainable params: 4,149\n",
            "Non-trainable params: 0\n",
            "__________________________________________________________________________________________________\n"
          ]
        }
      ]
    },
    {
      "cell_type": "code",
      "source": [
        "opt = Adam(learning_rate = 0.001)\n",
        "model2.compile(optimizer=opt,\n",
        "                loss='categorical_crossentropy',\n",
        "                metrics='accuracy')\n",
        "\n",
        "\n",
        "checkpoint_cb = keras.callbacks.ModelCheckpoint('best-model.h5',\n",
        "                                                  save_best_only=True)\n",
        "early_stopping_cb = keras.callbacks.EarlyStopping(patience=5,\n",
        "                                                    restore_best_weights=True)\n",
        "train_xs = [train_category_xs,train_numeric_xs]\n",
        "\n",
        "history = model2.fit(x=train_xs, y=train_ys,\n",
        "            batch_size=512, epochs=100,\n",
        "            validation_split=0.1,\n",
        "            verbose=1,\n",
        "            callbacks=[checkpoint_cb, early_stopping_cb])"
      ],
      "metadata": {
        "colab": {
          "base_uri": "https://localhost:8080/"
        },
        "id": "gWefwAXknrDN",
        "outputId": "b93f2bea-b5ae-4cf1-eb5e-07bd2765cdf7"
      },
      "execution_count": null,
      "outputs": [
        {
          "output_type": "stream",
          "name": "stdout",
          "text": [
            "Epoch 1/100\n",
            "2861/2861 [==============================] - 20s 7ms/step - loss: 1.0481 - accuracy: 0.6936 - val_loss: 0.7631 - val_accuracy: 0.7400\n",
            "Epoch 2/100\n",
            "2861/2861 [==============================] - 15s 5ms/step - loss: 0.7940 - accuracy: 0.7358 - val_loss: 0.7078 - val_accuracy: 0.7499\n",
            "Epoch 3/100\n",
            "2861/2861 [==============================] - 14s 5ms/step - loss: 0.7569 - accuracy: 0.7447 - val_loss: 0.6871 - val_accuracy: 0.7618\n",
            "Epoch 4/100\n",
            "2861/2861 [==============================] - 13s 5ms/step - loss: 0.7448 - accuracy: 0.7482 - val_loss: 0.6849 - val_accuracy: 0.7639\n",
            "Epoch 5/100\n",
            "2861/2861 [==============================] - 13s 5ms/step - loss: 0.7405 - accuracy: 0.7498 - val_loss: 0.6812 - val_accuracy: 0.7657\n",
            "Epoch 6/100\n",
            "2861/2861 [==============================] - 12s 4ms/step - loss: 0.7357 - accuracy: 0.7508 - val_loss: 0.6741 - val_accuracy: 0.7682\n",
            "Epoch 7/100\n",
            "2861/2861 [==============================] - 13s 5ms/step - loss: 0.7339 - accuracy: 0.7514 - val_loss: 0.6723 - val_accuracy: 0.7680\n",
            "Epoch 8/100\n",
            "2861/2861 [==============================] - 13s 4ms/step - loss: 0.7320 - accuracy: 0.7521 - val_loss: 0.6746 - val_accuracy: 0.7685\n",
            "Epoch 9/100\n",
            "2861/2861 [==============================] - 13s 4ms/step - loss: 0.7296 - accuracy: 0.7526 - val_loss: 0.6725 - val_accuracy: 0.7686\n",
            "Epoch 10/100\n",
            "2861/2861 [==============================] - 14s 5ms/step - loss: 0.7284 - accuracy: 0.7529 - val_loss: 0.6754 - val_accuracy: 0.7610\n",
            "Epoch 11/100\n",
            "2861/2861 [==============================] - 17s 6ms/step - loss: 0.7278 - accuracy: 0.7530 - val_loss: 0.6693 - val_accuracy: 0.7701\n",
            "Epoch 12/100\n",
            "2861/2861 [==============================] - 19s 7ms/step - loss: 0.7266 - accuracy: 0.7531 - val_loss: 0.6735 - val_accuracy: 0.7633\n",
            "Epoch 13/100\n",
            "2861/2861 [==============================] - 13s 4ms/step - loss: 0.7257 - accuracy: 0.7536 - val_loss: 0.6704 - val_accuracy: 0.7621\n",
            "Epoch 14/100\n",
            "2861/2861 [==============================] - 15s 5ms/step - loss: 0.7247 - accuracy: 0.7536 - val_loss: 0.6692 - val_accuracy: 0.7663\n",
            "Epoch 15/100\n",
            "2861/2861 [==============================] - 13s 5ms/step - loss: 0.7251 - accuracy: 0.7536 - val_loss: 0.6707 - val_accuracy: 0.7672\n",
            "Epoch 16/100\n",
            "2861/2861 [==============================] - 13s 4ms/step - loss: 0.7240 - accuracy: 0.7534 - val_loss: 0.6679 - val_accuracy: 0.7668\n",
            "Epoch 17/100\n",
            "2861/2861 [==============================] - 13s 5ms/step - loss: 0.7231 - accuracy: 0.7535 - val_loss: 0.6703 - val_accuracy: 0.7674\n",
            "Epoch 18/100\n",
            "2861/2861 [==============================] - 13s 5ms/step - loss: 0.7229 - accuracy: 0.7537 - val_loss: 0.6677 - val_accuracy: 0.7668\n",
            "Epoch 19/100\n",
            "2861/2861 [==============================] - 13s 4ms/step - loss: 0.7225 - accuracy: 0.7537 - val_loss: 0.6726 - val_accuracy: 0.7674\n",
            "Epoch 20/100\n",
            "2861/2861 [==============================] - 13s 4ms/step - loss: 0.7217 - accuracy: 0.7539 - val_loss: 0.6695 - val_accuracy: 0.7653\n",
            "Epoch 21/100\n",
            "2861/2861 [==============================] - 16s 5ms/step - loss: 0.7214 - accuracy: 0.7538 - val_loss: 0.6643 - val_accuracy: 0.7680\n",
            "Epoch 22/100\n",
            "2861/2861 [==============================] - 13s 4ms/step - loss: 0.7205 - accuracy: 0.7542 - val_loss: 0.6642 - val_accuracy: 0.7693\n",
            "Epoch 23/100\n",
            "2861/2861 [==============================] - 13s 5ms/step - loss: 0.7201 - accuracy: 0.7544 - val_loss: 0.6646 - val_accuracy: 0.7692\n",
            "Epoch 24/100\n",
            "2861/2861 [==============================] - 13s 5ms/step - loss: 0.7201 - accuracy: 0.7541 - val_loss: 0.6627 - val_accuracy: 0.7685\n",
            "Epoch 25/100\n",
            "2861/2861 [==============================] - 13s 5ms/step - loss: 0.7198 - accuracy: 0.7545 - val_loss: 0.6603 - val_accuracy: 0.7703\n",
            "Epoch 26/100\n",
            "2861/2861 [==============================] - 13s 4ms/step - loss: 0.7190 - accuracy: 0.7547 - val_loss: 0.6615 - val_accuracy: 0.7686\n",
            "Epoch 27/100\n",
            "2861/2861 [==============================] - 13s 4ms/step - loss: 0.7194 - accuracy: 0.7547 - val_loss: 0.6642 - val_accuracy: 0.7683\n",
            "Epoch 28/100\n",
            "2861/2861 [==============================] - 13s 4ms/step - loss: 0.7189 - accuracy: 0.7553 - val_loss: 0.6701 - val_accuracy: 0.7629\n",
            "Epoch 29/100\n",
            "2861/2861 [==============================] - 13s 4ms/step - loss: 0.7183 - accuracy: 0.7556 - val_loss: 0.6619 - val_accuracy: 0.7711\n",
            "Epoch 30/100\n",
            "2861/2861 [==============================] - 12s 4ms/step - loss: 0.7188 - accuracy: 0.7548 - val_loss: 0.6650 - val_accuracy: 0.7695\n"
          ]
        }
      ]
    },
    {
      "cell_type": "code",
      "source": [
        "acc_lossplot(model2, 'model2')"
      ],
      "metadata": {
        "colab": {
          "base_uri": "https://localhost:8080/",
          "height": 508
        },
        "id": "Vj5oVxgBnwZ2",
        "outputId": "bd45edf4-65f6-44a7-d918-96416fb654d9"
      },
      "execution_count": null,
      "outputs": [
        {
          "output_type": "stream",
          "name": "stdout",
          "text": [
            "12712/12712 [==============================] - 20s 2ms/step - loss: 0.6617 - accuracy: 0.7695\n",
            "딥러닝 모형의 정확도 : 76.947%\n"
          ]
        },
        {
          "output_type": "display_data",
          "data": {
            "text/plain": [
              "<Figure size 640x480 with 1 Axes>"
            ],
            "image/png": "[encoded data removed]"
          },
          "metadata": {}
        }
      ]
    },
    {
      "cell_type": "markdown",
      "source": [
        "### model3\n",
        "\n",
        "* 각 층의 뉴런의 개수 100/batch=512/lr = 0.001"
      ],
      "metadata": {
        "id": "4sUmJzLFnyg3"
      }
    },
    {
      "cell_type": "code",
      "source": [
        "model3.summary()"
      ],
      "metadata": {
        "colab": {
          "base_uri": "https://localhost:8080/"
        },
        "id": "DkvBFdzho0zG",
        "outputId": "b4770e41-6c82-479b-e03f-71d9821f4a7c"
      },
      "execution_count": null,
      "outputs": [
        {
          "output_type": "stream",
          "name": "stdout",
          "text": [
            "Model: \"model_28\"\n",
            "__________________________________________________________________________________________________\n",
            " Layer (type)                   Output Shape         Param #     Connected to                     \n",
            "==================================================================================================\n",
            " input_5 (InputLayer)           [(None, 17)]         0           []                               \n",
            "                                                                                                  \n",
            " tf.__operators__.getitem_3 (Sl  (None,)             0           ['input_5[0][0]']                \n",
            " icingOpLambda)                                                                                   \n",
            "                                                                                                  \n",
            " tf.__operators__.getitem_4 (Sl  (None,)             0           ['input_5[0][0]']                \n",
            " icingOpLambda)                                                                                   \n",
            "                                                                                                  \n",
            " tf.__operators__.getitem_5 (Sl  (None,)             0           ['input_5[0][0]']                \n",
            " icingOpLambda)                                                                                   \n",
            "                                                                                                  \n",
            " Tr_Pref_Name_embed (Embedding)  (None, 3)           141         ['tf.__operators__.getitem_3[0][0\n",
            "                                                                 ]']                              \n",
            "                                                                                                  \n",
            " Tr_small_area_name_embed (Embe  (None, 3)           165         ['tf.__operators__.getitem_4[0][0\n",
            " dding)                                                          ]']                              \n",
            "                                                                                                  \n",
            " usable_date_sum_embed (Embeddi  (None, 3)           30          ['tf.__operators__.getitem_5[0][0\n",
            " ng)                                                             ]']                              \n",
            "                                                                                                  \n",
            " input_6 (InputLayer)           [(None, 2)]          0           []                               \n",
            "                                                                                                  \n",
            " embed_concat (Concatenate)     (None, 11)           0           ['Tr_Pref_Name_embed[0][0]',     \n",
            "                                                                  'Tr_small_area_name_embed[0][0]'\n",
            "                                                                 , 'usable_date_sum_embed[0][0]', \n",
            "                                                                  'input_6[0][0]']                \n",
            "                                                                                                  \n",
            " hidden1 (Dense)                (None, 100)          1200        ['embed_concat[0][0]']           \n",
            "                                                                                                  \n",
            " dropout1 (Dropout)             (None, 100)          0           ['hidden1[0][0]']                \n",
            "                                                                                                  \n",
            " hidden2 (Dense)                (None, 100)          10100       ['dropout1[0][0]']               \n",
            "                                                                                                  \n",
            " dropout2 (Dropout)             (None, 100)          0           ['hidden2[0][0]']                \n",
            "                                                                                                  \n",
            " output (Dense)                 (None, 13)           1313        ['dropout2[0][0]']               \n",
            "                                                                                                  \n",
            "==================================================================================================\n",
            "Total params: 12,949\n",
            "Trainable params: 12,949\n",
            "Non-trainable params: 0\n",
            "__________________________________________________________________________________________________\n"
          ]
        }
      ]
    },
    {
      "cell_type": "code",
      "source": [
        "opt = Adam(learning_rate = 0.001)\n",
        "model3.compile(optimizer=opt,\n",
        "                loss='categorical_crossentropy',\n",
        "                metrics='accuracy')\n",
        "\n",
        "\n",
        "checkpoint_cb = keras.callbacks.ModelCheckpoint('best-model.h5',\n",
        "                                                  save_best_only=True)\n",
        "early_stopping_cb = keras.callbacks.EarlyStopping(patience=5,\n",
        "                                                    restore_best_weights=True)\n",
        "train_xs = [train_category_xs,train_numeric_xs]\n",
        "\n",
        "history = model3.fit(x=train_xs, y=train_ys,\n",
        "            batch_size=512, epochs=100,\n",
        "            validation_split=0.1,\n",
        "            verbose=1,\n",
        "            callbacks=[checkpoint_cb, early_stopping_cb])"
      ],
      "metadata": {
        "colab": {
          "base_uri": "https://localhost:8080/"
        },
        "id": "L4GCyl50oQa4",
        "outputId": "18be46aa-3e21-402c-a5f8-e5f21d154527"
      },
      "execution_count": null,
      "outputs": [
        {
          "output_type": "stream",
          "name": "stdout",
          "text": [
            "Epoch 1/100\n",
            "2861/2861 [==============================] - 22s 7ms/step - loss: 0.9004 - accuracy: 0.7174 - val_loss: 0.6918 - val_accuracy: 0.7622\n",
            "Epoch 2/100\n",
            "2861/2861 [==============================] - 18s 6ms/step - loss: 0.7227 - accuracy: 0.7534 - val_loss: 0.6627 - val_accuracy: 0.7697\n",
            "Epoch 3/100\n",
            "2861/2861 [==============================] - 20s 7ms/step - loss: 0.7000 - accuracy: 0.7595 - val_loss: 0.6497 - val_accuracy: 0.7706\n",
            "Epoch 4/100\n",
            "2861/2861 [==============================] - 19s 7ms/step - loss: 0.6911 - accuracy: 0.7625 - val_loss: 0.6428 - val_accuracy: 0.7761\n",
            "Epoch 5/100\n",
            "2861/2861 [==============================] - 20s 7ms/step - loss: 0.6865 - accuracy: 0.7642 - val_loss: 0.6412 - val_accuracy: 0.7743\n",
            "Epoch 6/100\n",
            "2861/2861 [==============================] - 19s 7ms/step - loss: 0.6838 - accuracy: 0.7650 - val_loss: 0.6355 - val_accuracy: 0.7775\n",
            "Epoch 7/100\n",
            "2861/2861 [==============================] - 20s 7ms/step - loss: 0.6812 - accuracy: 0.7662 - val_loss: 0.6374 - val_accuracy: 0.7787\n",
            "Epoch 8/100\n",
            "2861/2861 [==============================] - 20s 7ms/step - loss: 0.6794 - accuracy: 0.7669 - val_loss: 0.6355 - val_accuracy: 0.7780\n",
            "Epoch 9/100\n",
            "2861/2861 [==============================] - 20s 7ms/step - loss: 0.6786 - accuracy: 0.7672 - val_loss: 0.6322 - val_accuracy: 0.7792\n",
            "Epoch 10/100\n",
            "2861/2861 [==============================] - 19s 7ms/step - loss: 0.6775 - accuracy: 0.7678 - val_loss: 0.6300 - val_accuracy: 0.7802\n",
            "Epoch 11/100\n",
            "2861/2861 [==============================] - 21s 7ms/step - loss: 0.6756 - accuracy: 0.7681 - val_loss: 0.6306 - val_accuracy: 0.7802\n",
            "Epoch 12/100\n",
            "2861/2861 [==============================] - 21s 7ms/step - loss: 0.6743 - accuracy: 0.7685 - val_loss: 0.6280 - val_accuracy: 0.7810\n",
            "Epoch 13/100\n",
            "2861/2861 [==============================] - 21s 7ms/step - loss: 0.6738 - accuracy: 0.7689 - val_loss: 0.6304 - val_accuracy: 0.7784\n",
            "Epoch 14/100\n",
            "2861/2861 [==============================] - 20s 7ms/step - loss: 0.6728 - accuracy: 0.7694 - val_loss: 0.6263 - val_accuracy: 0.7801\n",
            "Epoch 15/100\n",
            "2861/2861 [==============================] - 19s 7ms/step - loss: 0.6725 - accuracy: 0.7695 - val_loss: 0.6274 - val_accuracy: 0.7802\n",
            "Epoch 16/100\n",
            "2861/2861 [==============================] - 20s 7ms/step - loss: 0.6721 - accuracy: 0.7699 - val_loss: 0.6276 - val_accuracy: 0.7800\n",
            "Epoch 17/100\n",
            "2861/2861 [==============================] - 19s 6ms/step - loss: 0.6716 - accuracy: 0.7698 - val_loss: 0.6259 - val_accuracy: 0.7815\n",
            "Epoch 18/100\n",
            "2861/2861 [==============================] - 20s 7ms/step - loss: 0.6709 - accuracy: 0.7704 - val_loss: 0.6249 - val_accuracy: 0.7811\n",
            "Epoch 19/100\n",
            "2861/2861 [==============================] - 19s 7ms/step - loss: 0.6706 - accuracy: 0.7701 - val_loss: 0.6266 - val_accuracy: 0.7815\n",
            "Epoch 20/100\n",
            "2861/2861 [==============================] - 21s 7ms/step - loss: 0.6700 - accuracy: 0.7704 - val_loss: 0.6235 - val_accuracy: 0.7833\n",
            "Epoch 21/100\n",
            "2861/2861 [==============================] - 20s 7ms/step - loss: 0.6701 - accuracy: 0.7708 - val_loss: 0.6232 - val_accuracy: 0.7832\n",
            "Epoch 22/100\n",
            "2861/2861 [==============================] - 20s 7ms/step - loss: 0.6693 - accuracy: 0.7707 - val_loss: 0.6234 - val_accuracy: 0.7823\n",
            "Epoch 23/100\n",
            "2861/2861 [==============================] - 18s 6ms/step - loss: 0.6696 - accuracy: 0.7709 - val_loss: 0.6226 - val_accuracy: 0.7831\n",
            "Epoch 24/100\n",
            "2861/2861 [==============================] - 20s 7ms/step - loss: 0.6690 - accuracy: 0.7709 - val_loss: 0.6253 - val_accuracy: 0.7809\n",
            "Epoch 25/100\n",
            "2861/2861 [==============================] - 19s 7ms/step - loss: 0.6692 - accuracy: 0.7708 - val_loss: 0.6221 - val_accuracy: 0.7831\n",
            "Epoch 26/100\n",
            "2861/2861 [==============================] - 20s 7ms/step - loss: 0.6687 - accuracy: 0.7712 - val_loss: 0.6234 - val_accuracy: 0.7819\n",
            "Epoch 27/100\n",
            "2861/2861 [==============================] - 19s 7ms/step - loss: 0.6684 - accuracy: 0.7711 - val_loss: 0.6203 - val_accuracy: 0.7846\n",
            "Epoch 28/100\n",
            "2861/2861 [==============================] - 20s 7ms/step - loss: 0.6685 - accuracy: 0.7710 - val_loss: 0.6248 - val_accuracy: 0.7817\n",
            "Epoch 29/100\n",
            "2861/2861 [==============================] - 19s 7ms/step - loss: 0.6680 - accuracy: 0.7712 - val_loss: 0.6233 - val_accuracy: 0.7828\n",
            "Epoch 30/100\n",
            "2861/2861 [==============================] - 24s 9ms/step - loss: 0.6683 - accuracy: 0.7712 - val_loss: 0.6227 - val_accuracy: 0.7838\n",
            "Epoch 31/100\n",
            "2861/2861 [==============================] - 21s 7ms/step - loss: 0.6687 - accuracy: 0.7710 - val_loss: 0.6235 - val_accuracy: 0.7818\n",
            "Epoch 32/100\n",
            "2861/2861 [==============================] - 20s 7ms/step - loss: 0.6682 - accuracy: 0.7711 - val_loss: 0.6226 - val_accuracy: 0.7839\n"
          ]
        }
      ]
    },
    {
      "cell_type": "code",
      "source": [
        "acc_lossplot(model3, 'model3')"
      ],
      "metadata": {
        "colab": {
          "base_uri": "https://localhost:8080/",
          "height": 508
        },
        "id": "m0cgk2DmoQeG",
        "outputId": "3577c628-4d2b-4ad0-ff0c-0100292d6e48"
      },
      "execution_count": null,
      "outputs": [
        {
          "output_type": "stream",
          "name": "stdout",
          "text": [
            "12712/12712 [==============================] - 21s 2ms/step - loss: 0.6214 - accuracy: 0.7829\n",
            "딥러닝 모형의 정확도 : 78.289%\n"
          ]
        },
        {
          "output_type": "display_data",
          "data": {
            "text/plain": [
              "<Figure size 640x480 with 1 Axes>"
            ],
            "image/png": "[encoded data removed]"
          },
          "metadata": {}
        }
      ]
    },
    {
      "cell_type": "code",
      "source": [
        "# model1_1.save('model1_1.h5')\n",
        "# model1_2.save('model1_2.h5')\n",
        "# model1_3.save('model1_3.h5')\n",
        "# model1_4.save('model1_4.h5')\n",
        "# model1_5.save('model1_5.h5')\n",
        "# model1_6.save('model1_6.h5')\n",
        "# model1_7.save('model1_7.h5')\n",
        "# model1_8.save('model1_8.h5')\n",
        "# model1_9.save('model1_9.h5')\n",
        "\n",
        "# model2.save('model2.h5')\n",
        "# model3.save('model3.h5')"
      ],
      "metadata": {
        "id": "qfI20oavuk4Y"
      },
      "execution_count": 159,
      "outputs": []
    }
  ],
  "metadata": {
    "colab": {
      "cell_execution_strategy": "setup",
      "provenance": [],
      "collapsed_sections": [
        "wZ1NlBQUjkCZ",
        "d3VaJvhecw_W",
        "BL2DeKmiczJG",
        "SSh5bU0Lc222",
        "eFh_gmBgc7kJ",
        "yaJI3sUgc_sV",
        "hZ5QKmfXdBxW",
        "baMQSBy-fGj3"
      ]
    },
    "kernelspec": {
      "display_name": "Python 3",
      "name": "python3"
    },
    "language_info": {
      "name": "python"
    }
  },
  "nbformat": 4,
  "nbformat_minor": 0
}